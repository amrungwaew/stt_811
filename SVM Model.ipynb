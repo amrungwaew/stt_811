{
 "cells": [
  {
   "cell_type": "code",
   "execution_count": 1,
   "metadata": {},
   "outputs": [],
   "source": [
    "import pandas as pd\n",
    "import numpy as np\n",
    "from sklearn.model_selection import train_test_split\n",
    "from sklearn import svm\n",
    "import warnings \n",
    "warnings.filterwarnings('ignore')\n",
    "from flaml import logger, logging\n",
    "logger.setLevel(logging.WARNING)\n",
    "import random"
   ]
  },
  {
   "cell_type": "code",
   "execution_count": 250,
   "metadata": {},
   "outputs": [],
   "source": [
    "imp  = pd.read_csv(\"Imputed_scaled.csv\")\n",
    "miss = pd.read_csv(\"Missingness_0_scaled.csv\")\n",
    "smote = pd.read_csv(\"Smote_scaled.csv\")\n",
    "TEST = pd.read_csv(\"unlabeled.csv\")"
   ]
  },
  {
   "attachments": {},
   "cell_type": "markdown",
   "metadata": {},
   "source": [
    "**In order to make sure the colnames are consistent across dfs**"
   ]
  },
  {
   "cell_type": "code",
   "execution_count": 277,
   "metadata": {},
   "outputs": [
    {
     "data": {
      "text/plain": [
       "Index(['age', 'bmi', 'height', 'pre_icu_los_days', 'weight', 'albumin_apache',\n",
       "       'apache_2_diagnosis', 'apache_3j_diagnosis', 'arf_apache',\n",
       "       'bilirubin_apache',\n",
       "       ...\n",
       "       'apache_4a_icu_death_prob', 'aids', 'cirrhosis', 'diabetes_mellitus',\n",
       "       'hepatic_failure', 'immunosuppression', 'leukemia', 'lymphoma',\n",
       "       'solid_tumor_with_metastasis', 'hospital_death'],\n",
       "      dtype='object', length=171)"
      ]
     },
     "execution_count": 277,
     "metadata": {},
     "output_type": "execute_result"
    }
   ],
   "source": [
    "cols = imp.columns\n",
    "cols = cols.drop(cols[0])\n",
    "cols"
   ]
  },
  {
   "attachments": {},
   "cell_type": "markdown",
   "metadata": {},
   "source": [
    "**X and y from the testing unlabelled data**"
   ]
  },
  {
   "cell_type": "code",
   "execution_count": 381,
   "metadata": {},
   "outputs": [],
   "source": [
    "test_X = TEST[cols]"
   ]
  },
  {
   "cell_type": "code",
   "execution_count": 385,
   "metadata": {},
   "outputs": [],
   "source": [
    "testing_X = test_X.drop('hospital_death',axis=1)"
   ]
  },
  {
   "cell_type": "code",
   "execution_count": 386,
   "metadata": {},
   "outputs": [
    {
     "data": {
      "text/html": [
       "<div>\n",
       "<style scoped>\n",
       "    .dataframe tbody tr th:only-of-type {\n",
       "        vertical-align: middle;\n",
       "    }\n",
       "\n",
       "    .dataframe tbody tr th {\n",
       "        vertical-align: top;\n",
       "    }\n",
       "\n",
       "    .dataframe thead th {\n",
       "        text-align: right;\n",
       "    }\n",
       "</style>\n",
       "<table border=\"1\" class=\"dataframe\">\n",
       "  <thead>\n",
       "    <tr style=\"text-align: right;\">\n",
       "      <th></th>\n",
       "      <th>age</th>\n",
       "      <th>bmi</th>\n",
       "      <th>height</th>\n",
       "      <th>pre_icu_los_days</th>\n",
       "      <th>weight</th>\n",
       "      <th>albumin_apache</th>\n",
       "      <th>apache_2_diagnosis</th>\n",
       "      <th>apache_3j_diagnosis</th>\n",
       "      <th>arf_apache</th>\n",
       "      <th>bilirubin_apache</th>\n",
       "      <th>...</th>\n",
       "      <th>apache_4a_hospital_death_prob</th>\n",
       "      <th>apache_4a_icu_death_prob</th>\n",
       "      <th>aids</th>\n",
       "      <th>cirrhosis</th>\n",
       "      <th>diabetes_mellitus</th>\n",
       "      <th>hepatic_failure</th>\n",
       "      <th>immunosuppression</th>\n",
       "      <th>leukemia</th>\n",
       "      <th>lymphoma</th>\n",
       "      <th>solid_tumor_with_metastasis</th>\n",
       "    </tr>\n",
       "  </thead>\n",
       "  <tbody>\n",
       "    <tr>\n",
       "      <th>0</th>\n",
       "      <td>56.0</td>\n",
       "      <td>21.102439</td>\n",
       "      <td>180.3</td>\n",
       "      <td>0.104167</td>\n",
       "      <td>68.60</td>\n",
       "      <td>3.7</td>\n",
       "      <td>301.0</td>\n",
       "      <td>405.01</td>\n",
       "      <td>0.0</td>\n",
       "      <td>NaN</td>\n",
       "      <td>...</td>\n",
       "      <td>0.13</td>\n",
       "      <td>0.08</td>\n",
       "      <td>0.0</td>\n",
       "      <td>0.0</td>\n",
       "      <td>0.0</td>\n",
       "      <td>0.0</td>\n",
       "      <td>0.0</td>\n",
       "      <td>0.0</td>\n",
       "      <td>0.0</td>\n",
       "      <td>0.0</td>\n",
       "    </tr>\n",
       "    <tr>\n",
       "      <th>1</th>\n",
       "      <td>NaN</td>\n",
       "      <td>19.500595</td>\n",
       "      <td>145.0</td>\n",
       "      <td>0.230556</td>\n",
       "      <td>41.00</td>\n",
       "      <td>NaN</td>\n",
       "      <td>217.0</td>\n",
       "      <td>1502.02</td>\n",
       "      <td>0.0</td>\n",
       "      <td>NaN</td>\n",
       "      <td>...</td>\n",
       "      <td>0.09</td>\n",
       "      <td>0.03</td>\n",
       "      <td>0.0</td>\n",
       "      <td>0.0</td>\n",
       "      <td>0.0</td>\n",
       "      <td>0.0</td>\n",
       "      <td>0.0</td>\n",
       "      <td>0.0</td>\n",
       "      <td>0.0</td>\n",
       "      <td>0.0</td>\n",
       "    </tr>\n",
       "    <tr>\n",
       "      <th>2</th>\n",
       "      <td>66.0</td>\n",
       "      <td>32.518596</td>\n",
       "      <td>170.2</td>\n",
       "      <td>0.140972</td>\n",
       "      <td>94.20</td>\n",
       "      <td>NaN</td>\n",
       "      <td>302.0</td>\n",
       "      <td>1208.06</td>\n",
       "      <td>0.0</td>\n",
       "      <td>NaN</td>\n",
       "      <td>...</td>\n",
       "      <td>0.03</td>\n",
       "      <td>0.02</td>\n",
       "      <td>0.0</td>\n",
       "      <td>0.0</td>\n",
       "      <td>0.0</td>\n",
       "      <td>0.0</td>\n",
       "      <td>0.0</td>\n",
       "      <td>0.0</td>\n",
       "      <td>0.0</td>\n",
       "      <td>0.0</td>\n",
       "    </tr>\n",
       "    <tr>\n",
       "      <th>3</th>\n",
       "      <td>64.0</td>\n",
       "      <td>20.798520</td>\n",
       "      <td>182.8</td>\n",
       "      <td>0.002083</td>\n",
       "      <td>69.50</td>\n",
       "      <td>1.9</td>\n",
       "      <td>303.0</td>\n",
       "      <td>211.03</td>\n",
       "      <td>0.0</td>\n",
       "      <td>0.8</td>\n",
       "      <td>...</td>\n",
       "      <td>0.19</td>\n",
       "      <td>0.17</td>\n",
       "      <td>0.0</td>\n",
       "      <td>0.0</td>\n",
       "      <td>0.0</td>\n",
       "      <td>0.0</td>\n",
       "      <td>1.0</td>\n",
       "      <td>0.0</td>\n",
       "      <td>0.0</td>\n",
       "      <td>0.0</td>\n",
       "    </tr>\n",
       "    <tr>\n",
       "      <th>4</th>\n",
       "      <td>56.0</td>\n",
       "      <td>NaN</td>\n",
       "      <td>NaN</td>\n",
       "      <td>0.004861</td>\n",
       "      <td>66.40</td>\n",
       "      <td>NaN</td>\n",
       "      <td>217.0</td>\n",
       "      <td>1501.01</td>\n",
       "      <td>0.0</td>\n",
       "      <td>NaN</td>\n",
       "      <td>...</td>\n",
       "      <td>0.50</td>\n",
       "      <td>0.42</td>\n",
       "      <td>0.0</td>\n",
       "      <td>0.0</td>\n",
       "      <td>0.0</td>\n",
       "      <td>0.0</td>\n",
       "      <td>0.0</td>\n",
       "      <td>0.0</td>\n",
       "      <td>0.0</td>\n",
       "      <td>0.0</td>\n",
       "    </tr>\n",
       "    <tr>\n",
       "      <th>...</th>\n",
       "      <td>...</td>\n",
       "      <td>...</td>\n",
       "      <td>...</td>\n",
       "      <td>...</td>\n",
       "      <td>...</td>\n",
       "      <td>...</td>\n",
       "      <td>...</td>\n",
       "      <td>...</td>\n",
       "      <td>...</td>\n",
       "      <td>...</td>\n",
       "      <td>...</td>\n",
       "      <td>...</td>\n",
       "      <td>...</td>\n",
       "      <td>...</td>\n",
       "      <td>...</td>\n",
       "      <td>...</td>\n",
       "      <td>...</td>\n",
       "      <td>...</td>\n",
       "      <td>...</td>\n",
       "      <td>...</td>\n",
       "      <td>...</td>\n",
       "    </tr>\n",
       "    <tr>\n",
       "      <th>39303</th>\n",
       "      <td>35.0</td>\n",
       "      <td>35.038615</td>\n",
       "      <td>170.2</td>\n",
       "      <td>0.411111</td>\n",
       "      <td>101.50</td>\n",
       "      <td>NaN</td>\n",
       "      <td>218.0</td>\n",
       "      <td>1505.01</td>\n",
       "      <td>0.0</td>\n",
       "      <td>NaN</td>\n",
       "      <td>...</td>\n",
       "      <td>0.01</td>\n",
       "      <td>0.00</td>\n",
       "      <td>0.0</td>\n",
       "      <td>0.0</td>\n",
       "      <td>0.0</td>\n",
       "      <td>0.0</td>\n",
       "      <td>0.0</td>\n",
       "      <td>0.0</td>\n",
       "      <td>0.0</td>\n",
       "      <td>0.0</td>\n",
       "    </tr>\n",
       "    <tr>\n",
       "      <th>39304</th>\n",
       "      <td>63.0</td>\n",
       "      <td>29.352338</td>\n",
       "      <td>175.3</td>\n",
       "      <td>0.218056</td>\n",
       "      <td>90.20</td>\n",
       "      <td>NaN</td>\n",
       "      <td>124.0</td>\n",
       "      <td>305.02</td>\n",
       "      <td>0.0</td>\n",
       "      <td>NaN</td>\n",
       "      <td>...</td>\n",
       "      <td>0.08</td>\n",
       "      <td>0.05</td>\n",
       "      <td>0.0</td>\n",
       "      <td>0.0</td>\n",
       "      <td>0.0</td>\n",
       "      <td>0.0</td>\n",
       "      <td>0.0</td>\n",
       "      <td>0.0</td>\n",
       "      <td>0.0</td>\n",
       "      <td>0.0</td>\n",
       "    </tr>\n",
       "    <tr>\n",
       "      <th>39305</th>\n",
       "      <td>71.0</td>\n",
       "      <td>23.010381</td>\n",
       "      <td>170.0</td>\n",
       "      <td>0.003472</td>\n",
       "      <td>66.50</td>\n",
       "      <td>2.0</td>\n",
       "      <td>113.0</td>\n",
       "      <td>502.01</td>\n",
       "      <td>0.0</td>\n",
       "      <td>1.0</td>\n",
       "      <td>...</td>\n",
       "      <td>0.13</td>\n",
       "      <td>0.05</td>\n",
       "      <td>0.0</td>\n",
       "      <td>0.0</td>\n",
       "      <td>1.0</td>\n",
       "      <td>0.0</td>\n",
       "      <td>0.0</td>\n",
       "      <td>0.0</td>\n",
       "      <td>0.0</td>\n",
       "      <td>1.0</td>\n",
       "    </tr>\n",
       "    <tr>\n",
       "      <th>39306</th>\n",
       "      <td>57.0</td>\n",
       "      <td>32.987948</td>\n",
       "      <td>185.4</td>\n",
       "      <td>0.147917</td>\n",
       "      <td>113.39</td>\n",
       "      <td>NaN</td>\n",
       "      <td>110.0</td>\n",
       "      <td>104.01</td>\n",
       "      <td>0.0</td>\n",
       "      <td>NaN</td>\n",
       "      <td>...</td>\n",
       "      <td>0.04</td>\n",
       "      <td>0.02</td>\n",
       "      <td>0.0</td>\n",
       "      <td>0.0</td>\n",
       "      <td>0.0</td>\n",
       "      <td>0.0</td>\n",
       "      <td>0.0</td>\n",
       "      <td>0.0</td>\n",
       "      <td>0.0</td>\n",
       "      <td>0.0</td>\n",
       "    </tr>\n",
       "    <tr>\n",
       "      <th>39307</th>\n",
       "      <td>66.0</td>\n",
       "      <td>23.183391</td>\n",
       "      <td>170.0</td>\n",
       "      <td>4.738194</td>\n",
       "      <td>67.00</td>\n",
       "      <td>NaN</td>\n",
       "      <td>117.0</td>\n",
       "      <td>106.01</td>\n",
       "      <td>1.0</td>\n",
       "      <td>NaN</td>\n",
       "      <td>...</td>\n",
       "      <td>NaN</td>\n",
       "      <td>NaN</td>\n",
       "      <td>0.0</td>\n",
       "      <td>0.0</td>\n",
       "      <td>0.0</td>\n",
       "      <td>0.0</td>\n",
       "      <td>0.0</td>\n",
       "      <td>0.0</td>\n",
       "      <td>0.0</td>\n",
       "      <td>0.0</td>\n",
       "    </tr>\n",
       "  </tbody>\n",
       "</table>\n",
       "<p>39308 rows × 170 columns</p>\n",
       "</div>"
      ],
      "text/plain": [
       "        age        bmi  height  pre_icu_los_days  weight  albumin_apache  \\\n",
       "0      56.0  21.102439   180.3          0.104167   68.60             3.7   \n",
       "1       NaN  19.500595   145.0          0.230556   41.00             NaN   \n",
       "2      66.0  32.518596   170.2          0.140972   94.20             NaN   \n",
       "3      64.0  20.798520   182.8          0.002083   69.50             1.9   \n",
       "4      56.0        NaN     NaN          0.004861   66.40             NaN   \n",
       "...     ...        ...     ...               ...     ...             ...   \n",
       "39303  35.0  35.038615   170.2          0.411111  101.50             NaN   \n",
       "39304  63.0  29.352338   175.3          0.218056   90.20             NaN   \n",
       "39305  71.0  23.010381   170.0          0.003472   66.50             2.0   \n",
       "39306  57.0  32.987948   185.4          0.147917  113.39             NaN   \n",
       "39307  66.0  23.183391   170.0          4.738194   67.00             NaN   \n",
       "\n",
       "       apache_2_diagnosis  apache_3j_diagnosis  arf_apache  bilirubin_apache  \\\n",
       "0                   301.0               405.01         0.0               NaN   \n",
       "1                   217.0              1502.02         0.0               NaN   \n",
       "2                   302.0              1208.06         0.0               NaN   \n",
       "3                   303.0               211.03         0.0               0.8   \n",
       "4                   217.0              1501.01         0.0               NaN   \n",
       "...                   ...                  ...         ...               ...   \n",
       "39303               218.0              1505.01         0.0               NaN   \n",
       "39304               124.0               305.02         0.0               NaN   \n",
       "39305               113.0               502.01         0.0               1.0   \n",
       "39306               110.0               104.01         0.0               NaN   \n",
       "39307               117.0               106.01         1.0               NaN   \n",
       "\n",
       "       ...  apache_4a_hospital_death_prob  apache_4a_icu_death_prob  aids  \\\n",
       "0      ...                           0.13                      0.08   0.0   \n",
       "1      ...                           0.09                      0.03   0.0   \n",
       "2      ...                           0.03                      0.02   0.0   \n",
       "3      ...                           0.19                      0.17   0.0   \n",
       "4      ...                           0.50                      0.42   0.0   \n",
       "...    ...                            ...                       ...   ...   \n",
       "39303  ...                           0.01                      0.00   0.0   \n",
       "39304  ...                           0.08                      0.05   0.0   \n",
       "39305  ...                           0.13                      0.05   0.0   \n",
       "39306  ...                           0.04                      0.02   0.0   \n",
       "39307  ...                            NaN                       NaN   0.0   \n",
       "\n",
       "       cirrhosis  diabetes_mellitus  hepatic_failure  immunosuppression  \\\n",
       "0            0.0                0.0              0.0                0.0   \n",
       "1            0.0                0.0              0.0                0.0   \n",
       "2            0.0                0.0              0.0                0.0   \n",
       "3            0.0                0.0              0.0                1.0   \n",
       "4            0.0                0.0              0.0                0.0   \n",
       "...          ...                ...              ...                ...   \n",
       "39303        0.0                0.0              0.0                0.0   \n",
       "39304        0.0                0.0              0.0                0.0   \n",
       "39305        0.0                1.0              0.0                0.0   \n",
       "39306        0.0                0.0              0.0                0.0   \n",
       "39307        0.0                0.0              0.0                0.0   \n",
       "\n",
       "       leukemia  lymphoma  solid_tumor_with_metastasis  \n",
       "0           0.0       0.0                          0.0  \n",
       "1           0.0       0.0                          0.0  \n",
       "2           0.0       0.0                          0.0  \n",
       "3           0.0       0.0                          0.0  \n",
       "4           0.0       0.0                          0.0  \n",
       "...         ...       ...                          ...  \n",
       "39303       0.0       0.0                          0.0  \n",
       "39304       0.0       0.0                          0.0  \n",
       "39305       0.0       0.0                          1.0  \n",
       "39306       0.0       0.0                          0.0  \n",
       "39307       0.0       0.0                          0.0  \n",
       "\n",
       "[39308 rows x 170 columns]"
      ]
     },
     "execution_count": 386,
     "metadata": {},
     "output_type": "execute_result"
    }
   ],
   "source": [
    "testing_X"
   ]
  },
  {
   "cell_type": "code",
   "execution_count": 283,
   "metadata": {},
   "outputs": [],
   "source": [
    "imp = imp[cols]\n",
    "miss = miss.drop(miss.columns[0],axis=1)\n",
    "smote = smote.drop(smote.columns[0],axis=1)"
   ]
  },
  {
   "cell_type": "code",
   "execution_count": 285,
   "metadata": {},
   "outputs": [
    {
     "data": {
      "text/plain": [
       "Index(['age', 'bmi', 'height', 'pre_icu_los_days', 'weight', 'albumin_apache',\n",
       "       'apache_2_diagnosis', 'apache_3j_diagnosis', 'arf_apache',\n",
       "       'bilirubin_apache',\n",
       "       ...\n",
       "       'apache_4a_icu_death_prob', 'aids', 'cirrhosis', 'diabetes_mellitus',\n",
       "       'hepatic_failure', 'immunosuppression', 'leukemia', 'lymphoma',\n",
       "       'solid_tumor_with_metastasis', 'hospital_death'],\n",
       "      dtype='object', length=171)"
      ]
     },
     "execution_count": 285,
     "metadata": {},
     "output_type": "execute_result"
    }
   ],
   "source": [
    "miss.columns"
   ]
  },
  {
   "cell_type": "code",
   "execution_count": 142,
   "metadata": {},
   "outputs": [
    {
     "data": {
      "text/plain": [
       "171"
      ]
     },
     "execution_count": 142,
     "metadata": {},
     "output_type": "execute_result"
    }
   ],
   "source": [
    "len(imp.columns)"
   ]
  },
  {
   "attachments": {},
   "cell_type": "markdown",
   "metadata": {},
   "source": [
    "**Splits for the imputed dataframe**"
   ]
  },
  {
   "cell_type": "code",
   "execution_count": 143,
   "metadata": {},
   "outputs": [],
   "source": [
    "imp_X = imp.drop(\"hospital_death\",axis=1)\n",
    "imp_y = imp['hospital_death']\n",
    "random.seed(10)\n",
    "imp_x_train, imp_x_test, imp_y_train, imp_y_test = train_test_split(imp_X,imp_y,test_size=.3, random_state=42)"
   ]
  },
  {
   "attachments": {},
   "cell_type": "markdown",
   "metadata": {},
   "source": [
    "Once we get predictions, we need to compare w/ race and gender and examine the discrepancies where predicted outcome is different from actual and the only difference is race/gender etc."
   ]
  },
  {
   "cell_type": "code",
   "execution_count": 144,
   "metadata": {},
   "outputs": [],
   "source": [
    "svc_poly = svm.SVC(kernel='poly')\n",
    "svc_rbf = svm.SVC(kernel='rbf')\n",
    "svc_sig = svm.SVC(kernel='sigmoid')\n",
    "svc_lin = svm.LinearSVC()"
   ]
  },
  {
   "attachments": {},
   "cell_type": "markdown",
   "metadata": {},
   "source": [
    "**SVC w/ Linear, poly, rbf, sigmoid**"
   ]
  },
  {
   "cell_type": "code",
   "execution_count": 145,
   "metadata": {},
   "outputs": [],
   "source": [
    "svc_lin.fit(imp_x_train,imp_y_train)\n",
    "svc_lin_pred = svc_lin.predict(imp_x_test)\n",
    "sc_svc_lin = svc_lin.score(imp_x_test,imp_y_test)"
   ]
  },
  {
   "cell_type": "code",
   "execution_count": 146,
   "metadata": {},
   "outputs": [],
   "source": [
    "svc_poly.fit(imp_x_train,imp_y_train)\n",
    "svc_pol_pred = svc_poly.predict(imp_x_test)\n",
    "sc_svc_pol = svc_poly.score(imp_x_test,imp_y_test)"
   ]
  },
  {
   "cell_type": "code",
   "execution_count": 147,
   "metadata": {},
   "outputs": [],
   "source": [
    "svc_rbf.fit(imp_x_train,imp_y_train)\n",
    "svc_rbf_pred = svc_rbf.predict(imp_x_test)\n",
    "sc_svc_rbf = svc_rbf.score(imp_x_test,imp_y_test)"
   ]
  },
  {
   "cell_type": "code",
   "execution_count": 148,
   "metadata": {},
   "outputs": [],
   "source": [
    "svc_sig.fit(imp_x_train,imp_y_train)\n",
    "svc_sig_pred = svc_sig.predict(imp_x_test)\n",
    "sc_svc_sig = svc_sig.score(imp_x_test,imp_y_test)"
   ]
  },
  {
   "attachments": {},
   "cell_type": "markdown",
   "metadata": {},
   "source": [
    "**Score for imp test**"
   ]
  },
  {
   "cell_type": "code",
   "execution_count": 149,
   "metadata": {},
   "outputs": [
    {
     "name": "stdout",
     "output_type": "stream",
     "text": [
      "Linear kernel: 0.9224160107012399\n",
      "Polynomial kernel: 0.9222616658949426\n",
      "Radio Base Frequency kernel: 0.9240109070329784\n",
      "Sigmoid kernel: 0.8744662242115553\n"
     ]
    }
   ],
   "source": [
    "print(\"Linear kernel:\", sc_svc_lin)\n",
    "print(\"Polynomial kernel:\", sc_svc_pol)\n",
    "print(\"Radio Base Frequency kernel:\", sc_svc_rbf)\n",
    "print(\"Sigmoid kernel:\", sc_svc_sig)\n"
   ]
  },
  {
   "attachments": {},
   "cell_type": "markdown",
   "metadata": {},
   "source": [
    "**RandomizedSearchCV**"
   ]
  },
  {
   "cell_type": "code",
   "execution_count": 425,
   "metadata": {},
   "outputs": [],
   "source": [
    "from sklearn.model_selection import RandomizedSearchCV\n",
    "from scipy.stats import uniform\n",
    "\n",
    "dists = {\n",
    "    \"C\": uniform(loc=0, scale=3),\n",
    "    \"gamma\": uniform(loc=0,scale=(3/171)) # number of features\n",
    "}\n",
    "\n",
    "linear_cv = RandomizedSearchCV(\n",
    "    svm.LinearSVC(random_state=12), \n",
    "    {\"C\": uniform(loc=0, scale=3),\"penalty\":['l1','l2']},\n",
    "    n_iter = 4,\n",
    "    n_jobs=-1,\n",
    "    scoring=['accuracy','f1','precision','recall'],\n",
    "    refit='accuracy',\n",
    "    cv=5,\n",
    "    random_state=12,\n",
    "    verbose=2)\n",
    "\n",
    "poly_cv = RandomizedSearchCV(\n",
    "    svm.SVC(random_state=12,kernel='poly'), \n",
    "    dists,\n",
    "    n_iter = 4,\n",
    "    n_jobs=-1,\n",
    "    scoring=['accuracy','f1','precision','recall'],\n",
    "    refit='accuracy',\n",
    "    cv=5,\n",
    "    random_state=12,\n",
    "    verbose=2)\n",
    "\n",
    "rbf_cv = RandomizedSearchCV(\n",
    "    svm.SVC(random_state=13,kernel='rbf'), \n",
    "    dists,\n",
    "    n_iter = 4,\n",
    "    n_jobs=-1,\n",
    "    scoring=['accuracy','f1','precision','recall'],\n",
    "    refit='accuracy',\n",
    "    cv=5,\n",
    "    random_state=14,\n",
    "    verbose=2)\n",
    "\n",
    "sig_cv = RandomizedSearchCV(\n",
    "    svm.SVC(random_state=15,kernel='sigmoid'), \n",
    "    dists,\n",
    "    n_iter = 4,\n",
    "    n_jobs=-1,\n",
    "    scoring=['accuracy','f1','precision','recall'],\n",
    "    refit='accuracy',\n",
    "    cv=5,\n",
    "    random_state=12,\n",
    "    verbose=2)"
   ]
  },
  {
   "cell_type": "code",
   "execution_count": 168,
   "metadata": {},
   "outputs": [
    {
     "name": "stdout",
     "output_type": "stream",
     "text": [
      "Fitting 5 folds for each of 4 candidates, totalling 20 fits\n",
      "[CV] END ...................C=0.4624885271390171, penalty=l1; total time=   0.0s\n",
      "[CV] END ...................C=0.4624885271390171, penalty=l1; total time=   0.0s\n",
      "[CV] END ...................C=0.4624885271390171, penalty=l1; total time=   0.0s\n",
      "[CV] END ...................C=0.4624885271390171, penalty=l1; total time=   0.0s\n",
      "[CV] END ...................C=0.4624885271390171, penalty=l1; total time=   0.0s\n",
      "[CV] END ...................C=2.6201614572848753, penalty=l1; total time=   0.0s\n",
      "[CV] END ...................C=2.6201614572848753, penalty=l1; total time=   0.0s\n",
      "[CV] END ...................C=2.6201614572848753, penalty=l1; total time=   0.0s\n",
      "[CV] END ...................C=2.6201614572848753, penalty=l1; total time=   0.0s\n",
      "[CV] END ...................C=2.6201614572848753, penalty=l1; total time=   0.0s\n",
      "[CV] END ...................C=1.6012181801408931, penalty=l1; total time=   0.0s\n",
      "[CV] END ...................C=1.6012181801408931, penalty=l1; total time=   0.0s\n",
      "[CV] END ...................C=1.6012181801408931, penalty=l1; total time=   0.0s\n",
      "[CV] END ...................C=1.6012181801408931, penalty=l1; total time=   0.0s\n",
      "[CV] END ...................C=1.6012181801408931, penalty=l1; total time=   0.0s\n"
     ]
    },
    {
     "name": "stderr",
     "output_type": "stream",
     "text": [
      "/Library/Frameworks/Python.framework/Versions/3.11/lib/python3.11/site-packages/sklearn/svm/_base.py:1244: ConvergenceWarning: Liblinear failed to converge, increase the number of iterations.\n",
      "  warnings.warn(\n",
      "/Library/Frameworks/Python.framework/Versions/3.11/lib/python3.11/site-packages/sklearn/svm/_base.py:1244: ConvergenceWarning: Liblinear failed to converge, increase the number of iterations.\n",
      "  warnings.warn(\n",
      "/Library/Frameworks/Python.framework/Versions/3.11/lib/python3.11/site-packages/sklearn/svm/_base.py:1244: ConvergenceWarning: Liblinear failed to converge, increase the number of iterations.\n",
      "  warnings.warn(\n",
      "/Library/Frameworks/Python.framework/Versions/3.11/lib/python3.11/site-packages/sklearn/svm/_base.py:1244: ConvergenceWarning: Liblinear failed to converge, increase the number of iterations.\n",
      "  warnings.warn(\n"
     ]
    },
    {
     "name": "stdout",
     "output_type": "stream",
     "text": [
      "[CV] END ...................C=1.0514348280149775, penalty=l2; total time=  22.5s\n",
      "[CV] END ...................C=1.0514348280149775, penalty=l2; total time=  22.6s\n",
      "[CV] END ...................C=1.0514348280149775, penalty=l2; total time=  22.6s\n",
      "[CV] END ...................C=1.0514348280149775, penalty=l2; total time=  22.6s\n"
     ]
    },
    {
     "name": "stderr",
     "output_type": "stream",
     "text": [
      "/Library/Frameworks/Python.framework/Versions/3.11/lib/python3.11/site-packages/sklearn/svm/_base.py:1244: ConvergenceWarning: Liblinear failed to converge, increase the number of iterations.\n",
      "  warnings.warn(\n"
     ]
    },
    {
     "name": "stdout",
     "output_type": "stream",
     "text": [
      "[CV] END ...................C=1.0514348280149775, penalty=l2; total time=  22.7s\n"
     ]
    },
    {
     "data": {
      "text/html": [
       "<style>#sk-container-id-3 {color: black;background-color: white;}#sk-container-id-3 pre{padding: 0;}#sk-container-id-3 div.sk-toggleable {background-color: white;}#sk-container-id-3 label.sk-toggleable__label {cursor: pointer;display: block;width: 100%;margin-bottom: 0;padding: 0.3em;box-sizing: border-box;text-align: center;}#sk-container-id-3 label.sk-toggleable__label-arrow:before {content: \"▸\";float: left;margin-right: 0.25em;color: #696969;}#sk-container-id-3 label.sk-toggleable__label-arrow:hover:before {color: black;}#sk-container-id-3 div.sk-estimator:hover label.sk-toggleable__label-arrow:before {color: black;}#sk-container-id-3 div.sk-toggleable__content {max-height: 0;max-width: 0;overflow: hidden;text-align: left;background-color: #f0f8ff;}#sk-container-id-3 div.sk-toggleable__content pre {margin: 0.2em;color: black;border-radius: 0.25em;background-color: #f0f8ff;}#sk-container-id-3 input.sk-toggleable__control:checked~div.sk-toggleable__content {max-height: 200px;max-width: 100%;overflow: auto;}#sk-container-id-3 input.sk-toggleable__control:checked~label.sk-toggleable__label-arrow:before {content: \"▾\";}#sk-container-id-3 div.sk-estimator input.sk-toggleable__control:checked~label.sk-toggleable__label {background-color: #d4ebff;}#sk-container-id-3 div.sk-label input.sk-toggleable__control:checked~label.sk-toggleable__label {background-color: #d4ebff;}#sk-container-id-3 input.sk-hidden--visually {border: 0;clip: rect(1px 1px 1px 1px);clip: rect(1px, 1px, 1px, 1px);height: 1px;margin: -1px;overflow: hidden;padding: 0;position: absolute;width: 1px;}#sk-container-id-3 div.sk-estimator {font-family: monospace;background-color: #f0f8ff;border: 1px dotted black;border-radius: 0.25em;box-sizing: border-box;margin-bottom: 0.5em;}#sk-container-id-3 div.sk-estimator:hover {background-color: #d4ebff;}#sk-container-id-3 div.sk-parallel-item::after {content: \"\";width: 100%;border-bottom: 1px solid gray;flex-grow: 1;}#sk-container-id-3 div.sk-label:hover label.sk-toggleable__label {background-color: #d4ebff;}#sk-container-id-3 div.sk-serial::before {content: \"\";position: absolute;border-left: 1px solid gray;box-sizing: border-box;top: 0;bottom: 0;left: 50%;z-index: 0;}#sk-container-id-3 div.sk-serial {display: flex;flex-direction: column;align-items: center;background-color: white;padding-right: 0.2em;padding-left: 0.2em;position: relative;}#sk-container-id-3 div.sk-item {position: relative;z-index: 1;}#sk-container-id-3 div.sk-parallel {display: flex;align-items: stretch;justify-content: center;background-color: white;position: relative;}#sk-container-id-3 div.sk-item::before, #sk-container-id-3 div.sk-parallel-item::before {content: \"\";position: absolute;border-left: 1px solid gray;box-sizing: border-box;top: 0;bottom: 0;left: 50%;z-index: -1;}#sk-container-id-3 div.sk-parallel-item {display: flex;flex-direction: column;z-index: 1;position: relative;background-color: white;}#sk-container-id-3 div.sk-parallel-item:first-child::after {align-self: flex-end;width: 50%;}#sk-container-id-3 div.sk-parallel-item:last-child::after {align-self: flex-start;width: 50%;}#sk-container-id-3 div.sk-parallel-item:only-child::after {width: 0;}#sk-container-id-3 div.sk-dashed-wrapped {border: 1px dashed gray;margin: 0 0.4em 0.5em 0.4em;box-sizing: border-box;padding-bottom: 0.4em;background-color: white;}#sk-container-id-3 div.sk-label label {font-family: monospace;font-weight: bold;display: inline-block;line-height: 1.2em;}#sk-container-id-3 div.sk-label-container {text-align: center;}#sk-container-id-3 div.sk-container {/* jupyter's `normalize.less` sets `[hidden] { display: none; }` but bootstrap.min.css set `[hidden] { display: none !important; }` so we also need the `!important` here to be able to override the default hidden behavior on the sphinx rendered scikit-learn.org. See: https://github.com/scikit-learn/scikit-learn/issues/21755 */display: inline-block !important;position: relative;}#sk-container-id-3 div.sk-text-repr-fallback {display: none;}</style><div id=\"sk-container-id-3\" class=\"sk-top-container\"><div class=\"sk-text-repr-fallback\"><pre>RandomizedSearchCV(cv=5, estimator=LinearSVC(random_state=12), n_iter=4,\n",
       "                   n_jobs=-1,\n",
       "                   param_distributions={&#x27;C&#x27;: &lt;scipy.stats._distn_infrastructure.rv_continuous_frozen object at 0x177796f10&gt;,\n",
       "                                        &#x27;penalty&#x27;: [&#x27;l1&#x27;, &#x27;l2&#x27;]},\n",
       "                   random_state=12, refit=&#x27;accuracy&#x27;,\n",
       "                   scoring=[&#x27;accuracy&#x27;, &#x27;f1&#x27;, &#x27;precision&#x27;, &#x27;recall&#x27;],\n",
       "                   verbose=2)</pre><b>In a Jupyter environment, please rerun this cell to show the HTML representation or trust the notebook. <br />On GitHub, the HTML representation is unable to render, please try loading this page with nbviewer.org.</b></div><div class=\"sk-container\" hidden><div class=\"sk-item sk-dashed-wrapped\"><div class=\"sk-label-container\"><div class=\"sk-label sk-toggleable\"><input class=\"sk-toggleable__control sk-hidden--visually\" id=\"sk-estimator-id-5\" type=\"checkbox\" ><label for=\"sk-estimator-id-5\" class=\"sk-toggleable__label sk-toggleable__label-arrow\">RandomizedSearchCV</label><div class=\"sk-toggleable__content\"><pre>RandomizedSearchCV(cv=5, estimator=LinearSVC(random_state=12), n_iter=4,\n",
       "                   n_jobs=-1,\n",
       "                   param_distributions={&#x27;C&#x27;: &lt;scipy.stats._distn_infrastructure.rv_continuous_frozen object at 0x177796f10&gt;,\n",
       "                                        &#x27;penalty&#x27;: [&#x27;l1&#x27;, &#x27;l2&#x27;]},\n",
       "                   random_state=12, refit=&#x27;accuracy&#x27;,\n",
       "                   scoring=[&#x27;accuracy&#x27;, &#x27;f1&#x27;, &#x27;precision&#x27;, &#x27;recall&#x27;],\n",
       "                   verbose=2)</pre></div></div></div><div class=\"sk-parallel\"><div class=\"sk-parallel-item\"><div class=\"sk-item\"><div class=\"sk-label-container\"><div class=\"sk-label sk-toggleable\"><input class=\"sk-toggleable__control sk-hidden--visually\" id=\"sk-estimator-id-6\" type=\"checkbox\" ><label for=\"sk-estimator-id-6\" class=\"sk-toggleable__label sk-toggleable__label-arrow\">estimator: LinearSVC</label><div class=\"sk-toggleable__content\"><pre>LinearSVC(random_state=12)</pre></div></div></div><div class=\"sk-serial\"><div class=\"sk-item\"><div class=\"sk-estimator sk-toggleable\"><input class=\"sk-toggleable__control sk-hidden--visually\" id=\"sk-estimator-id-7\" type=\"checkbox\" ><label for=\"sk-estimator-id-7\" class=\"sk-toggleable__label sk-toggleable__label-arrow\">LinearSVC</label><div class=\"sk-toggleable__content\"><pre>LinearSVC(random_state=12)</pre></div></div></div></div></div></div></div></div></div></div>"
      ],
      "text/plain": [
       "RandomizedSearchCV(cv=5, estimator=LinearSVC(random_state=12), n_iter=4,\n",
       "                   n_jobs=-1,\n",
       "                   param_distributions={'C': <scipy.stats._distn_infrastructure.rv_continuous_frozen object at 0x177796f10>,\n",
       "                                        'penalty': ['l1', 'l2']},\n",
       "                   random_state=12, refit='accuracy',\n",
       "                   scoring=['accuracy', 'f1', 'precision', 'recall'],\n",
       "                   verbose=2)"
      ]
     },
     "execution_count": 168,
     "metadata": {},
     "output_type": "execute_result"
    }
   ],
   "source": [
    "linear_cv.fit(imp_x_train,imp_y_train)"
   ]
  },
  {
   "cell_type": "code",
   "execution_count": 169,
   "metadata": {},
   "outputs": [],
   "source": [
    "lin_cv_pred = linear_cv.predict(imp_x_test)\n",
    "lin_cv_sc = linear_cv.score(imp_x_test,imp_y_test)\n",
    "lin_cv_results = pd.DataFrame(linear_cv.cv_results_)"
   ]
  },
  {
   "cell_type": "code",
   "execution_count": 170,
   "metadata": {},
   "outputs": [
    {
     "name": "stdout",
     "output_type": "stream",
     "text": [
      "Fitting 5 folds for each of 4 candidates, totalling 20 fits\n",
      "[CV] END .....C=0.789945045555404, gamma=0.00936384900667189; total time= 8.8min\n",
      "[CV] END .....C=0.789945045555404, gamma=0.00936384900667189; total time= 9.1min\n",
      "[CV] END .....C=0.789945045555404, gamma=0.00936384900667189; total time= 9.3min\n",
      "[CV] END .....C=0.789945045555404, gamma=0.00936384900667189; total time= 9.6min\n",
      "[CV] END ...C=0.4624885271390171, gamma=0.012983328009042188; total time= 9.6min\n",
      "[CV] END ...C=0.4624885271390171, gamma=0.012983328009042188; total time=10.0min\n",
      "[CV] END .....C=0.789945045555404, gamma=0.00936384900667189; total time=10.2min\n",
      "[CV] END ...C=0.4624885271390171, gamma=0.012983328009042188; total time=10.2min\n",
      "[CV] END ...C=0.4624885271390171, gamma=0.012983328009042188; total time=10.3min\n",
      "[CV] END ..C=2.7021445623510365, gamma=0.0005863408355499051; total time=  58.1s\n",
      "[CV] END ..C=2.7021445623510365, gamma=0.0005863408355499051; total time=  58.6s\n",
      "[CV] END ..C=2.7021445623510365, gamma=0.0005863408355499051; total time=  58.4s\n",
      "[CV] END ..C=2.7021445623510365, gamma=0.0005863408355499051; total time=  57.5s\n",
      "[CV] END ..C=2.7021445623510365, gamma=0.0005863408355499051; total time=  46.5s\n",
      "[CV] END ...C=0.4624885271390171, gamma=0.012983328009042188; total time=11.9min\n",
      "[CV] END ..C=0.04372488745625902, gamma=0.016118368563155877; total time= 3.7min\n",
      "[CV] END ..C=0.04372488745625902, gamma=0.016118368563155877; total time= 4.5min\n",
      "[CV] END ..C=0.04372488745625902, gamma=0.016118368563155877; total time= 4.5min\n",
      "[CV] END ..C=0.04372488745625902, gamma=0.016118368563155877; total time= 4.3min\n",
      "[CV] END ..C=0.04372488745625902, gamma=0.016118368563155877; total time= 5.6min\n"
     ]
    },
    {
     "data": {
      "text/html": [
       "<style>#sk-container-id-4 {color: black;background-color: white;}#sk-container-id-4 pre{padding: 0;}#sk-container-id-4 div.sk-toggleable {background-color: white;}#sk-container-id-4 label.sk-toggleable__label {cursor: pointer;display: block;width: 100%;margin-bottom: 0;padding: 0.3em;box-sizing: border-box;text-align: center;}#sk-container-id-4 label.sk-toggleable__label-arrow:before {content: \"▸\";float: left;margin-right: 0.25em;color: #696969;}#sk-container-id-4 label.sk-toggleable__label-arrow:hover:before {color: black;}#sk-container-id-4 div.sk-estimator:hover label.sk-toggleable__label-arrow:before {color: black;}#sk-container-id-4 div.sk-toggleable__content {max-height: 0;max-width: 0;overflow: hidden;text-align: left;background-color: #f0f8ff;}#sk-container-id-4 div.sk-toggleable__content pre {margin: 0.2em;color: black;border-radius: 0.25em;background-color: #f0f8ff;}#sk-container-id-4 input.sk-toggleable__control:checked~div.sk-toggleable__content {max-height: 200px;max-width: 100%;overflow: auto;}#sk-container-id-4 input.sk-toggleable__control:checked~label.sk-toggleable__label-arrow:before {content: \"▾\";}#sk-container-id-4 div.sk-estimator input.sk-toggleable__control:checked~label.sk-toggleable__label {background-color: #d4ebff;}#sk-container-id-4 div.sk-label input.sk-toggleable__control:checked~label.sk-toggleable__label {background-color: #d4ebff;}#sk-container-id-4 input.sk-hidden--visually {border: 0;clip: rect(1px 1px 1px 1px);clip: rect(1px, 1px, 1px, 1px);height: 1px;margin: -1px;overflow: hidden;padding: 0;position: absolute;width: 1px;}#sk-container-id-4 div.sk-estimator {font-family: monospace;background-color: #f0f8ff;border: 1px dotted black;border-radius: 0.25em;box-sizing: border-box;margin-bottom: 0.5em;}#sk-container-id-4 div.sk-estimator:hover {background-color: #d4ebff;}#sk-container-id-4 div.sk-parallel-item::after {content: \"\";width: 100%;border-bottom: 1px solid gray;flex-grow: 1;}#sk-container-id-4 div.sk-label:hover label.sk-toggleable__label {background-color: #d4ebff;}#sk-container-id-4 div.sk-serial::before {content: \"\";position: absolute;border-left: 1px solid gray;box-sizing: border-box;top: 0;bottom: 0;left: 50%;z-index: 0;}#sk-container-id-4 div.sk-serial {display: flex;flex-direction: column;align-items: center;background-color: white;padding-right: 0.2em;padding-left: 0.2em;position: relative;}#sk-container-id-4 div.sk-item {position: relative;z-index: 1;}#sk-container-id-4 div.sk-parallel {display: flex;align-items: stretch;justify-content: center;background-color: white;position: relative;}#sk-container-id-4 div.sk-item::before, #sk-container-id-4 div.sk-parallel-item::before {content: \"\";position: absolute;border-left: 1px solid gray;box-sizing: border-box;top: 0;bottom: 0;left: 50%;z-index: -1;}#sk-container-id-4 div.sk-parallel-item {display: flex;flex-direction: column;z-index: 1;position: relative;background-color: white;}#sk-container-id-4 div.sk-parallel-item:first-child::after {align-self: flex-end;width: 50%;}#sk-container-id-4 div.sk-parallel-item:last-child::after {align-self: flex-start;width: 50%;}#sk-container-id-4 div.sk-parallel-item:only-child::after {width: 0;}#sk-container-id-4 div.sk-dashed-wrapped {border: 1px dashed gray;margin: 0 0.4em 0.5em 0.4em;box-sizing: border-box;padding-bottom: 0.4em;background-color: white;}#sk-container-id-4 div.sk-label label {font-family: monospace;font-weight: bold;display: inline-block;line-height: 1.2em;}#sk-container-id-4 div.sk-label-container {text-align: center;}#sk-container-id-4 div.sk-container {/* jupyter's `normalize.less` sets `[hidden] { display: none; }` but bootstrap.min.css set `[hidden] { display: none !important; }` so we also need the `!important` here to be able to override the default hidden behavior on the sphinx rendered scikit-learn.org. See: https://github.com/scikit-learn/scikit-learn/issues/21755 */display: inline-block !important;position: relative;}#sk-container-id-4 div.sk-text-repr-fallback {display: none;}</style><div id=\"sk-container-id-4\" class=\"sk-top-container\"><div class=\"sk-text-repr-fallback\"><pre>RandomizedSearchCV(cv=5, estimator=SVC(kernel=&#x27;poly&#x27;, random_state=12),\n",
       "                   n_iter=4, n_jobs=-1,\n",
       "                   param_distributions={&#x27;C&#x27;: &lt;scipy.stats._distn_infrastructure.rv_continuous_frozen object at 0x177786b10&gt;,\n",
       "                                        &#x27;gamma&#x27;: &lt;scipy.stats._distn_infrastructure.rv_continuous_frozen object at 0x177795410&gt;},\n",
       "                   random_state=12, refit=&#x27;accuracy&#x27;,\n",
       "                   scoring=[&#x27;accuracy&#x27;, &#x27;f1&#x27;, &#x27;precision&#x27;, &#x27;recall&#x27;],\n",
       "                   verbose=2)</pre><b>In a Jupyter environment, please rerun this cell to show the HTML representation or trust the notebook. <br />On GitHub, the HTML representation is unable to render, please try loading this page with nbviewer.org.</b></div><div class=\"sk-container\" hidden><div class=\"sk-item sk-dashed-wrapped\"><div class=\"sk-label-container\"><div class=\"sk-label sk-toggleable\"><input class=\"sk-toggleable__control sk-hidden--visually\" id=\"sk-estimator-id-8\" type=\"checkbox\" ><label for=\"sk-estimator-id-8\" class=\"sk-toggleable__label sk-toggleable__label-arrow\">RandomizedSearchCV</label><div class=\"sk-toggleable__content\"><pre>RandomizedSearchCV(cv=5, estimator=SVC(kernel=&#x27;poly&#x27;, random_state=12),\n",
       "                   n_iter=4, n_jobs=-1,\n",
       "                   param_distributions={&#x27;C&#x27;: &lt;scipy.stats._distn_infrastructure.rv_continuous_frozen object at 0x177786b10&gt;,\n",
       "                                        &#x27;gamma&#x27;: &lt;scipy.stats._distn_infrastructure.rv_continuous_frozen object at 0x177795410&gt;},\n",
       "                   random_state=12, refit=&#x27;accuracy&#x27;,\n",
       "                   scoring=[&#x27;accuracy&#x27;, &#x27;f1&#x27;, &#x27;precision&#x27;, &#x27;recall&#x27;],\n",
       "                   verbose=2)</pre></div></div></div><div class=\"sk-parallel\"><div class=\"sk-parallel-item\"><div class=\"sk-item\"><div class=\"sk-label-container\"><div class=\"sk-label sk-toggleable\"><input class=\"sk-toggleable__control sk-hidden--visually\" id=\"sk-estimator-id-9\" type=\"checkbox\" ><label for=\"sk-estimator-id-9\" class=\"sk-toggleable__label sk-toggleable__label-arrow\">estimator: SVC</label><div class=\"sk-toggleable__content\"><pre>SVC(kernel=&#x27;poly&#x27;, random_state=12)</pre></div></div></div><div class=\"sk-serial\"><div class=\"sk-item\"><div class=\"sk-estimator sk-toggleable\"><input class=\"sk-toggleable__control sk-hidden--visually\" id=\"sk-estimator-id-10\" type=\"checkbox\" ><label for=\"sk-estimator-id-10\" class=\"sk-toggleable__label sk-toggleable__label-arrow\">SVC</label><div class=\"sk-toggleable__content\"><pre>SVC(kernel=&#x27;poly&#x27;, random_state=12)</pre></div></div></div></div></div></div></div></div></div></div>"
      ],
      "text/plain": [
       "RandomizedSearchCV(cv=5, estimator=SVC(kernel='poly', random_state=12),\n",
       "                   n_iter=4, n_jobs=-1,\n",
       "                   param_distributions={'C': <scipy.stats._distn_infrastructure.rv_continuous_frozen object at 0x177786b10>,\n",
       "                                        'gamma': <scipy.stats._distn_infrastructure.rv_continuous_frozen object at 0x177795410>},\n",
       "                   random_state=12, refit='accuracy',\n",
       "                   scoring=['accuracy', 'f1', 'precision', 'recall'],\n",
       "                   verbose=2)"
      ]
     },
     "execution_count": 170,
     "metadata": {},
     "output_type": "execute_result"
    }
   ],
   "source": [
    "poly_cv.fit(imp_x_train,imp_y_train)"
   ]
  },
  {
   "cell_type": "code",
   "execution_count": 171,
   "metadata": {},
   "outputs": [],
   "source": [
    "poly_cv_pred = poly_cv.predict(imp_x_test)\n",
    "poly_cv_sc = poly_cv.score(imp_x_test,imp_y_test)\n",
    "poly_cv_results = pd.DataFrame(poly_cv.cv_results_)"
   ]
  },
  {
   "cell_type": "code",
   "execution_count": null,
   "metadata": {},
   "outputs": [],
   "source": [
    "rbf_cv.fit(imp_x_train,imp_y_train)"
   ]
  },
  {
   "cell_type": "code",
   "execution_count": null,
   "metadata": {},
   "outputs": [],
   "source": [
    "rbf_cv_pred = rbf_cv.predict(imp_x_test)\n",
    "rbf_cv_sc = rbf_cv.score(imp_x_test,imp_y_test)\n",
    "rbf_cv_results = pd.DataFrame(rbf_cv.cv_results_)"
   ]
  },
  {
   "cell_type": "code",
   "execution_count": null,
   "metadata": {},
   "outputs": [
    {
     "data": {
      "text/html": [
       "<div>\n",
       "<style scoped>\n",
       "    .dataframe tbody tr th:only-of-type {\n",
       "        vertical-align: middle;\n",
       "    }\n",
       "\n",
       "    .dataframe tbody tr th {\n",
       "        vertical-align: top;\n",
       "    }\n",
       "\n",
       "    .dataframe thead th {\n",
       "        text-align: right;\n",
       "    }\n",
       "</style>\n",
       "<table border=\"1\" class=\"dataframe\">\n",
       "  <thead>\n",
       "    <tr style=\"text-align: right;\">\n",
       "      <th></th>\n",
       "      <th>mean_test_accuracy</th>\n",
       "      <th>std_test_accuracy</th>\n",
       "      <th>rank_test_accuracy</th>\n",
       "      <th>mean_test_f1</th>\n",
       "      <th>std_test_f1</th>\n",
       "      <th>rank_test_f1</th>\n",
       "      <th>mean_test_precision</th>\n",
       "      <th>std_test_precision</th>\n",
       "      <th>rank_test_precision</th>\n",
       "      <th>mean_test_recall</th>\n",
       "      <th>std_test_recall</th>\n",
       "      <th>rank_test_recall</th>\n",
       "    </tr>\n",
       "  </thead>\n",
       "  <tbody>\n",
       "    <tr>\n",
       "      <th>0</th>\n",
       "      <td>0.913612</td>\n",
       "      <td>0.000031</td>\n",
       "      <td>10</td>\n",
       "      <td>0.000000</td>\n",
       "      <td>0.000000</td>\n",
       "      <td>10</td>\n",
       "      <td>0.000000</td>\n",
       "      <td>0.000000</td>\n",
       "      <td>10</td>\n",
       "      <td>0.000000</td>\n",
       "      <td>0.000000</td>\n",
       "      <td>10</td>\n",
       "    </tr>\n",
       "    <tr>\n",
       "      <th>1</th>\n",
       "      <td>0.927787</td>\n",
       "      <td>0.000917</td>\n",
       "      <td>1</td>\n",
       "      <td>0.357237</td>\n",
       "      <td>0.012982</td>\n",
       "      <td>1</td>\n",
       "      <td>0.773125</td>\n",
       "      <td>0.017703</td>\n",
       "      <td>5</td>\n",
       "      <td>0.232417</td>\n",
       "      <td>0.010728</td>\n",
       "      <td>1</td>\n",
       "    </tr>\n",
       "    <tr>\n",
       "      <th>2</th>\n",
       "      <td>0.916587</td>\n",
       "      <td>0.000626</td>\n",
       "      <td>9</td>\n",
       "      <td>0.087810</td>\n",
       "      <td>0.012314</td>\n",
       "      <td>9</td>\n",
       "      <td>0.792139</td>\n",
       "      <td>0.036353</td>\n",
       "      <td>3</td>\n",
       "      <td>0.046519</td>\n",
       "      <td>0.006826</td>\n",
       "      <td>9</td>\n",
       "    </tr>\n",
       "    <tr>\n",
       "      <th>3</th>\n",
       "      <td>0.922351</td>\n",
       "      <td>0.000425</td>\n",
       "      <td>5</td>\n",
       "      <td>0.254947</td>\n",
       "      <td>0.004447</td>\n",
       "      <td>5</td>\n",
       "      <td>0.745749</td>\n",
       "      <td>0.020032</td>\n",
       "      <td>7</td>\n",
       "      <td>0.153805</td>\n",
       "      <td>0.003620</td>\n",
       "      <td>5</td>\n",
       "    </tr>\n",
       "    <tr>\n",
       "      <th>4</th>\n",
       "      <td>0.921183</td>\n",
       "      <td>0.000360</td>\n",
       "      <td>6</td>\n",
       "      <td>0.190872</td>\n",
       "      <td>0.007985</td>\n",
       "      <td>7</td>\n",
       "      <td>0.843530</td>\n",
       "      <td>0.011045</td>\n",
       "      <td>1</td>\n",
       "      <td>0.107645</td>\n",
       "      <td>0.005121</td>\n",
       "      <td>7</td>\n",
       "    </tr>\n",
       "    <tr>\n",
       "      <th>5</th>\n",
       "      <td>0.920482</td>\n",
       "      <td>0.000351</td>\n",
       "      <td>7</td>\n",
       "      <td>0.215655</td>\n",
       "      <td>0.006546</td>\n",
       "      <td>6</td>\n",
       "      <td>0.729780</td>\n",
       "      <td>0.018134</td>\n",
       "      <td>8</td>\n",
       "      <td>0.126579</td>\n",
       "      <td>0.004818</td>\n",
       "      <td>6</td>\n",
       "    </tr>\n",
       "    <tr>\n",
       "      <th>6</th>\n",
       "      <td>0.927257</td>\n",
       "      <td>0.000653</td>\n",
       "      <td>2</td>\n",
       "      <td>0.354514</td>\n",
       "      <td>0.009872</td>\n",
       "      <td>2</td>\n",
       "      <td>0.759940</td>\n",
       "      <td>0.018979</td>\n",
       "      <td>6</td>\n",
       "      <td>0.231337</td>\n",
       "      <td>0.009015</td>\n",
       "      <td>2</td>\n",
       "    </tr>\n",
       "    <tr>\n",
       "      <th>7</th>\n",
       "      <td>0.919407</td>\n",
       "      <td>0.000578</td>\n",
       "      <td>8</td>\n",
       "      <td>0.167206</td>\n",
       "      <td>0.014116</td>\n",
       "      <td>8</td>\n",
       "      <td>0.780049</td>\n",
       "      <td>0.025592</td>\n",
       "      <td>4</td>\n",
       "      <td>0.093762</td>\n",
       "      <td>0.009058</td>\n",
       "      <td>8</td>\n",
       "    </tr>\n",
       "    <tr>\n",
       "      <th>8</th>\n",
       "      <td>0.925871</td>\n",
       "      <td>0.000702</td>\n",
       "      <td>3</td>\n",
       "      <td>0.308916</td>\n",
       "      <td>0.010620</td>\n",
       "      <td>3</td>\n",
       "      <td>0.793536</td>\n",
       "      <td>0.014884</td>\n",
       "      <td>2</td>\n",
       "      <td>0.191849</td>\n",
       "      <td>0.007881</td>\n",
       "      <td>3</td>\n",
       "    </tr>\n",
       "    <tr>\n",
       "      <th>9</th>\n",
       "      <td>0.922616</td>\n",
       "      <td>0.000673</td>\n",
       "      <td>4</td>\n",
       "      <td>0.270649</td>\n",
       "      <td>0.008281</td>\n",
       "      <td>4</td>\n",
       "      <td>0.728982</td>\n",
       "      <td>0.021667</td>\n",
       "      <td>9</td>\n",
       "      <td>0.166248</td>\n",
       "      <td>0.006235</td>\n",
       "      <td>4</td>\n",
       "    </tr>\n",
       "  </tbody>\n",
       "</table>\n",
       "</div>"
      ],
      "text/plain": [
       "   mean_test_accuracy  std_test_accuracy  rank_test_accuracy  mean_test_f1  \\\n",
       "0            0.913612           0.000031                  10      0.000000   \n",
       "1            0.927787           0.000917                   1      0.357237   \n",
       "2            0.916587           0.000626                   9      0.087810   \n",
       "3            0.922351           0.000425                   5      0.254947   \n",
       "4            0.921183           0.000360                   6      0.190872   \n",
       "5            0.920482           0.000351                   7      0.215655   \n",
       "6            0.927257           0.000653                   2      0.354514   \n",
       "7            0.919407           0.000578                   8      0.167206   \n",
       "8            0.925871           0.000702                   3      0.308916   \n",
       "9            0.922616           0.000673                   4      0.270649   \n",
       "\n",
       "   std_test_f1  rank_test_f1  mean_test_precision  std_test_precision  \\\n",
       "0     0.000000            10             0.000000            0.000000   \n",
       "1     0.012982             1             0.773125            0.017703   \n",
       "2     0.012314             9             0.792139            0.036353   \n",
       "3     0.004447             5             0.745749            0.020032   \n",
       "4     0.007985             7             0.843530            0.011045   \n",
       "5     0.006546             6             0.729780            0.018134   \n",
       "6     0.009872             2             0.759940            0.018979   \n",
       "7     0.014116             8             0.780049            0.025592   \n",
       "8     0.010620             3             0.793536            0.014884   \n",
       "9     0.008281             4             0.728982            0.021667   \n",
       "\n",
       "   rank_test_precision  mean_test_recall  std_test_recall  rank_test_recall  \n",
       "0                   10          0.000000         0.000000                10  \n",
       "1                    5          0.232417         0.010728                 1  \n",
       "2                    3          0.046519         0.006826                 9  \n",
       "3                    7          0.153805         0.003620                 5  \n",
       "4                    1          0.107645         0.005121                 7  \n",
       "5                    8          0.126579         0.004818                 6  \n",
       "6                    6          0.231337         0.009015                 2  \n",
       "7                    4          0.093762         0.009058                 8  \n",
       "8                    2          0.191849         0.007881                 3  \n",
       "9                    9          0.166248         0.006235                 4  "
      ]
     },
     "execution_count": 423,
     "metadata": {},
     "output_type": "execute_result"
    }
   ],
   "source": [
    "rbf_cv_results[['mean_test_accuracy','std_test_accuracy',\n",
    "       'rank_test_accuracy','mean_test_f1',\n",
    "       'std_test_f1', 'rank_test_f1','mean_test_precision',\n",
    "       'std_test_precision', 'rank_test_precision','mean_test_recall', 'std_test_recall',\n",
    "       'rank_test_recall']]"
   ]
  },
  {
   "cell_type": "code",
   "execution_count": 174,
   "metadata": {},
   "outputs": [
    {
     "name": "stdout",
     "output_type": "stream",
     "text": [
      "Fitting 5 folds for each of 4 candidates, totalling 20 fits\n",
      "[CV] END ...C=0.4624885271390171, gamma=0.012983328009042188; total time=16.0min\n",
      "[CV] END .....C=0.789945045555404, gamma=0.00936384900667189; total time=16.0min\n",
      "[CV] END .....C=0.789945045555404, gamma=0.00936384900667189; total time=16.0min\n",
      "[CV] END ...C=0.4624885271390171, gamma=0.012983328009042188; total time=16.1min\n",
      "[CV] END ...C=0.4624885271390171, gamma=0.012983328009042188; total time=16.1min\n",
      "[CV] END ...C=0.4624885271390171, gamma=0.012983328009042188; total time=16.3min\n",
      "[CV] END ...C=0.4624885271390171, gamma=0.012983328009042188; total time=16.6min\n",
      "[CV] END .....C=0.789945045555404, gamma=0.00936384900667189; total time=32.6min\n",
      "[CV] END ..C=0.04372488745625902, gamma=0.016118368563155877; total time=16.7min\n",
      "[CV] END ..C=0.04372488745625902, gamma=0.016118368563155877; total time=16.7min\n",
      "[CV] END .....C=0.789945045555404, gamma=0.00936384900667189; total time=32.7min\n",
      "[CV] END ..C=0.04372488745625902, gamma=0.016118368563155877; total time=16.7min\n",
      "[CV] END .....C=0.789945045555404, gamma=0.00936384900667189; total time=32.8min\n",
      "[CV] END ..C=0.04372488745625902, gamma=0.016118368563155877; total time=16.8min\n",
      "[CV] END ..C=2.7021445623510365, gamma=0.0005863408355499051; total time=16.7min\n",
      "[CV] END ..C=0.04372488745625902, gamma=0.016118368563155877; total time=17.1min\n",
      "[CV] END ..C=2.7021445623510365, gamma=0.0005863408355499051; total time=16.6min\n",
      "[CV] END ..C=2.7021445623510365, gamma=0.0005863408355499051; total time=  39.6s\n",
      "[CV] END ..C=2.7021445623510365, gamma=0.0005863408355499051; total time=  38.9s\n",
      "[CV] END ..C=2.7021445623510365, gamma=0.0005863408355499051; total time=  36.2s\n"
     ]
    },
    {
     "data": {
      "text/html": [
       "<style>#sk-container-id-6 {color: black;background-color: white;}#sk-container-id-6 pre{padding: 0;}#sk-container-id-6 div.sk-toggleable {background-color: white;}#sk-container-id-6 label.sk-toggleable__label {cursor: pointer;display: block;width: 100%;margin-bottom: 0;padding: 0.3em;box-sizing: border-box;text-align: center;}#sk-container-id-6 label.sk-toggleable__label-arrow:before {content: \"▸\";float: left;margin-right: 0.25em;color: #696969;}#sk-container-id-6 label.sk-toggleable__label-arrow:hover:before {color: black;}#sk-container-id-6 div.sk-estimator:hover label.sk-toggleable__label-arrow:before {color: black;}#sk-container-id-6 div.sk-toggleable__content {max-height: 0;max-width: 0;overflow: hidden;text-align: left;background-color: #f0f8ff;}#sk-container-id-6 div.sk-toggleable__content pre {margin: 0.2em;color: black;border-radius: 0.25em;background-color: #f0f8ff;}#sk-container-id-6 input.sk-toggleable__control:checked~div.sk-toggleable__content {max-height: 200px;max-width: 100%;overflow: auto;}#sk-container-id-6 input.sk-toggleable__control:checked~label.sk-toggleable__label-arrow:before {content: \"▾\";}#sk-container-id-6 div.sk-estimator input.sk-toggleable__control:checked~label.sk-toggleable__label {background-color: #d4ebff;}#sk-container-id-6 div.sk-label input.sk-toggleable__control:checked~label.sk-toggleable__label {background-color: #d4ebff;}#sk-container-id-6 input.sk-hidden--visually {border: 0;clip: rect(1px 1px 1px 1px);clip: rect(1px, 1px, 1px, 1px);height: 1px;margin: -1px;overflow: hidden;padding: 0;position: absolute;width: 1px;}#sk-container-id-6 div.sk-estimator {font-family: monospace;background-color: #f0f8ff;border: 1px dotted black;border-radius: 0.25em;box-sizing: border-box;margin-bottom: 0.5em;}#sk-container-id-6 div.sk-estimator:hover {background-color: #d4ebff;}#sk-container-id-6 div.sk-parallel-item::after {content: \"\";width: 100%;border-bottom: 1px solid gray;flex-grow: 1;}#sk-container-id-6 div.sk-label:hover label.sk-toggleable__label {background-color: #d4ebff;}#sk-container-id-6 div.sk-serial::before {content: \"\";position: absolute;border-left: 1px solid gray;box-sizing: border-box;top: 0;bottom: 0;left: 50%;z-index: 0;}#sk-container-id-6 div.sk-serial {display: flex;flex-direction: column;align-items: center;background-color: white;padding-right: 0.2em;padding-left: 0.2em;position: relative;}#sk-container-id-6 div.sk-item {position: relative;z-index: 1;}#sk-container-id-6 div.sk-parallel {display: flex;align-items: stretch;justify-content: center;background-color: white;position: relative;}#sk-container-id-6 div.sk-item::before, #sk-container-id-6 div.sk-parallel-item::before {content: \"\";position: absolute;border-left: 1px solid gray;box-sizing: border-box;top: 0;bottom: 0;left: 50%;z-index: -1;}#sk-container-id-6 div.sk-parallel-item {display: flex;flex-direction: column;z-index: 1;position: relative;background-color: white;}#sk-container-id-6 div.sk-parallel-item:first-child::after {align-self: flex-end;width: 50%;}#sk-container-id-6 div.sk-parallel-item:last-child::after {align-self: flex-start;width: 50%;}#sk-container-id-6 div.sk-parallel-item:only-child::after {width: 0;}#sk-container-id-6 div.sk-dashed-wrapped {border: 1px dashed gray;margin: 0 0.4em 0.5em 0.4em;box-sizing: border-box;padding-bottom: 0.4em;background-color: white;}#sk-container-id-6 div.sk-label label {font-family: monospace;font-weight: bold;display: inline-block;line-height: 1.2em;}#sk-container-id-6 div.sk-label-container {text-align: center;}#sk-container-id-6 div.sk-container {/* jupyter's `normalize.less` sets `[hidden] { display: none; }` but bootstrap.min.css set `[hidden] { display: none !important; }` so we also need the `!important` here to be able to override the default hidden behavior on the sphinx rendered scikit-learn.org. See: https://github.com/scikit-learn/scikit-learn/issues/21755 */display: inline-block !important;position: relative;}#sk-container-id-6 div.sk-text-repr-fallback {display: none;}</style><div id=\"sk-container-id-6\" class=\"sk-top-container\"><div class=\"sk-text-repr-fallback\"><pre>RandomizedSearchCV(cv=5, estimator=SVC(kernel=&#x27;sigmoid&#x27;, random_state=15),\n",
       "                   n_iter=4, n_jobs=-1,\n",
       "                   param_distributions={&#x27;C&#x27;: &lt;scipy.stats._distn_infrastructure.rv_continuous_frozen object at 0x177786b10&gt;,\n",
       "                                        &#x27;gamma&#x27;: &lt;scipy.stats._distn_infrastructure.rv_continuous_frozen object at 0x177795410&gt;},\n",
       "                   random_state=12, refit=&#x27;accuracy&#x27;,\n",
       "                   scoring=[&#x27;accuracy&#x27;, &#x27;f1&#x27;, &#x27;precision&#x27;, &#x27;recall&#x27;],\n",
       "                   verbose=2)</pre><b>In a Jupyter environment, please rerun this cell to show the HTML representation or trust the notebook. <br />On GitHub, the HTML representation is unable to render, please try loading this page with nbviewer.org.</b></div><div class=\"sk-container\" hidden><div class=\"sk-item sk-dashed-wrapped\"><div class=\"sk-label-container\"><div class=\"sk-label sk-toggleable\"><input class=\"sk-toggleable__control sk-hidden--visually\" id=\"sk-estimator-id-14\" type=\"checkbox\" ><label for=\"sk-estimator-id-14\" class=\"sk-toggleable__label sk-toggleable__label-arrow\">RandomizedSearchCV</label><div class=\"sk-toggleable__content\"><pre>RandomizedSearchCV(cv=5, estimator=SVC(kernel=&#x27;sigmoid&#x27;, random_state=15),\n",
       "                   n_iter=4, n_jobs=-1,\n",
       "                   param_distributions={&#x27;C&#x27;: &lt;scipy.stats._distn_infrastructure.rv_continuous_frozen object at 0x177786b10&gt;,\n",
       "                                        &#x27;gamma&#x27;: &lt;scipy.stats._distn_infrastructure.rv_continuous_frozen object at 0x177795410&gt;},\n",
       "                   random_state=12, refit=&#x27;accuracy&#x27;,\n",
       "                   scoring=[&#x27;accuracy&#x27;, &#x27;f1&#x27;, &#x27;precision&#x27;, &#x27;recall&#x27;],\n",
       "                   verbose=2)</pre></div></div></div><div class=\"sk-parallel\"><div class=\"sk-parallel-item\"><div class=\"sk-item\"><div class=\"sk-label-container\"><div class=\"sk-label sk-toggleable\"><input class=\"sk-toggleable__control sk-hidden--visually\" id=\"sk-estimator-id-15\" type=\"checkbox\" ><label for=\"sk-estimator-id-15\" class=\"sk-toggleable__label sk-toggleable__label-arrow\">estimator: SVC</label><div class=\"sk-toggleable__content\"><pre>SVC(kernel=&#x27;sigmoid&#x27;, random_state=15)</pre></div></div></div><div class=\"sk-serial\"><div class=\"sk-item\"><div class=\"sk-estimator sk-toggleable\"><input class=\"sk-toggleable__control sk-hidden--visually\" id=\"sk-estimator-id-16\" type=\"checkbox\" ><label for=\"sk-estimator-id-16\" class=\"sk-toggleable__label sk-toggleable__label-arrow\">SVC</label><div class=\"sk-toggleable__content\"><pre>SVC(kernel=&#x27;sigmoid&#x27;, random_state=15)</pre></div></div></div></div></div></div></div></div></div></div>"
      ],
      "text/plain": [
       "RandomizedSearchCV(cv=5, estimator=SVC(kernel='sigmoid', random_state=15),\n",
       "                   n_iter=4, n_jobs=-1,\n",
       "                   param_distributions={'C': <scipy.stats._distn_infrastructure.rv_continuous_frozen object at 0x177786b10>,\n",
       "                                        'gamma': <scipy.stats._distn_infrastructure.rv_continuous_frozen object at 0x177795410>},\n",
       "                   random_state=12, refit='accuracy',\n",
       "                   scoring=['accuracy', 'f1', 'precision', 'recall'],\n",
       "                   verbose=2)"
      ]
     },
     "execution_count": 174,
     "metadata": {},
     "output_type": "execute_result"
    }
   ],
   "source": [
    "sig_cv.fit(imp_x_train,imp_y_train)"
   ]
  },
  {
   "cell_type": "code",
   "execution_count": 175,
   "metadata": {},
   "outputs": [],
   "source": [
    "sig_cv_pred = sig_cv.predict(imp_x_test)\n",
    "sig_cv_sc = sig_cv.score(imp_x_test,imp_y_test)\n",
    "sig_cv_results = pd.DataFrame(sig_cv.cv_results_)"
   ]
  },
  {
   "attachments": {},
   "cell_type": "markdown",
   "metadata": {},
   "source": [
    "**###### CV RESULTS ######**"
   ]
  },
  {
   "cell_type": "code",
   "execution_count": 182,
   "metadata": {},
   "outputs": [
    {
     "name": "stdout",
     "output_type": "stream",
     "text": [
      "Linear kernel w/ CV: 0.9223131141637084\n"
     ]
    },
    {
     "data": {
      "text/html": [
       "<div>\n",
       "<style scoped>\n",
       "    .dataframe tbody tr th:only-of-type {\n",
       "        vertical-align: middle;\n",
       "    }\n",
       "\n",
       "    .dataframe tbody tr th {\n",
       "        vertical-align: top;\n",
       "    }\n",
       "\n",
       "    .dataframe thead th {\n",
       "        text-align: right;\n",
       "    }\n",
       "</style>\n",
       "<table border=\"1\" class=\"dataframe\">\n",
       "  <thead>\n",
       "    <tr style=\"text-align: right;\">\n",
       "      <th></th>\n",
       "      <th>mean_fit_time</th>\n",
       "      <th>std_fit_time</th>\n",
       "      <th>mean_score_time</th>\n",
       "      <th>std_score_time</th>\n",
       "      <th>param_C</th>\n",
       "      <th>param_penalty</th>\n",
       "      <th>params</th>\n",
       "      <th>split0_test_accuracy</th>\n",
       "      <th>split1_test_accuracy</th>\n",
       "      <th>split2_test_accuracy</th>\n",
       "      <th>...</th>\n",
       "      <th>std_test_precision</th>\n",
       "      <th>rank_test_precision</th>\n",
       "      <th>split0_test_recall</th>\n",
       "      <th>split1_test_recall</th>\n",
       "      <th>split2_test_recall</th>\n",
       "      <th>split3_test_recall</th>\n",
       "      <th>split4_test_recall</th>\n",
       "      <th>mean_test_recall</th>\n",
       "      <th>std_test_recall</th>\n",
       "      <th>rank_test_recall</th>\n",
       "    </tr>\n",
       "  </thead>\n",
       "  <tbody>\n",
       "    <tr>\n",
       "      <th>0</th>\n",
       "      <td>0.030054</td>\n",
       "      <td>0.001364</td>\n",
       "      <td>0.00000</td>\n",
       "      <td>0.000000</td>\n",
       "      <td>0.462489</td>\n",
       "      <td>l1</td>\n",
       "      <td>{'C': 0.4624885271390171, 'penalty': 'l1'}</td>\n",
       "      <td>NaN</td>\n",
       "      <td>NaN</td>\n",
       "      <td>NaN</td>\n",
       "      <td>...</td>\n",
       "      <td>NaN</td>\n",
       "      <td>2</td>\n",
       "      <td>NaN</td>\n",
       "      <td>NaN</td>\n",
       "      <td>NaN</td>\n",
       "      <td>NaN</td>\n",
       "      <td>NaN</td>\n",
       "      <td>NaN</td>\n",
       "      <td>NaN</td>\n",
       "      <td>2</td>\n",
       "    </tr>\n",
       "    <tr>\n",
       "      <th>1</th>\n",
       "      <td>0.034010</td>\n",
       "      <td>0.001043</td>\n",
       "      <td>0.00000</td>\n",
       "      <td>0.000000</td>\n",
       "      <td>2.620161</td>\n",
       "      <td>l1</td>\n",
       "      <td>{'C': 2.6201614572848753, 'penalty': 'l1'}</td>\n",
       "      <td>NaN</td>\n",
       "      <td>NaN</td>\n",
       "      <td>NaN</td>\n",
       "      <td>...</td>\n",
       "      <td>NaN</td>\n",
       "      <td>2</td>\n",
       "      <td>NaN</td>\n",
       "      <td>NaN</td>\n",
       "      <td>NaN</td>\n",
       "      <td>NaN</td>\n",
       "      <td>NaN</td>\n",
       "      <td>NaN</td>\n",
       "      <td>NaN</td>\n",
       "      <td>2</td>\n",
       "    </tr>\n",
       "    <tr>\n",
       "      <th>2</th>\n",
       "      <td>0.034519</td>\n",
       "      <td>0.000390</td>\n",
       "      <td>0.00000</td>\n",
       "      <td>0.000000</td>\n",
       "      <td>1.601218</td>\n",
       "      <td>l1</td>\n",
       "      <td>{'C': 1.6012181801408931, 'penalty': 'l1'}</td>\n",
       "      <td>NaN</td>\n",
       "      <td>NaN</td>\n",
       "      <td>NaN</td>\n",
       "      <td>...</td>\n",
       "      <td>NaN</td>\n",
       "      <td>2</td>\n",
       "      <td>NaN</td>\n",
       "      <td>NaN</td>\n",
       "      <td>NaN</td>\n",
       "      <td>NaN</td>\n",
       "      <td>NaN</td>\n",
       "      <td>NaN</td>\n",
       "      <td>NaN</td>\n",
       "      <td>2</td>\n",
       "    </tr>\n",
       "    <tr>\n",
       "      <th>3</th>\n",
       "      <td>22.591306</td>\n",
       "      <td>0.091634</td>\n",
       "      <td>0.00681</td>\n",
       "      <td>0.000188</td>\n",
       "      <td>1.051435</td>\n",
       "      <td>l2</td>\n",
       "      <td>{'C': 1.0514348280149775, 'penalty': 'l2'}</td>\n",
       "      <td>0.919193</td>\n",
       "      <td>0.920626</td>\n",
       "      <td>0.923264</td>\n",
       "      <td>...</td>\n",
       "      <td>0.034979</td>\n",
       "      <td>1</td>\n",
       "      <td>0.221951</td>\n",
       "      <td>0.208283</td>\n",
       "      <td>0.271951</td>\n",
       "      <td>0.254878</td>\n",
       "      <td>0.208537</td>\n",
       "      <td>0.23312</td>\n",
       "      <td>0.025796</td>\n",
       "      <td>1</td>\n",
       "    </tr>\n",
       "  </tbody>\n",
       "</table>\n",
       "<p>4 rows × 39 columns</p>\n",
       "</div>"
      ],
      "text/plain": [
       "   mean_fit_time  std_fit_time  mean_score_time  std_score_time   param_C  \\\n",
       "0       0.030054      0.001364          0.00000        0.000000  0.462489   \n",
       "1       0.034010      0.001043          0.00000        0.000000  2.620161   \n",
       "2       0.034519      0.000390          0.00000        0.000000  1.601218   \n",
       "3      22.591306      0.091634          0.00681        0.000188  1.051435   \n",
       "\n",
       "  param_penalty                                      params  \\\n",
       "0            l1  {'C': 0.4624885271390171, 'penalty': 'l1'}   \n",
       "1            l1  {'C': 2.6201614572848753, 'penalty': 'l1'}   \n",
       "2            l1  {'C': 1.6012181801408931, 'penalty': 'l1'}   \n",
       "3            l2  {'C': 1.0514348280149775, 'penalty': 'l2'}   \n",
       "\n",
       "   split0_test_accuracy  split1_test_accuracy  split2_test_accuracy  ...  \\\n",
       "0                   NaN                   NaN                   NaN  ...   \n",
       "1                   NaN                   NaN                   NaN  ...   \n",
       "2                   NaN                   NaN                   NaN  ...   \n",
       "3              0.919193              0.920626              0.923264  ...   \n",
       "\n",
       "   std_test_precision  rank_test_precision  split0_test_recall  \\\n",
       "0                 NaN                    2                 NaN   \n",
       "1                 NaN                    2                 NaN   \n",
       "2                 NaN                    2                 NaN   \n",
       "3            0.034979                    1            0.221951   \n",
       "\n",
       "   split1_test_recall  split2_test_recall  split3_test_recall  \\\n",
       "0                 NaN                 NaN                 NaN   \n",
       "1                 NaN                 NaN                 NaN   \n",
       "2                 NaN                 NaN                 NaN   \n",
       "3            0.208283            0.271951            0.254878   \n",
       "\n",
       "   split4_test_recall  mean_test_recall  std_test_recall  rank_test_recall  \n",
       "0                 NaN               NaN              NaN                 2  \n",
       "1                 NaN               NaN              NaN                 2  \n",
       "2                 NaN               NaN              NaN                 2  \n",
       "3            0.208537           0.23312         0.025796                 1  \n",
       "\n",
       "[4 rows x 39 columns]"
      ]
     },
     "execution_count": 182,
     "metadata": {},
     "output_type": "execute_result"
    }
   ],
   "source": [
    "print(\"Linear kernel w/ CV:\", lin_cv_sc)\n",
    "lin_cv_results\n"
   ]
  },
  {
   "cell_type": "code",
   "execution_count": 183,
   "metadata": {},
   "outputs": [
    {
     "name": "stdout",
     "output_type": "stream",
     "text": [
      "Polynomial kernel w/ CV: 0.9222616658949426\n"
     ]
    },
    {
     "data": {
      "text/html": [
       "<div>\n",
       "<style scoped>\n",
       "    .dataframe tbody tr th:only-of-type {\n",
       "        vertical-align: middle;\n",
       "    }\n",
       "\n",
       "    .dataframe tbody tr th {\n",
       "        vertical-align: top;\n",
       "    }\n",
       "\n",
       "    .dataframe thead th {\n",
       "        text-align: right;\n",
       "    }\n",
       "</style>\n",
       "<table border=\"1\" class=\"dataframe\">\n",
       "  <thead>\n",
       "    <tr style=\"text-align: right;\">\n",
       "      <th></th>\n",
       "      <th>mean_fit_time</th>\n",
       "      <th>std_fit_time</th>\n",
       "      <th>mean_score_time</th>\n",
       "      <th>std_score_time</th>\n",
       "      <th>param_C</th>\n",
       "      <th>param_gamma</th>\n",
       "      <th>params</th>\n",
       "      <th>split0_test_accuracy</th>\n",
       "      <th>split1_test_accuracy</th>\n",
       "      <th>split2_test_accuracy</th>\n",
       "      <th>...</th>\n",
       "      <th>std_test_precision</th>\n",
       "      <th>rank_test_precision</th>\n",
       "      <th>split0_test_recall</th>\n",
       "      <th>split1_test_recall</th>\n",
       "      <th>split2_test_recall</th>\n",
       "      <th>split3_test_recall</th>\n",
       "      <th>split4_test_recall</th>\n",
       "      <th>mean_test_recall</th>\n",
       "      <th>std_test_recall</th>\n",
       "      <th>rank_test_recall</th>\n",
       "    </tr>\n",
       "  </thead>\n",
       "  <tbody>\n",
       "    <tr>\n",
       "      <th>0</th>\n",
       "      <td>615.391936</td>\n",
       "      <td>47.200343</td>\n",
       "      <td>8.067477</td>\n",
       "      <td>1.137256</td>\n",
       "      <td>0.462489</td>\n",
       "      <td>0.012983</td>\n",
       "      <td>{'C': 0.4624885271390171, 'gamma': 0.012983328...</td>\n",
       "      <td>0.914673</td>\n",
       "      <td>0.912138</td>\n",
       "      <td>0.914112</td>\n",
       "      <td>...</td>\n",
       "      <td>0.021108</td>\n",
       "      <td>4</td>\n",
       "      <td>0.317073</td>\n",
       "      <td>0.311815</td>\n",
       "      <td>0.330488</td>\n",
       "      <td>0.346341</td>\n",
       "      <td>0.320732</td>\n",
       "      <td>0.325290</td>\n",
       "      <td>0.012166</td>\n",
       "      <td>1</td>\n",
       "    </tr>\n",
       "    <tr>\n",
       "      <th>1</th>\n",
       "      <td>555.826890</td>\n",
       "      <td>26.990711</td>\n",
       "      <td>7.689679</td>\n",
       "      <td>0.568253</td>\n",
       "      <td>0.789945</td>\n",
       "      <td>0.009364</td>\n",
       "      <td>{'C': 0.789945045555404, 'gamma': 0.0093638490...</td>\n",
       "      <td>0.916217</td>\n",
       "      <td>0.915335</td>\n",
       "      <td>0.917310</td>\n",
       "      <td>...</td>\n",
       "      <td>0.016450</td>\n",
       "      <td>3</td>\n",
       "      <td>0.309756</td>\n",
       "      <td>0.310597</td>\n",
       "      <td>0.328049</td>\n",
       "      <td>0.318293</td>\n",
       "      <td>0.297561</td>\n",
       "      <td>0.312851</td>\n",
       "      <td>0.010090</td>\n",
       "      <td>2</td>\n",
       "    </tr>\n",
       "    <tr>\n",
       "      <th>2</th>\n",
       "      <td>266.792503</td>\n",
       "      <td>35.574889</td>\n",
       "      <td>4.868188</td>\n",
       "      <td>0.077565</td>\n",
       "      <td>0.043725</td>\n",
       "      <td>0.016118</td>\n",
       "      <td>{'C': 0.04372488745625902, 'gamma': 0.01611836...</td>\n",
       "      <td>0.920295</td>\n",
       "      <td>0.920847</td>\n",
       "      <td>0.923594</td>\n",
       "      <td>...</td>\n",
       "      <td>0.016654</td>\n",
       "      <td>2</td>\n",
       "      <td>0.256098</td>\n",
       "      <td>0.257004</td>\n",
       "      <td>0.287805</td>\n",
       "      <td>0.274390</td>\n",
       "      <td>0.259756</td>\n",
       "      <td>0.267010</td>\n",
       "      <td>0.012318</td>\n",
       "      <td>3</td>\n",
       "    </tr>\n",
       "    <tr>\n",
       "      <th>3</th>\n",
       "      <td>49.771353</td>\n",
       "      <td>3.922140</td>\n",
       "      <td>6.032902</td>\n",
       "      <td>0.818657</td>\n",
       "      <td>2.702145</td>\n",
       "      <td>0.000586</td>\n",
       "      <td>{'C': 2.7021445623510365, 'gamma': 0.000586340...</td>\n",
       "      <td>0.912358</td>\n",
       "      <td>0.913350</td>\n",
       "      <td>0.913671</td>\n",
       "      <td>...</td>\n",
       "      <td>0.031090</td>\n",
       "      <td>1</td>\n",
       "      <td>0.036585</td>\n",
       "      <td>0.045067</td>\n",
       "      <td>0.050000</td>\n",
       "      <td>0.045122</td>\n",
       "      <td>0.047561</td>\n",
       "      <td>0.044867</td>\n",
       "      <td>0.004523</td>\n",
       "      <td>4</td>\n",
       "    </tr>\n",
       "  </tbody>\n",
       "</table>\n",
       "<p>4 rows × 39 columns</p>\n",
       "</div>"
      ],
      "text/plain": [
       "   mean_fit_time  std_fit_time  mean_score_time  std_score_time   param_C  \\\n",
       "0     615.391936     47.200343         8.067477        1.137256  0.462489   \n",
       "1     555.826890     26.990711         7.689679        0.568253  0.789945   \n",
       "2     266.792503     35.574889         4.868188        0.077565  0.043725   \n",
       "3      49.771353      3.922140         6.032902        0.818657  2.702145   \n",
       "\n",
       "  param_gamma                                             params  \\\n",
       "0    0.012983  {'C': 0.4624885271390171, 'gamma': 0.012983328...   \n",
       "1    0.009364  {'C': 0.789945045555404, 'gamma': 0.0093638490...   \n",
       "2    0.016118  {'C': 0.04372488745625902, 'gamma': 0.01611836...   \n",
       "3    0.000586  {'C': 2.7021445623510365, 'gamma': 0.000586340...   \n",
       "\n",
       "   split0_test_accuracy  split1_test_accuracy  split2_test_accuracy  ...  \\\n",
       "0              0.914673              0.912138              0.914112  ...   \n",
       "1              0.916217              0.915335              0.917310  ...   \n",
       "2              0.920295              0.920847              0.923594  ...   \n",
       "3              0.912358              0.913350              0.913671  ...   \n",
       "\n",
       "   std_test_precision  rank_test_precision  split0_test_recall  \\\n",
       "0            0.021108                    4            0.317073   \n",
       "1            0.016450                    3            0.309756   \n",
       "2            0.016654                    2            0.256098   \n",
       "3            0.031090                    1            0.036585   \n",
       "\n",
       "   split1_test_recall  split2_test_recall  split3_test_recall  \\\n",
       "0            0.311815            0.330488            0.346341   \n",
       "1            0.310597            0.328049            0.318293   \n",
       "2            0.257004            0.287805            0.274390   \n",
       "3            0.045067            0.050000            0.045122   \n",
       "\n",
       "   split4_test_recall  mean_test_recall  std_test_recall  rank_test_recall  \n",
       "0            0.320732          0.325290         0.012166                 1  \n",
       "1            0.297561          0.312851         0.010090                 2  \n",
       "2            0.259756          0.267010         0.012318                 3  \n",
       "3            0.047561          0.044867         0.004523                 4  \n",
       "\n",
       "[4 rows x 39 columns]"
      ]
     },
     "execution_count": 183,
     "metadata": {},
     "output_type": "execute_result"
    }
   ],
   "source": [
    "\n",
    "print(\"Polynomial kernel w/ CV:\", poly_cv_sc)\n",
    "poly_cv_results\n"
   ]
  },
  {
   "cell_type": "code",
   "execution_count": 184,
   "metadata": {},
   "outputs": [
    {
     "name": "stdout",
     "output_type": "stream",
     "text": [
      "Radio Base Frequency kernel w/ CV: 0.9248340793332305\n"
     ]
    },
    {
     "data": {
      "text/html": [
       "<div>\n",
       "<style scoped>\n",
       "    .dataframe tbody tr th:only-of-type {\n",
       "        vertical-align: middle;\n",
       "    }\n",
       "\n",
       "    .dataframe tbody tr th {\n",
       "        vertical-align: top;\n",
       "    }\n",
       "\n",
       "    .dataframe thead th {\n",
       "        text-align: right;\n",
       "    }\n",
       "</style>\n",
       "<table border=\"1\" class=\"dataframe\">\n",
       "  <thead>\n",
       "    <tr style=\"text-align: right;\">\n",
       "      <th></th>\n",
       "      <th>mean_fit_time</th>\n",
       "      <th>std_fit_time</th>\n",
       "      <th>mean_score_time</th>\n",
       "      <th>std_score_time</th>\n",
       "      <th>param_C</th>\n",
       "      <th>param_gamma</th>\n",
       "      <th>params</th>\n",
       "      <th>split0_test_accuracy</th>\n",
       "      <th>split1_test_accuracy</th>\n",
       "      <th>split2_test_accuracy</th>\n",
       "      <th>...</th>\n",
       "      <th>std_test_precision</th>\n",
       "      <th>rank_test_precision</th>\n",
       "      <th>split0_test_recall</th>\n",
       "      <th>split1_test_recall</th>\n",
       "      <th>split2_test_recall</th>\n",
       "      <th>split3_test_recall</th>\n",
       "      <th>split4_test_recall</th>\n",
       "      <th>mean_test_recall</th>\n",
       "      <th>std_test_recall</th>\n",
       "      <th>rank_test_recall</th>\n",
       "    </tr>\n",
       "  </thead>\n",
       "  <tbody>\n",
       "    <tr>\n",
       "      <th>0</th>\n",
       "      <td>3349.170865</td>\n",
       "      <td>2.077310</td>\n",
       "      <td>970.412805</td>\n",
       "      <td>0.034132</td>\n",
       "      <td>1.54183</td>\n",
       "      <td>0.013564</td>\n",
       "      <td>{'C': 1.5418300313180708, 'gamma': 0.013564299...</td>\n",
       "      <td>0.915224</td>\n",
       "      <td>0.917319</td>\n",
       "      <td>0.919846</td>\n",
       "      <td>...</td>\n",
       "      <td>0.052228</td>\n",
       "      <td>4</td>\n",
       "      <td>0.139024</td>\n",
       "      <td>0.153471</td>\n",
       "      <td>0.174390</td>\n",
       "      <td>0.176829</td>\n",
       "      <td>0.173171</td>\n",
       "      <td>0.163377</td>\n",
       "      <td>0.014760</td>\n",
       "      <td>2</td>\n",
       "    </tr>\n",
       "    <tr>\n",
       "      <th>1</th>\n",
       "      <td>49.492845</td>\n",
       "      <td>0.617307</td>\n",
       "      <td>9.452840</td>\n",
       "      <td>0.065113</td>\n",
       "      <td>2.611283</td>\n",
       "      <td>0.000141</td>\n",
       "      <td>{'C': 2.611283057174438, 'gamma': 0.0001411745...</td>\n",
       "      <td>0.915886</td>\n",
       "      <td>0.916657</td>\n",
       "      <td>0.917089</td>\n",
       "      <td>...</td>\n",
       "      <td>0.035614</td>\n",
       "      <td>1</td>\n",
       "      <td>0.087805</td>\n",
       "      <td>0.088916</td>\n",
       "      <td>0.093902</td>\n",
       "      <td>0.109756</td>\n",
       "      <td>0.092683</td>\n",
       "      <td>0.094612</td>\n",
       "      <td>0.007904</td>\n",
       "      <td>3</td>\n",
       "    </tr>\n",
       "    <tr>\n",
       "      <th>2</th>\n",
       "      <td>4262.759614</td>\n",
       "      <td>1.706641</td>\n",
       "      <td>21.560587</td>\n",
       "      <td>0.150022</td>\n",
       "      <td>0.929208</td>\n",
       "      <td>0.0168</td>\n",
       "      <td>{'C': 0.9292077765156124, 'gamma': 0.016800065...</td>\n",
       "      <td>0.911035</td>\n",
       "      <td>0.914122</td>\n",
       "      <td>0.912900</td>\n",
       "      <td>...</td>\n",
       "      <td>0.086423</td>\n",
       "      <td>3</td>\n",
       "      <td>0.042683</td>\n",
       "      <td>0.065773</td>\n",
       "      <td>0.057317</td>\n",
       "      <td>0.069512</td>\n",
       "      <td>0.054878</td>\n",
       "      <td>0.058033</td>\n",
       "      <td>0.009357</td>\n",
       "      <td>4</td>\n",
       "    </tr>\n",
       "    <tr>\n",
       "      <th>3</th>\n",
       "      <td>2102.070394</td>\n",
       "      <td>2.113401</td>\n",
       "      <td>11.411021</td>\n",
       "      <td>0.125519</td>\n",
       "      <td>1.53935</td>\n",
       "      <td>0.005584</td>\n",
       "      <td>{'C': 1.5393501368036615, 'gamma': 0.005583937...</td>\n",
       "      <td>0.921398</td>\n",
       "      <td>0.923382</td>\n",
       "      <td>0.925579</td>\n",
       "      <td>...</td>\n",
       "      <td>0.035792</td>\n",
       "      <td>2</td>\n",
       "      <td>0.220732</td>\n",
       "      <td>0.227771</td>\n",
       "      <td>0.262195</td>\n",
       "      <td>0.265854</td>\n",
       "      <td>0.245122</td>\n",
       "      <td>0.244335</td>\n",
       "      <td>0.017967</td>\n",
       "      <td>1</td>\n",
       "    </tr>\n",
       "  </tbody>\n",
       "</table>\n",
       "<p>4 rows × 39 columns</p>\n",
       "</div>"
      ],
      "text/plain": [
       "   mean_fit_time  std_fit_time  mean_score_time  std_score_time   param_C  \\\n",
       "0    3349.170865      2.077310       970.412805        0.034132   1.54183   \n",
       "1      49.492845      0.617307         9.452840        0.065113  2.611283   \n",
       "2    4262.759614      1.706641        21.560587        0.150022  0.929208   \n",
       "3    2102.070394      2.113401        11.411021        0.125519   1.53935   \n",
       "\n",
       "  param_gamma                                             params  \\\n",
       "0    0.013564  {'C': 1.5418300313180708, 'gamma': 0.013564299...   \n",
       "1    0.000141  {'C': 2.611283057174438, 'gamma': 0.0001411745...   \n",
       "2      0.0168  {'C': 0.9292077765156124, 'gamma': 0.016800065...   \n",
       "3    0.005584  {'C': 1.5393501368036615, 'gamma': 0.005583937...   \n",
       "\n",
       "   split0_test_accuracy  split1_test_accuracy  split2_test_accuracy  ...  \\\n",
       "0              0.915224              0.917319              0.919846  ...   \n",
       "1              0.915886              0.916657              0.917089  ...   \n",
       "2              0.911035              0.914122              0.912900  ...   \n",
       "3              0.921398              0.923382              0.925579  ...   \n",
       "\n",
       "   std_test_precision  rank_test_precision  split0_test_recall  \\\n",
       "0            0.052228                    4            0.139024   \n",
       "1            0.035614                    1            0.087805   \n",
       "2            0.086423                    3            0.042683   \n",
       "3            0.035792                    2            0.220732   \n",
       "\n",
       "   split1_test_recall  split2_test_recall  split3_test_recall  \\\n",
       "0            0.153471            0.174390            0.176829   \n",
       "1            0.088916            0.093902            0.109756   \n",
       "2            0.065773            0.057317            0.069512   \n",
       "3            0.227771            0.262195            0.265854   \n",
       "\n",
       "   split4_test_recall  mean_test_recall  std_test_recall  rank_test_recall  \n",
       "0            0.173171          0.163377         0.014760                 2  \n",
       "1            0.092683          0.094612         0.007904                 3  \n",
       "2            0.054878          0.058033         0.009357                 4  \n",
       "3            0.245122          0.244335         0.017967                 1  \n",
       "\n",
       "[4 rows x 39 columns]"
      ]
     },
     "execution_count": 184,
     "metadata": {},
     "output_type": "execute_result"
    }
   ],
   "source": [
    "\n",
    "print(\"Radio Base Frequency kernel w/ CV:\", rbf_cv_sc)\n",
    "rbf_cv_results\n"
   ]
  },
  {
   "cell_type": "code",
   "execution_count": 185,
   "metadata": {},
   "outputs": [
    {
     "name": "stdout",
     "output_type": "stream",
     "text": [
      "Sigmoid kernel w/ CV: 0.919432011112826\n"
     ]
    },
    {
     "data": {
      "text/html": [
       "<div>\n",
       "<style scoped>\n",
       "    .dataframe tbody tr th:only-of-type {\n",
       "        vertical-align: middle;\n",
       "    }\n",
       "\n",
       "    .dataframe tbody tr th {\n",
       "        vertical-align: top;\n",
       "    }\n",
       "\n",
       "    .dataframe thead th {\n",
       "        text-align: right;\n",
       "    }\n",
       "</style>\n",
       "<table border=\"1\" class=\"dataframe\">\n",
       "  <thead>\n",
       "    <tr style=\"text-align: right;\">\n",
       "      <th></th>\n",
       "      <th>mean_fit_time</th>\n",
       "      <th>std_fit_time</th>\n",
       "      <th>mean_score_time</th>\n",
       "      <th>std_score_time</th>\n",
       "      <th>param_C</th>\n",
       "      <th>param_gamma</th>\n",
       "      <th>params</th>\n",
       "      <th>split0_test_accuracy</th>\n",
       "      <th>split1_test_accuracy</th>\n",
       "      <th>split2_test_accuracy</th>\n",
       "      <th>...</th>\n",
       "      <th>std_test_precision</th>\n",
       "      <th>rank_test_precision</th>\n",
       "      <th>split0_test_recall</th>\n",
       "      <th>split1_test_recall</th>\n",
       "      <th>split2_test_recall</th>\n",
       "      <th>split3_test_recall</th>\n",
       "      <th>split4_test_recall</th>\n",
       "      <th>mean_test_recall</th>\n",
       "      <th>std_test_recall</th>\n",
       "      <th>rank_test_recall</th>\n",
       "    </tr>\n",
       "  </thead>\n",
       "  <tbody>\n",
       "    <tr>\n",
       "      <th>0</th>\n",
       "      <td>967.531438</td>\n",
       "      <td>12.885039</td>\n",
       "      <td>4.632030</td>\n",
       "      <td>0.206219</td>\n",
       "      <td>0.462489</td>\n",
       "      <td>0.012983</td>\n",
       "      <td>{'C': 0.4624885271390171, 'gamma': 0.012983328...</td>\n",
       "      <td>0.863080</td>\n",
       "      <td>0.855584</td>\n",
       "      <td>0.865821</td>\n",
       "      <td>...</td>\n",
       "      <td>0.038038</td>\n",
       "      <td>3</td>\n",
       "      <td>0.206098</td>\n",
       "      <td>0.208283</td>\n",
       "      <td>0.274390</td>\n",
       "      <td>0.295122</td>\n",
       "      <td>0.215854</td>\n",
       "      <td>0.239949</td>\n",
       "      <td>0.037308</td>\n",
       "      <td>2</td>\n",
       "    </tr>\n",
       "    <tr>\n",
       "      <th>1</th>\n",
       "      <td>1365.496874</td>\n",
       "      <td>486.026753</td>\n",
       "      <td>196.336007</td>\n",
       "      <td>383.034714</td>\n",
       "      <td>0.789945</td>\n",
       "      <td>0.009364</td>\n",
       "      <td>{'C': 0.789945045555404, 'gamma': 0.0093638490...</td>\n",
       "      <td>0.867380</td>\n",
       "      <td>0.860986</td>\n",
       "      <td>0.867916</td>\n",
       "      <td>...</td>\n",
       "      <td>0.008934</td>\n",
       "      <td>2</td>\n",
       "      <td>0.229268</td>\n",
       "      <td>0.238733</td>\n",
       "      <td>0.241463</td>\n",
       "      <td>0.258537</td>\n",
       "      <td>0.245122</td>\n",
       "      <td>0.242625</td>\n",
       "      <td>0.009532</td>\n",
       "      <td>1</td>\n",
       "    </tr>\n",
       "    <tr>\n",
       "      <th>2</th>\n",
       "      <td>1002.430255</td>\n",
       "      <td>8.838170</td>\n",
       "      <td>4.989593</td>\n",
       "      <td>0.562988</td>\n",
       "      <td>0.043725</td>\n",
       "      <td>0.016118</td>\n",
       "      <td>{'C': 0.04372488745625902, 'gamma': 0.01611836...</td>\n",
       "      <td>0.868372</td>\n",
       "      <td>0.861096</td>\n",
       "      <td>0.865160</td>\n",
       "      <td>...</td>\n",
       "      <td>0.004098</td>\n",
       "      <td>4</td>\n",
       "      <td>0.163415</td>\n",
       "      <td>0.177832</td>\n",
       "      <td>0.175610</td>\n",
       "      <td>0.180488</td>\n",
       "      <td>0.175610</td>\n",
       "      <td>0.174591</td>\n",
       "      <td>0.005870</td>\n",
       "      <td>3</td>\n",
       "    </tr>\n",
       "    <tr>\n",
       "      <th>3</th>\n",
       "      <td>419.339836</td>\n",
       "      <td>471.357997</td>\n",
       "      <td>3.832931</td>\n",
       "      <td>0.117366</td>\n",
       "      <td>2.702145</td>\n",
       "      <td>0.000586</td>\n",
       "      <td>{'C': 2.7021445623510365, 'gamma': 0.000586340...</td>\n",
       "      <td>0.917539</td>\n",
       "      <td>0.919965</td>\n",
       "      <td>0.919184</td>\n",
       "      <td>...</td>\n",
       "      <td>0.025505</td>\n",
       "      <td>1</td>\n",
       "      <td>0.153659</td>\n",
       "      <td>0.177832</td>\n",
       "      <td>0.175610</td>\n",
       "      <td>0.185366</td>\n",
       "      <td>0.164634</td>\n",
       "      <td>0.171420</td>\n",
       "      <td>0.011088</td>\n",
       "      <td>4</td>\n",
       "    </tr>\n",
       "  </tbody>\n",
       "</table>\n",
       "<p>4 rows × 39 columns</p>\n",
       "</div>"
      ],
      "text/plain": [
       "   mean_fit_time  std_fit_time  mean_score_time  std_score_time   param_C  \\\n",
       "0     967.531438     12.885039         4.632030        0.206219  0.462489   \n",
       "1    1365.496874    486.026753       196.336007      383.034714  0.789945   \n",
       "2    1002.430255      8.838170         4.989593        0.562988  0.043725   \n",
       "3     419.339836    471.357997         3.832931        0.117366  2.702145   \n",
       "\n",
       "  param_gamma                                             params  \\\n",
       "0    0.012983  {'C': 0.4624885271390171, 'gamma': 0.012983328...   \n",
       "1    0.009364  {'C': 0.789945045555404, 'gamma': 0.0093638490...   \n",
       "2    0.016118  {'C': 0.04372488745625902, 'gamma': 0.01611836...   \n",
       "3    0.000586  {'C': 2.7021445623510365, 'gamma': 0.000586340...   \n",
       "\n",
       "   split0_test_accuracy  split1_test_accuracy  split2_test_accuracy  ...  \\\n",
       "0              0.863080              0.855584              0.865821  ...   \n",
       "1              0.867380              0.860986              0.867916  ...   \n",
       "2              0.868372              0.861096              0.865160  ...   \n",
       "3              0.917539              0.919965              0.919184  ...   \n",
       "\n",
       "   std_test_precision  rank_test_precision  split0_test_recall  \\\n",
       "0            0.038038                    3            0.206098   \n",
       "1            0.008934                    2            0.229268   \n",
       "2            0.004098                    4            0.163415   \n",
       "3            0.025505                    1            0.153659   \n",
       "\n",
       "   split1_test_recall  split2_test_recall  split3_test_recall  \\\n",
       "0            0.208283            0.274390            0.295122   \n",
       "1            0.238733            0.241463            0.258537   \n",
       "2            0.177832            0.175610            0.180488   \n",
       "3            0.177832            0.175610            0.185366   \n",
       "\n",
       "   split4_test_recall  mean_test_recall  std_test_recall  rank_test_recall  \n",
       "0            0.215854          0.239949         0.037308                 2  \n",
       "1            0.245122          0.242625         0.009532                 1  \n",
       "2            0.175610          0.174591         0.005870                 3  \n",
       "3            0.164634          0.171420         0.011088                 4  \n",
       "\n",
       "[4 rows x 39 columns]"
      ]
     },
     "execution_count": 185,
     "metadata": {},
     "output_type": "execute_result"
    }
   ],
   "source": [
    "\n",
    "print(\"Sigmoid kernel w/ CV:\", sig_cv_sc)\n",
    "sig_cv_results"
   ]
  },
  {
   "attachments": {},
   "cell_type": "markdown",
   "metadata": {},
   "source": [
    "**The 17 most important features from PCA etc. EXCLUDING apache**"
   ]
  },
  {
   "attachments": {},
   "cell_type": "markdown",
   "metadata": {},
   "source": [
    "* d1_lactate_max\n",
    "* d1_lactate_min\n",
    "* h1_lactate_min\n",
    "* h1_lactate_max\n",
    "* d1_sysbp_invasive_min\n",
    "* h1_albumin_min\n",
    "* h1_albumin_max\n",
    "* d1_mbp_invasive_min\n",
    "* d1_inr_max\n",
    "* h1_inr_max\n",
    "* d1_sysbp_min\n",
    "* d1_sysbp_noninvasive_min\n",
    "* d1_bun_max\n",
    "* d1_albumin_min\n",
    "* d1_inr_min\n",
    "* h1_inr_min\n",
    "* d1_bun_min"
   ]
  },
  {
   "cell_type": "code",
   "execution_count": 69,
   "metadata": {},
   "outputs": [],
   "source": [
    "best_feats = ['d1_lactate_max','d1_lactate_min','h1_lactate_min','h1_lactate_max','d1_sysbp_invasive_min','h1_albumin_min','h1_albumin_max','d1_mbp_invasive_min','d1_inr_max','h1_inr_max','d1_sysbp_min','d1_sysbp_noninvasive_min','d1_bun_max','d1_albumin_min','d1_inr_min','h1_inr_min','d1_bun_min']\n"
   ]
  },
  {
   "attachments": {},
   "cell_type": "markdown",
   "metadata": {},
   "source": [
    "Testing best feats with regular SVC"
   ]
  },
  {
   "cell_type": "code",
   "execution_count": 150,
   "metadata": {},
   "outputs": [],
   "source": [
    "svc_poly2 = svm.SVC(kernel='poly')\n",
    "svc_rbf2 = svm.SVC(kernel='rbf')\n",
    "svc_sig2 = svm.SVC(kernel='sigmoid')\n",
    "svc_lin2 = svm.LinearSVC()"
   ]
  },
  {
   "cell_type": "code",
   "execution_count": 151,
   "metadata": {},
   "outputs": [],
   "source": [
    "imp_x_train_best = imp_x_train.filter(best_feats)\n",
    "imp_x_test_best = imp_x_test.filter(best_feats)\n",
    "### Note: using same divides as in the previous more general model"
   ]
  },
  {
   "cell_type": "code",
   "execution_count": 152,
   "metadata": {},
   "outputs": [],
   "source": [
    "svc_lin2.fit(imp_x_train_best,imp_y_train)\n",
    "svc_lin_pred2 = svc_lin2.predict(imp_x_test_best)\n",
    "sc_svc_lin2 = svc_lin2.score(imp_x_test_best,imp_y_test)"
   ]
  },
  {
   "cell_type": "code",
   "execution_count": 153,
   "metadata": {},
   "outputs": [],
   "source": [
    "svc_poly2.fit(imp_x_train_best,imp_y_train)\n",
    "svc_pol_pred2 = svc_poly2.predict(imp_x_test_best)\n",
    "sc_svc_pol2 = svc_poly2.score(imp_x_test_best,imp_y_test)"
   ]
  },
  {
   "cell_type": "code",
   "execution_count": 154,
   "metadata": {},
   "outputs": [],
   "source": [
    "svc_rbf2.fit(imp_x_train_best,imp_y_train)\n",
    "svc_rbf_pred2 = svc_rbf2.predict(imp_x_test_best)\n",
    "sc_svc_rbf2 = svc_rbf2.score(imp_x_test_best,imp_y_test)"
   ]
  },
  {
   "cell_type": "code",
   "execution_count": 155,
   "metadata": {},
   "outputs": [],
   "source": [
    "svc_sig2.fit(imp_x_train_best,imp_y_train)\n",
    "svc_sig_pred2 = svc_sig2.predict(imp_x_test_best)\n",
    "sc_svc_sig2 = svc_sig2.score(imp_x_test_best,imp_y_test)"
   ]
  },
  {
   "cell_type": "code",
   "execution_count": 156,
   "metadata": {},
   "outputs": [
    {
     "name": "stdout",
     "output_type": "stream",
     "text": [
      "Linear kernel: 0.9156248392241602\n",
      "Polynomial kernel: 0.914801666923908\n",
      "Radio Base Frequency kernel: 0.9161907701805834\n",
      "Sigmoid kernel: 0.8438545042959305\n"
     ]
    }
   ],
   "source": [
    "print(\"Linear kernel:\", sc_svc_lin2)\n",
    "print(\"Polynomial kernel:\", sc_svc_pol2)\n",
    "print(\"Radio Base Frequency kernel:\", sc_svc_rbf2)\n",
    "print(\"Sigmoid kernel:\", sc_svc_sig2)\n"
   ]
  },
  {
   "attachments": {},
   "cell_type": "markdown",
   "metadata": {},
   "source": [
    "Testing best feats with RandomizedCV SVC"
   ]
  },
  {
   "cell_type": "code",
   "execution_count": 208,
   "metadata": {},
   "outputs": [],
   "source": [
    "lin_cv2 = RandomizedSearchCV(\n",
    "    svm.LinearSVC(random_state=12), \n",
    "    {\"C\": uniform(loc=0, scale=3),\"penalty\":['l1','l2']},\n",
    "    n_iter = 10,\n",
    "    n_jobs=-1,\n",
    "    scoring=['accuracy','f1','precision','recall'],\n",
    "    refit='accuracy',\n",
    "    cv=5,\n",
    "    random_state=12,\n",
    "    verbose=0)\n",
    "\n",
    "poly_cv2 = RandomizedSearchCV(\n",
    "    svm.SVC(random_state=12,kernel='poly'), \n",
    "    dists,\n",
    "    n_iter = 10,\n",
    "    n_jobs=-1,\n",
    "    scoring=['accuracy','f1','precision','recall'],\n",
    "    refit='accuracy',\n",
    "    cv=5,\n",
    "    random_state=12,\n",
    "    verbose=0)\n",
    "\n",
    "rbf_cv2 = RandomizedSearchCV(\n",
    "    svm.SVC(random_state=13,kernel='rbf'), \n",
    "    dists,\n",
    "    n_iter = 10,\n",
    "    n_jobs=-1,\n",
    "    scoring=['accuracy','f1','precision','recall'],\n",
    "    refit='accuracy',\n",
    "    cv=5,\n",
    "    random_state=14,\n",
    "    verbose=0)\n",
    "\n",
    "sig_cv2 = RandomizedSearchCV(\n",
    "    svm.SVC(random_state=15,kernel='sigmoid'), \n",
    "    dists,\n",
    "    n_iter = 10,\n",
    "    n_jobs=-1,\n",
    "    scoring=['accuracy','f1','precision','recall'],\n",
    "    refit='accuracy',\n",
    "    cv=5,\n",
    "    random_state=12,\n",
    "    verbose=0)"
   ]
  },
  {
   "cell_type": "code",
   "execution_count": 209,
   "metadata": {},
   "outputs": [
    {
     "name": "stderr",
     "output_type": "stream",
     "text": [
      "/Library/Frameworks/Python.framework/Versions/3.11/lib/python3.11/site-packages/sklearn/svm/_base.py:1244: ConvergenceWarning: Liblinear failed to converge, increase the number of iterations.\n",
      "  warnings.warn(\n",
      "/Library/Frameworks/Python.framework/Versions/3.11/lib/python3.11/site-packages/sklearn/svm/_base.py:1244: ConvergenceWarning: Liblinear failed to converge, increase the number of iterations.\n",
      "  warnings.warn(\n",
      "/Library/Frameworks/Python.framework/Versions/3.11/lib/python3.11/site-packages/sklearn/svm/_base.py:1244: ConvergenceWarning: Liblinear failed to converge, increase the number of iterations.\n",
      "  warnings.warn(\n",
      "/Library/Frameworks/Python.framework/Versions/3.11/lib/python3.11/site-packages/sklearn/svm/_base.py:1244: ConvergenceWarning: Liblinear failed to converge, increase the number of iterations.\n",
      "  warnings.warn(\n",
      "/Library/Frameworks/Python.framework/Versions/3.11/lib/python3.11/site-packages/sklearn/svm/_base.py:1244: ConvergenceWarning: Liblinear failed to converge, increase the number of iterations.\n",
      "  warnings.warn(\n",
      "/Library/Frameworks/Python.framework/Versions/3.11/lib/python3.11/site-packages/sklearn/svm/_base.py:1244: ConvergenceWarning: Liblinear failed to converge, increase the number of iterations.\n",
      "  warnings.warn(\n",
      "/Library/Frameworks/Python.framework/Versions/3.11/lib/python3.11/site-packages/sklearn/svm/_base.py:1244: ConvergenceWarning: Liblinear failed to converge, increase the number of iterations.\n",
      "  warnings.warn(\n",
      "/Library/Frameworks/Python.framework/Versions/3.11/lib/python3.11/site-packages/sklearn/svm/_base.py:1244: ConvergenceWarning: Liblinear failed to converge, increase the number of iterations.\n",
      "  warnings.warn(\n",
      "/Library/Frameworks/Python.framework/Versions/3.11/lib/python3.11/site-packages/sklearn/svm/_base.py:1244: ConvergenceWarning: Liblinear failed to converge, increase the number of iterations.\n",
      "  warnings.warn(\n",
      "/Library/Frameworks/Python.framework/Versions/3.11/lib/python3.11/site-packages/sklearn/svm/_base.py:1244: ConvergenceWarning: Liblinear failed to converge, increase the number of iterations.\n",
      "  warnings.warn(\n",
      "/Library/Frameworks/Python.framework/Versions/3.11/lib/python3.11/site-packages/sklearn/svm/_base.py:1244: ConvergenceWarning: Liblinear failed to converge, increase the number of iterations.\n",
      "  warnings.warn(\n",
      "/Library/Frameworks/Python.framework/Versions/3.11/lib/python3.11/site-packages/sklearn/svm/_base.py:1244: ConvergenceWarning: Liblinear failed to converge, increase the number of iterations.\n",
      "  warnings.warn(\n",
      "/Library/Frameworks/Python.framework/Versions/3.11/lib/python3.11/site-packages/sklearn/svm/_base.py:1244: ConvergenceWarning: Liblinear failed to converge, increase the number of iterations.\n",
      "  warnings.warn(\n",
      "/Library/Frameworks/Python.framework/Versions/3.11/lib/python3.11/site-packages/sklearn/svm/_base.py:1244: ConvergenceWarning: Liblinear failed to converge, increase the number of iterations.\n",
      "  warnings.warn(\n",
      "/Library/Frameworks/Python.framework/Versions/3.11/lib/python3.11/site-packages/sklearn/svm/_base.py:1244: ConvergenceWarning: Liblinear failed to converge, increase the number of iterations.\n",
      "  warnings.warn(\n",
      "/Library/Frameworks/Python.framework/Versions/3.11/lib/python3.11/site-packages/sklearn/svm/_base.py:1244: ConvergenceWarning: Liblinear failed to converge, increase the number of iterations.\n",
      "  warnings.warn(\n",
      "/Library/Frameworks/Python.framework/Versions/3.11/lib/python3.11/site-packages/sklearn/svm/_base.py:1244: ConvergenceWarning: Liblinear failed to converge, increase the number of iterations.\n",
      "  warnings.warn(\n",
      "/Library/Frameworks/Python.framework/Versions/3.11/lib/python3.11/site-packages/sklearn/svm/_base.py:1244: ConvergenceWarning: Liblinear failed to converge, increase the number of iterations.\n",
      "  warnings.warn(\n",
      "/Library/Frameworks/Python.framework/Versions/3.11/lib/python3.11/site-packages/sklearn/svm/_base.py:1244: ConvergenceWarning: Liblinear failed to converge, increase the number of iterations.\n",
      "  warnings.warn(\n",
      "/Library/Frameworks/Python.framework/Versions/3.11/lib/python3.11/site-packages/sklearn/svm/_base.py:1244: ConvergenceWarning: Liblinear failed to converge, increase the number of iterations.\n",
      "  warnings.warn(\n"
     ]
    }
   ],
   "source": [
    "lin_cv2.fit(imp_x_train_best,imp_y_train)\n",
    "lin_cv_pred2 = lin_cv2.predict(imp_x_test_best)\n",
    "lin_cv_sc2 = lin_cv2.score(imp_x_test_best,imp_y_test)\n",
    "lin_cv_results2 = pd.DataFrame(lin_cv2.cv_results_)"
   ]
  },
  {
   "cell_type": "code",
   "execution_count": 210,
   "metadata": {},
   "outputs": [],
   "source": [
    "poly_cv2.fit(imp_x_train_best,imp_y_train)\n",
    "poly_cv_pred2 = poly_cv2.predict(imp_x_test_best)\n",
    "poly_cv_sc2 = poly_cv2.score(imp_x_test_best,imp_y_test)\n",
    "poly_cv_results2 = pd.DataFrame(poly_cv2.cv_results_)"
   ]
  },
  {
   "cell_type": "code",
   "execution_count": 211,
   "metadata": {},
   "outputs": [
    {
     "name": "stderr",
     "output_type": "stream",
     "text": [
      "/Library/Frameworks/Python.framework/Versions/3.11/lib/python3.11/site-packages/sklearn/metrics/_classification.py:1344: UndefinedMetricWarning: Precision is ill-defined and being set to 0.0 due to no predicted samples. Use `zero_division` parameter to control this behavior.\n",
      "  _warn_prf(average, modifier, msg_start, len(result))\n",
      "/Library/Frameworks/Python.framework/Versions/3.11/lib/python3.11/site-packages/sklearn/metrics/_classification.py:1344: UndefinedMetricWarning: Precision is ill-defined and being set to 0.0 due to no predicted samples. Use `zero_division` parameter to control this behavior.\n",
      "  _warn_prf(average, modifier, msg_start, len(result))\n",
      "/Library/Frameworks/Python.framework/Versions/3.11/lib/python3.11/site-packages/sklearn/metrics/_classification.py:1344: UndefinedMetricWarning: Precision is ill-defined and being set to 0.0 due to no predicted samples. Use `zero_division` parameter to control this behavior.\n",
      "  _warn_prf(average, modifier, msg_start, len(result))\n",
      "/Library/Frameworks/Python.framework/Versions/3.11/lib/python3.11/site-packages/sklearn/metrics/_classification.py:1344: UndefinedMetricWarning: Precision is ill-defined and being set to 0.0 due to no predicted samples. Use `zero_division` parameter to control this behavior.\n",
      "  _warn_prf(average, modifier, msg_start, len(result))\n",
      "/Library/Frameworks/Python.framework/Versions/3.11/lib/python3.11/site-packages/sklearn/metrics/_classification.py:1344: UndefinedMetricWarning: Precision is ill-defined and being set to 0.0 due to no predicted samples. Use `zero_division` parameter to control this behavior.\n",
      "  _warn_prf(average, modifier, msg_start, len(result))\n"
     ]
    }
   ],
   "source": [
    "rbf_cv2.fit(imp_x_train_best,imp_y_train)\n",
    "rbf_cv_pred2 = rbf_cv2.predict(imp_x_test_best)\n",
    "rbf_cv_sc2 = rbf_cv2.score(imp_x_test_best,imp_y_test)\n",
    "rbf_cv_results2 = pd.DataFrame(rbf_cv2.cv_results_)"
   ]
  },
  {
   "cell_type": "code",
   "execution_count": 212,
   "metadata": {},
   "outputs": [
    {
     "name": "stderr",
     "output_type": "stream",
     "text": [
      "/Library/Frameworks/Python.framework/Versions/3.11/lib/python3.11/site-packages/sklearn/metrics/_classification.py:1344: UndefinedMetricWarning: Precision is ill-defined and being set to 0.0 due to no predicted samples. Use `zero_division` parameter to control this behavior.\n",
      "  _warn_prf(average, modifier, msg_start, len(result))\n",
      "/Library/Frameworks/Python.framework/Versions/3.11/lib/python3.11/site-packages/sklearn/metrics/_classification.py:1344: UndefinedMetricWarning: Precision is ill-defined and being set to 0.0 due to no predicted samples. Use `zero_division` parameter to control this behavior.\n",
      "  _warn_prf(average, modifier, msg_start, len(result))\n",
      "/Library/Frameworks/Python.framework/Versions/3.11/lib/python3.11/site-packages/sklearn/metrics/_classification.py:1344: UndefinedMetricWarning: Precision is ill-defined and being set to 0.0 due to no predicted samples. Use `zero_division` parameter to control this behavior.\n",
      "  _warn_prf(average, modifier, msg_start, len(result))\n",
      "/Library/Frameworks/Python.framework/Versions/3.11/lib/python3.11/site-packages/sklearn/metrics/_classification.py:1344: UndefinedMetricWarning: Precision is ill-defined and being set to 0.0 due to no predicted samples. Use `zero_division` parameter to control this behavior.\n",
      "  _warn_prf(average, modifier, msg_start, len(result))\n",
      "/Library/Frameworks/Python.framework/Versions/3.11/lib/python3.11/site-packages/sklearn/metrics/_classification.py:1344: UndefinedMetricWarning: Precision is ill-defined and being set to 0.0 due to no predicted samples. Use `zero_division` parameter to control this behavior.\n",
      "  _warn_prf(average, modifier, msg_start, len(result))\n",
      "/Library/Frameworks/Python.framework/Versions/3.11/lib/python3.11/site-packages/sklearn/metrics/_classification.py:1344: UndefinedMetricWarning: Precision is ill-defined and being set to 0.0 due to no predicted samples. Use `zero_division` parameter to control this behavior.\n",
      "  _warn_prf(average, modifier, msg_start, len(result))\n",
      "/Library/Frameworks/Python.framework/Versions/3.11/lib/python3.11/site-packages/sklearn/metrics/_classification.py:1344: UndefinedMetricWarning: Precision is ill-defined and being set to 0.0 due to no predicted samples. Use `zero_division` parameter to control this behavior.\n",
      "  _warn_prf(average, modifier, msg_start, len(result))\n",
      "/Library/Frameworks/Python.framework/Versions/3.11/lib/python3.11/site-packages/sklearn/metrics/_classification.py:1344: UndefinedMetricWarning: Precision is ill-defined and being set to 0.0 due to no predicted samples. Use `zero_division` parameter to control this behavior.\n",
      "  _warn_prf(average, modifier, msg_start, len(result))\n",
      "/Library/Frameworks/Python.framework/Versions/3.11/lib/python3.11/site-packages/sklearn/metrics/_classification.py:1344: UndefinedMetricWarning: Precision is ill-defined and being set to 0.0 due to no predicted samples. Use `zero_division` parameter to control this behavior.\n",
      "  _warn_prf(average, modifier, msg_start, len(result))\n",
      "/Library/Frameworks/Python.framework/Versions/3.11/lib/python3.11/site-packages/sklearn/metrics/_classification.py:1344: UndefinedMetricWarning: Precision is ill-defined and being set to 0.0 due to no predicted samples. Use `zero_division` parameter to control this behavior.\n",
      "  _warn_prf(average, modifier, msg_start, len(result))\n"
     ]
    }
   ],
   "source": [
    "sig_cv2.fit(imp_x_train_best,imp_y_train)\n",
    "sig_cv_pred2 = sig_cv2.predict(imp_x_test_best)\n",
    "sig_cv_sc2 = sig_cv2.score(imp_x_test_best,imp_y_test)\n",
    "sig_cv_results2 = pd.DataFrame(sig_cv2.cv_results_)"
   ]
  },
  {
   "cell_type": "code",
   "execution_count": 214,
   "metadata": {},
   "outputs": [
    {
     "name": "stdout",
     "output_type": "stream",
     "text": [
      "Linear CV kernel: 0.9153675978803313\n",
      "Polynomial CV kernel: 0.9148531151926738\n",
      "Radio Base Frequency CV kernel: 0.9159849771055204\n",
      "Sigmoid CV kernel: 0.9089365642846118\n"
     ]
    }
   ],
   "source": [
    "print(\"Linear CV kernel:\", lin_cv_sc2)\n",
    "print(\"Polynomial CV kernel:\", poly_cv_sc2)\n",
    "print(\"Radio Base Frequency CV kernel:\", rbf_cv_sc2)\n",
    "print(\"Sigmoid CV kernel:\", sig_cv_sc2)"
   ]
  },
  {
   "attachments": {},
   "cell_type": "markdown",
   "metadata": {},
   "source": [
    "**Testing on unlabeled testing data**\n",
    "**Had to use .fillna(0) because otherwise SVC will not accept NaN values. However, this could definitely mess things up as the 0 values for certain features may cause issues.**"
   ]
  },
  {
   "cell_type": "code",
   "execution_count": 387,
   "metadata": {},
   "outputs": [],
   "source": [
    "from sklearn.impute import SimpleImputer\n",
    "imputer = SimpleImputer(strategy = 'most_frequent') # another: median\n",
    "test_trunc_x_imp = imputer.fit_transform(testing_X)"
   ]
  },
  {
   "cell_type": "code",
   "execution_count": 388,
   "metadata": {},
   "outputs": [],
   "source": [
    "svc_lin_test_pred = svc_lin.predict(test_trunc_x_imp)"
   ]
  },
  {
   "cell_type": "code",
   "execution_count": 389,
   "metadata": {},
   "outputs": [],
   "source": [
    "svc_poly_test_pred = svc_poly.predict(test_trunc_x_imp)"
   ]
  },
  {
   "cell_type": "code",
   "execution_count": 390,
   "metadata": {},
   "outputs": [],
   "source": [
    "svc_rbf_test_pred = svc_rbf.predict(test_trunc_x_imp)"
   ]
  },
  {
   "cell_type": "code",
   "execution_count": 391,
   "metadata": {},
   "outputs": [],
   "source": [
    "svc_sig_test_pred = svc_sig.predict(test_trunc_x_imp)"
   ]
  },
  {
   "cell_type": "code",
   "execution_count": 196,
   "metadata": {},
   "outputs": [
    {
     "name": "stdout",
     "output_type": "stream",
     "text": [
      "Linear kernel: 0.9995166378345375\n",
      "Polynomial kernel: 0.49363997150707234\n",
      "Radio Base Frequency kernel: 1.0\n",
      "Sigmoid kernel: 0.9955734201689224\n"
     ]
    }
   ],
   "source": [
    "print(\"Linear kernel:\", svc_lin_test_sc)\n",
    "print(\"Polynomial kernel:\", svc_poly_test_sc)\n",
    "print(\"Radio Base Frequency kernel:\", svc_rbf_test_sc)\n",
    "print(\"Sigmoid kernel:\", svc_sig_test_sc)"
   ]
  },
  {
   "cell_type": "code",
   "execution_count": 177,
   "metadata": {},
   "outputs": [],
   "source": [
    "lin_cv_pred_test = linear_cv.predict(testing_X.fillna(0))\n",
    "lin_cv_results_test = pd.DataFrame(linear_cv.cv_results_)"
   ]
  },
  {
   "cell_type": "code",
   "execution_count": 178,
   "metadata": {},
   "outputs": [],
   "source": [
    "poly_cv_pred_test = poly_cv.predict(testing_X.fillna(0))\n",
    "poly_cv_results_test = pd.DataFrame(poly_cv.cv_results_)"
   ]
  },
  {
   "cell_type": "code",
   "execution_count": 179,
   "metadata": {},
   "outputs": [],
   "source": [
    "rbf_cv_pred_test = rbf_cv.predict(testing_X.fillna(0))\n",
    "rbf_cv_results_test = pd.DataFrame(rbf_cv.cv_results_)"
   ]
  },
  {
   "cell_type": "code",
   "execution_count": 180,
   "metadata": {},
   "outputs": [],
   "source": [
    "sig_cv_pred_test = sig_cv.predict(testing_X.fillna(0))\n",
    "sig_cv_results_test = pd.DataFrame(sig_cv.cv_results_)"
   ]
  },
  {
   "cell_type": "code",
   "execution_count": 215,
   "metadata": {},
   "outputs": [
    {
     "name": "stdout",
     "output_type": "stream",
     "text": [
      "Linear kernel w/ CV: 0.9993639971507072\n",
      "Polynomial kernel w/ CV: 0.3835605983514806\n",
      "Radio Base Frequency kernel w/ CV: 1.0\n",
      "Sigmoid kernel w/ CV: 0.9980156711102066\n"
     ]
    }
   ],
   "source": [
    "print(\"Linear kernel w/ CV:\", lin_cv_sc_test)\n",
    "print(\"Polynomial kernel w/ CV:\", poly_cv_sc_test)\n",
    "print(\"Radio Base Frequency kernel w/ CV:\", rbf_cv_sc_test)\n",
    "print(\"Sigmoid kernel w/ CV:\", sig_cv_sc_test)"
   ]
  },
  {
   "cell_type": "code",
   "execution_count": 372,
   "metadata": {},
   "outputs": [],
   "source": [
    "lin_cv_pred_test = linear_cv.predict(test_trunc_x_imp)\n",
    "lin_cv_results_test = pd.DataFrame(linear_cv.cv_results_)"
   ]
  },
  {
   "cell_type": "code",
   "execution_count": 373,
   "metadata": {},
   "outputs": [],
   "source": [
    "poly_cv_pred_test = poly_cv.predict(test_trunc_x_imp)\n",
    "poly_cv_results_test = pd.DataFrame(poly_cv.cv_results_)"
   ]
  },
  {
   "cell_type": "code",
   "execution_count": 374,
   "metadata": {},
   "outputs": [],
   "source": [
    "rbf_cv_pred_test = rbf_cv.predict(test_trunc_x_imp)\n",
    "rbf_cv_results_test = pd.DataFrame(rbf_cv.cv_results_)"
   ]
  },
  {
   "cell_type": "code",
   "execution_count": 375,
   "metadata": {},
   "outputs": [],
   "source": [
    "sig_cv_pred_test = sig_cv.predict(test_trunc_x_imp)\n",
    "sig_cv_results_test = pd.DataFrame(sig_cv.cv_results_)"
   ]
  },
  {
   "cell_type": "code",
   "execution_count": 220,
   "metadata": {},
   "outputs": [
    {
     "name": "stdout",
     "output_type": "stream",
     "text": [
      "Linear CV kernel: 0.9999745598860282\n",
      "Polynomial CV kernel: 0.4933092500254401\n",
      "Radio Base Frequency CV kernel: 1.0\n",
      "Sigmoid CV kernel: 1.0\n"
     ]
    }
   ],
   "source": [
    "print(\"Linear CV kernel:\", lin_cv_sc_test)\n",
    "print(\"Polynomial CV kernel:\", poly_cv_sc_test)\n",
    "print(\"Radio Base Frequency CV kernel:\", rbf_cv_sc_test)\n",
    "print(\"Sigmoid CV kernel:\", sig_cv_sc_test)"
   ]
  },
  {
   "attachments": {},
   "cell_type": "markdown",
   "metadata": {},
   "source": [
    "**#################################### BREAK ####################################**"
   ]
  },
  {
   "attachments": {},
   "cell_type": "markdown",
   "metadata": {},
   "source": [
    "***SMOTE***"
   ]
  },
  {
   "cell_type": "code",
   "execution_count": 287,
   "metadata": {},
   "outputs": [],
   "source": [
    "smote_X = smote.drop(\"hospital_death\",axis=1)\n",
    "smote_y = smote['hospital_death']\n",
    "random.seed(101)\n",
    "smote_x_train, smote_x_test, smote_y_train, smote_y_test = train_test_split(smote_X,smote_y,test_size=.3, random_state=47)"
   ]
  },
  {
   "cell_type": "code",
   "execution_count": 307,
   "metadata": {},
   "outputs": [
    {
     "data": {
      "text/plain": [
       "Index(['age', 'bmi', 'height', 'pre_icu_los_days', 'weight', 'albumin_apache',\n",
       "       'apache_2_diagnosis', 'apache_3j_diagnosis', 'arf_apache',\n",
       "       'bilirubin_apache',\n",
       "       ...\n",
       "       'apache_4a_hospital_death_prob', 'apache_4a_icu_death_prob', 'aids',\n",
       "       'cirrhosis', 'diabetes_mellitus', 'hepatic_failure',\n",
       "       'immunosuppression', 'leukemia', 'lymphoma',\n",
       "       'solid_tumor_with_metastasis'],\n",
       "      dtype='object', length=170)"
      ]
     },
     "execution_count": 307,
     "metadata": {},
     "output_type": "execute_result"
    }
   ],
   "source": [
    "smote_x_train.columns"
   ]
  },
  {
   "cell_type": "code",
   "execution_count": 308,
   "metadata": {},
   "outputs": [],
   "source": [
    "svc_poly = svm.SVC(kernel='poly')\n",
    "svc_rbf = svm.SVC(kernel='rbf')\n",
    "svc_sig = svm.SVC(kernel='sigmoid')\n",
    "svc_lin = svm.LinearSVC()"
   ]
  },
  {
   "cell_type": "code",
   "execution_count": 309,
   "metadata": {},
   "outputs": [],
   "source": [
    "svc_lin.fit(smote_x_train,smote_y_train)\n",
    "svc_lin_pred = svc_lin.predict(smote_x_test)\n",
    "sc_svc_lin = svc_lin.score(smote_x_test,smote_y_test)"
   ]
  },
  {
   "cell_type": "code",
   "execution_count": 305,
   "metadata": {},
   "outputs": [
    {
     "data": {
      "text/plain": [
       "array(['age', 'bmi', 'height', 'pre_icu_los_days', 'weight',\n",
       "       'albumin_apache', 'apache_2_diagnosis', 'apache_3j_diagnosis',\n",
       "       'arf_apache', 'bilirubin_apache', 'bun_apache',\n",
       "       'creatinine_apache', 'fio2_apache', 'gcs_eyes_apache',\n",
       "       'gcs_motor_apache', 'gcs_unable_apache', 'gcs_verbal_apache',\n",
       "       'glucose_apache', 'heart_rate_apache', 'hematocrit_apache',\n",
       "       'intubated_apache', 'map_apache', 'paco2_apache',\n",
       "       'paco2_for_ph_apache', 'pao2_apache', 'ph_apache',\n",
       "       'resprate_apache', 'sodium_apache', 'temp_apache',\n",
       "       'urineoutput_apache', 'ventilated_apache', 'wbc_apache',\n",
       "       'd1_diasbp_invasive_max', 'd1_diasbp_invasive_min',\n",
       "       'd1_diasbp_max', 'd1_diasbp_min', 'd1_diasbp_noninvasive_max',\n",
       "       'd1_diasbp_noninvasive_min', 'd1_heartrate_max',\n",
       "       'd1_heartrate_min', 'd1_mbp_invasive_max', 'd1_mbp_invasive_min',\n",
       "       'd1_mbp_max', 'd1_mbp_min', 'd1_mbp_noninvasive_max',\n",
       "       'd1_mbp_noninvasive_min', 'd1_resprate_max', 'd1_resprate_min',\n",
       "       'd1_spo2_max', 'd1_spo2_min', 'd1_sysbp_invasive_max',\n",
       "       'd1_sysbp_invasive_min', 'd1_sysbp_max', 'd1_sysbp_min',\n",
       "       'd1_sysbp_noninvasive_max', 'd1_sysbp_noninvasive_min',\n",
       "       'd1_temp_max', 'd1_temp_min', 'h1_diasbp_invasive_max',\n",
       "       'h1_diasbp_invasive_min', 'h1_diasbp_max', 'h1_diasbp_min',\n",
       "       'h1_diasbp_noninvasive_max', 'h1_diasbp_noninvasive_min',\n",
       "       'h1_heartrate_max', 'h1_heartrate_min', 'h1_mbp_invasive_max',\n",
       "       'h1_mbp_invasive_min', 'h1_mbp_max', 'h1_mbp_min',\n",
       "       'h1_mbp_noninvasive_max', 'h1_mbp_noninvasive_min',\n",
       "       'h1_resprate_max', 'h1_resprate_min', 'h1_spo2_max', 'h1_spo2_min',\n",
       "       'h1_sysbp_invasive_max', 'h1_sysbp_invasive_min', 'h1_sysbp_max',\n",
       "       'h1_sysbp_min', 'h1_sysbp_noninvasive_max',\n",
       "       'h1_sysbp_noninvasive_min', 'h1_temp_max', 'h1_temp_min',\n",
       "       'd1_albumin_max', 'd1_albumin_min', 'd1_bilirubin_max',\n",
       "       'd1_bilirubin_min', 'd1_bun_max', 'd1_bun_min', 'd1_calcium_max',\n",
       "       'd1_calcium_min', 'd1_creatinine_max', 'd1_creatinine_min',\n",
       "       'd1_glucose_max', 'd1_glucose_min', 'd1_hco3_max', 'd1_hco3_min',\n",
       "       'd1_hemaglobin_max', 'd1_hemaglobin_min', 'd1_hematocrit_max',\n",
       "       'd1_hematocrit_min', 'd1_inr_max', 'd1_inr_min', 'd1_lactate_max',\n",
       "       'd1_lactate_min', 'd1_platelets_max', 'd1_platelets_min',\n",
       "       'd1_potassium_max', 'd1_potassium_min', 'd1_sodium_max',\n",
       "       'd1_sodium_min', 'd1_wbc_max', 'd1_wbc_min', 'h1_albumin_max',\n",
       "       'h1_albumin_min', 'h1_bilirubin_max', 'h1_bilirubin_min',\n",
       "       'h1_bun_max', 'h1_bun_min', 'h1_calcium_max', 'h1_calcium_min',\n",
       "       'h1_creatinine_max', 'h1_creatinine_min', 'h1_glucose_max',\n",
       "       'h1_glucose_min', 'h1_hco3_max', 'h1_hco3_min',\n",
       "       'h1_hemaglobin_max', 'h1_hemaglobin_min', 'h1_hematocrit_max',\n",
       "       'h1_hematocrit_min', 'h1_inr_max', 'h1_inr_min', 'h1_lactate_max',\n",
       "       'h1_lactate_min', 'h1_platelets_max', 'h1_platelets_min',\n",
       "       'h1_potassium_max', 'h1_potassium_min', 'h1_sodium_max',\n",
       "       'h1_sodium_min', 'h1_wbc_max', 'h1_wbc_min',\n",
       "       'd1_arterial_pco2_max', 'd1_arterial_pco2_min',\n",
       "       'd1_arterial_ph_max', 'd1_arterial_ph_min', 'd1_arterial_po2_max',\n",
       "       'd1_arterial_po2_min', 'd1_pao2fio2ratio_max',\n",
       "       'd1_pao2fio2ratio_min', 'h1_arterial_pco2_max',\n",
       "       'h1_arterial_pco2_min', 'h1_arterial_ph_max', 'h1_arterial_ph_min',\n",
       "       'h1_arterial_po2_max', 'h1_arterial_po2_min',\n",
       "       'h1_pao2fio2ratio_max', 'h1_pao2fio2ratio_min',\n",
       "       'apache_4a_hospital_death_prob', 'apache_4a_icu_death_prob',\n",
       "       'aids', 'cirrhosis', 'diabetes_mellitus', 'hepatic_failure',\n",
       "       'immunosuppression', 'leukemia', 'lymphoma',\n",
       "       'solid_tumor_with_metastasis'], dtype=object)"
      ]
     },
     "execution_count": 305,
     "metadata": {},
     "output_type": "execute_result"
    }
   ],
   "source": [
    "svc_lin.feature_names_in_"
   ]
  },
  {
   "cell_type": "code",
   "execution_count": 312,
   "metadata": {},
   "outputs": [],
   "source": [
    "svc_poly.fit(smote_x_train,smote_y_train)\n",
    "svc_poly_pred = svc_poly.predict(smote_x_test)\n",
    "sc_svc_poly = svc_poly.score(smote_x_test,smote_y_test)"
   ]
  },
  {
   "cell_type": "code",
   "execution_count": 313,
   "metadata": {},
   "outputs": [],
   "source": [
    "svc_rbf.fit(smote_x_train,smote_y_train)\n",
    "svc_rbf_pred = svc_rbf.predict(smote_x_test)\n",
    "sc_svc_rbf = svc_rbf.score(smote_x_test,smote_y_test)"
   ]
  },
  {
   "cell_type": "code",
   "execution_count": 314,
   "metadata": {},
   "outputs": [],
   "source": [
    "svc_sig.fit(smote_x_train,smote_y_train)\n",
    "svc_sig_pred = svc_sig.predict(smote_x_test)\n",
    "sc_svc_sig = svc_sig.score(smote_x_test,smote_y_test)"
   ]
  },
  {
   "attachments": {},
   "cell_type": "markdown",
   "metadata": {},
   "source": [
    "Results"
   ]
  },
  {
   "cell_type": "code",
   "execution_count": 315,
   "metadata": {},
   "outputs": [
    {
     "name": "stdout",
     "output_type": "stream",
     "text": [
      "Linear kernel: 0.8057544417926279\n",
      "Polynomial kernel: 0.9222616658949426\n",
      "Radio Base Frequency kernel: 0.8167594802439672\n",
      "Sigmoid kernel: 0.7260673561389552\n"
     ]
    }
   ],
   "source": [
    "print(\"Linear kernel:\", sc_svc_lin)\n",
    "print(\"Polynomial kernel:\", sc_svc_pol)\n",
    "print(\"Radio Base Frequency kernel:\", sc_svc_rbf)\n",
    "print(\"Sigmoid kernel:\", sc_svc_sig)\n"
   ]
  },
  {
   "attachments": {},
   "cell_type": "markdown",
   "metadata": {},
   "source": [
    "**RandomCV**"
   ]
  },
  {
   "cell_type": "code",
   "execution_count": 298,
   "metadata": {},
   "outputs": [],
   "source": [
    "dists = {\n",
    "    \"C\": uniform(loc=0, scale=3),\n",
    "    \"gamma\": uniform(loc=0,scale=(3/171)) # number of features\n",
    "}\n",
    "\n",
    "lin_cv = RandomizedSearchCV(\n",
    "    svm.LinearSVC(random_state=12), \n",
    "    {\"C\": uniform(loc=0, scale=3),\"penalty\":['l1','l2']},\n",
    "    n_iter = 10,\n",
    "    n_jobs=-1,\n",
    "    scoring=['accuracy','f1','precision','recall'],\n",
    "    refit='accuracy',\n",
    "    cv=5,\n",
    "    random_state=114,\n",
    "    verbose=0)\n",
    "\n",
    "poly_cv = RandomizedSearchCV(\n",
    "    svm.SVC(random_state=12,kernel='poly'), \n",
    "    dists,\n",
    "    n_iter = 10,\n",
    "    n_jobs=-1,\n",
    "    scoring=['accuracy','f1','precision','recall'],\n",
    "    refit='accuracy',\n",
    "    cv=5,\n",
    "    random_state=115,\n",
    "    verbose=0)\n",
    "\n",
    "rbf_cv = RandomizedSearchCV(\n",
    "    svm.SVC(random_state=13,kernel='rbf'), \n",
    "    dists,\n",
    "    n_iter = 110,\n",
    "    n_jobs=-1,\n",
    "    scoring=['accuracy','f1','precision','recall'],\n",
    "    refit='accuracy',\n",
    "    cv=5,\n",
    "    random_state=116,\n",
    "    verbose=0)\n",
    "\n",
    "sig_cv = RandomizedSearchCV(\n",
    "    svm.SVC(random_state=15,kernel='sigmoid'), \n",
    "    dists,\n",
    "    n_iter = 10,\n",
    "    n_jobs=-1,\n",
    "    scoring=['accuracy','f1','precision','recall'],\n",
    "    refit='accuracy',\n",
    "    cv=5,\n",
    "    random_state=117,\n",
    "    verbose=0)"
   ]
  },
  {
   "cell_type": "code",
   "execution_count": 299,
   "metadata": {},
   "outputs": [
    {
     "name": "stderr",
     "output_type": "stream",
     "text": [
      "/Library/Frameworks/Python.framework/Versions/3.11/lib/python3.11/site-packages/sklearn/svm/_base.py:1244: ConvergenceWarning: Liblinear failed to converge, increase the number of iterations.\n",
      "  warnings.warn(\n",
      "/Library/Frameworks/Python.framework/Versions/3.11/lib/python3.11/site-packages/sklearn/svm/_base.py:1244: ConvergenceWarning: Liblinear failed to converge, increase the number of iterations.\n",
      "  warnings.warn(\n",
      "/Library/Frameworks/Python.framework/Versions/3.11/lib/python3.11/site-packages/sklearn/svm/_base.py:1244: ConvergenceWarning: Liblinear failed to converge, increase the number of iterations.\n",
      "  warnings.warn(\n",
      "/Library/Frameworks/Python.framework/Versions/3.11/lib/python3.11/site-packages/sklearn/svm/_base.py:1244: ConvergenceWarning: Liblinear failed to converge, increase the number of iterations.\n",
      "  warnings.warn(\n",
      "/Library/Frameworks/Python.framework/Versions/3.11/lib/python3.11/site-packages/sklearn/svm/_base.py:1244: ConvergenceWarning: Liblinear failed to converge, increase the number of iterations.\n",
      "  warnings.warn(\n",
      "/Library/Frameworks/Python.framework/Versions/3.11/lib/python3.11/site-packages/sklearn/svm/_base.py:1244: ConvergenceWarning: Liblinear failed to converge, increase the number of iterations.\n",
      "  warnings.warn(\n",
      "/Library/Frameworks/Python.framework/Versions/3.11/lib/python3.11/site-packages/sklearn/svm/_base.py:1244: ConvergenceWarning: Liblinear failed to converge, increase the number of iterations.\n",
      "  warnings.warn(\n",
      "/Library/Frameworks/Python.framework/Versions/3.11/lib/python3.11/site-packages/sklearn/svm/_base.py:1244: ConvergenceWarning: Liblinear failed to converge, increase the number of iterations.\n",
      "  warnings.warn(\n",
      "/Library/Frameworks/Python.framework/Versions/3.11/lib/python3.11/site-packages/sklearn/svm/_base.py:1244: ConvergenceWarning: Liblinear failed to converge, increase the number of iterations.\n",
      "  warnings.warn(\n",
      "/Library/Frameworks/Python.framework/Versions/3.11/lib/python3.11/site-packages/sklearn/svm/_base.py:1244: ConvergenceWarning: Liblinear failed to converge, increase the number of iterations.\n",
      "  warnings.warn(\n",
      "/Library/Frameworks/Python.framework/Versions/3.11/lib/python3.11/site-packages/sklearn/svm/_base.py:1244: ConvergenceWarning: Liblinear failed to converge, increase the number of iterations.\n",
      "  warnings.warn(\n",
      "/Library/Frameworks/Python.framework/Versions/3.11/lib/python3.11/site-packages/sklearn/svm/_base.py:1244: ConvergenceWarning: Liblinear failed to converge, increase the number of iterations.\n",
      "  warnings.warn(\n",
      "/Library/Frameworks/Python.framework/Versions/3.11/lib/python3.11/site-packages/sklearn/svm/_base.py:1244: ConvergenceWarning: Liblinear failed to converge, increase the number of iterations.\n",
      "  warnings.warn(\n",
      "/Library/Frameworks/Python.framework/Versions/3.11/lib/python3.11/site-packages/sklearn/svm/_base.py:1244: ConvergenceWarning: Liblinear failed to converge, increase the number of iterations.\n",
      "  warnings.warn(\n",
      "/Library/Frameworks/Python.framework/Versions/3.11/lib/python3.11/site-packages/sklearn/svm/_base.py:1244: ConvergenceWarning: Liblinear failed to converge, increase the number of iterations.\n",
      "  warnings.warn(\n"
     ]
    }
   ],
   "source": [
    "lin_cv.fit(smote_x_train,smote_y_train)\n",
    "lin_cv_pred = lin_cv.predict(smote_x_test)\n",
    "lin_cv_sc = lin_cv.score(smote_x_test,smote_y_test)\n",
    "lin_cv_results = pd.DataFrame(lin_cv.cv_results_)"
   ]
  },
  {
   "cell_type": "code",
   "execution_count": 300,
   "metadata": {},
   "outputs": [],
   "source": [
    "poly_cv.fit(smote_x_train,smote_y_train)\n",
    "poly_cv_pred = poly_cv.predict(smote_x_test)\n",
    "poly_cv_sc = poly_cv.score(smote_x_test,smote_y_test)\n",
    "poly_cv_results = pd.DataFrame(poly_cv.cv_results_)"
   ]
  },
  {
   "cell_type": "code",
   "execution_count": 301,
   "metadata": {},
   "outputs": [
    {
     "name": "stderr",
     "output_type": "stream",
     "text": [
      "/Library/Frameworks/Python.framework/Versions/3.11/lib/python3.11/site-packages/sklearn/metrics/_classification.py:1344: UndefinedMetricWarning: Precision is ill-defined and being set to 0.0 due to no predicted samples. Use `zero_division` parameter to control this behavior.\n",
      "  _warn_prf(average, modifier, msg_start, len(result))\n",
      "/Library/Frameworks/Python.framework/Versions/3.11/lib/python3.11/site-packages/sklearn/metrics/_classification.py:1344: UndefinedMetricWarning: Precision is ill-defined and being set to 0.0 due to no predicted samples. Use `zero_division` parameter to control this behavior.\n",
      "  _warn_prf(average, modifier, msg_start, len(result))\n",
      "/Library/Frameworks/Python.framework/Versions/3.11/lib/python3.11/site-packages/sklearn/metrics/_classification.py:1344: UndefinedMetricWarning: Precision is ill-defined and being set to 0.0 due to no predicted samples. Use `zero_division` parameter to control this behavior.\n",
      "  _warn_prf(average, modifier, msg_start, len(result))\n",
      "/Library/Frameworks/Python.framework/Versions/3.11/lib/python3.11/site-packages/sklearn/metrics/_classification.py:1344: UndefinedMetricWarning: Precision is ill-defined and being set to 0.0 due to no predicted samples. Use `zero_division` parameter to control this behavior.\n",
      "  _warn_prf(average, modifier, msg_start, len(result))\n",
      "/Library/Frameworks/Python.framework/Versions/3.11/lib/python3.11/site-packages/sklearn/metrics/_classification.py:1344: UndefinedMetricWarning: Precision is ill-defined and being set to 0.0 due to no predicted samples. Use `zero_division` parameter to control this behavior.\n",
      "  _warn_prf(average, modifier, msg_start, len(result))\n"
     ]
    }
   ],
   "source": [
    "rbf_cv.fit(smote_x_train,smote_y_train)\n",
    "rbf_cv_pred = rbf_cv.predict(smote_x_test)\n",
    "rbf_cv_sc = rbf_cv.score(smote_x_test,smote_y_test)\n",
    "rbf_cv_results = pd.DataFrame(rbf_cv.cv_results_)"
   ]
  },
  {
   "cell_type": "code",
   "execution_count": 424,
   "metadata": {},
   "outputs": [
    {
     "data": {
      "text/html": [
       "<div>\n",
       "<style scoped>\n",
       "    .dataframe tbody tr th:only-of-type {\n",
       "        vertical-align: middle;\n",
       "    }\n",
       "\n",
       "    .dataframe tbody tr th {\n",
       "        vertical-align: top;\n",
       "    }\n",
       "\n",
       "    .dataframe thead th {\n",
       "        text-align: right;\n",
       "    }\n",
       "</style>\n",
       "<table border=\"1\" class=\"dataframe\">\n",
       "  <thead>\n",
       "    <tr style=\"text-align: right;\">\n",
       "      <th></th>\n",
       "      <th>mean_fit_time</th>\n",
       "      <th>std_fit_time</th>\n",
       "      <th>mean_score_time</th>\n",
       "      <th>std_score_time</th>\n",
       "      <th>param_C</th>\n",
       "      <th>param_gamma</th>\n",
       "      <th>params</th>\n",
       "      <th>split0_test_accuracy</th>\n",
       "      <th>split1_test_accuracy</th>\n",
       "      <th>split2_test_accuracy</th>\n",
       "      <th>...</th>\n",
       "      <th>std_test_precision</th>\n",
       "      <th>rank_test_precision</th>\n",
       "      <th>split0_test_recall</th>\n",
       "      <th>split1_test_recall</th>\n",
       "      <th>split2_test_recall</th>\n",
       "      <th>split3_test_recall</th>\n",
       "      <th>split4_test_recall</th>\n",
       "      <th>mean_test_recall</th>\n",
       "      <th>std_test_recall</th>\n",
       "      <th>rank_test_recall</th>\n",
       "    </tr>\n",
       "  </thead>\n",
       "  <tbody>\n",
       "    <tr>\n",
       "      <th>0</th>\n",
       "      <td>650.712089</td>\n",
       "      <td>6.969153</td>\n",
       "      <td>36.635373</td>\n",
       "      <td>0.210464</td>\n",
       "      <td>0.106767</td>\n",
       "      <td>0.013678</td>\n",
       "      <td>{'C': 0.10676710492889818, 'gamma': 0.01367797...</td>\n",
       "      <td>0.913629</td>\n",
       "      <td>0.913629</td>\n",
       "      <td>0.913629</td>\n",
       "      <td>...</td>\n",
       "      <td>0.000000</td>\n",
       "      <td>10</td>\n",
       "      <td>0.000000</td>\n",
       "      <td>0.000000</td>\n",
       "      <td>0.000000</td>\n",
       "      <td>0.000000</td>\n",
       "      <td>0.000000</td>\n",
       "      <td>0.000000</td>\n",
       "      <td>0.000000</td>\n",
       "      <td>10</td>\n",
       "    </tr>\n",
       "    <tr>\n",
       "      <th>1</th>\n",
       "      <td>391.299244</td>\n",
       "      <td>5.128305</td>\n",
       "      <td>23.364456</td>\n",
       "      <td>0.207180</td>\n",
       "      <td>2.056923</td>\n",
       "      <td>0.003705</td>\n",
       "      <td>{'C': 2.0569231285180263, 'gamma': 0.003704949...</td>\n",
       "      <td>0.927181</td>\n",
       "      <td>0.927960</td>\n",
       "      <td>0.926636</td>\n",
       "      <td>...</td>\n",
       "      <td>0.017703</td>\n",
       "      <td>5</td>\n",
       "      <td>0.239856</td>\n",
       "      <td>0.229937</td>\n",
       "      <td>0.218215</td>\n",
       "      <td>0.248649</td>\n",
       "      <td>0.225428</td>\n",
       "      <td>0.232417</td>\n",
       "      <td>0.010728</td>\n",
       "      <td>1</td>\n",
       "    </tr>\n",
       "    <tr>\n",
       "      <th>2</th>\n",
       "      <td>3913.884127</td>\n",
       "      <td>458.608359</td>\n",
       "      <td>591.594798</td>\n",
       "      <td>448.587815</td>\n",
       "      <td>0.724986</td>\n",
       "      <td>0.01657</td>\n",
       "      <td>{'C': 0.7249856571992477, 'gamma': 0.016569637...</td>\n",
       "      <td>0.917757</td>\n",
       "      <td>0.916277</td>\n",
       "      <td>0.916277</td>\n",
       "      <td>...</td>\n",
       "      <td>0.036353</td>\n",
       "      <td>3</td>\n",
       "      <td>0.056808</td>\n",
       "      <td>0.042381</td>\n",
       "      <td>0.042381</td>\n",
       "      <td>0.052252</td>\n",
       "      <td>0.038774</td>\n",
       "      <td>0.046519</td>\n",
       "      <td>0.006826</td>\n",
       "      <td>9</td>\n",
       "    </tr>\n",
       "    <tr>\n",
       "      <th>3</th>\n",
       "      <td>4456.220874</td>\n",
       "      <td>7.645968</td>\n",
       "      <td>98.958671</td>\n",
       "      <td>1.658096</td>\n",
       "      <td>1.244441</td>\n",
       "      <td>0.013076</td>\n",
       "      <td>{'C': 1.2444409071927485, 'gamma': 0.013076094...</td>\n",
       "      <td>0.922118</td>\n",
       "      <td>0.922040</td>\n",
       "      <td>0.922975</td>\n",
       "      <td>...</td>\n",
       "      <td>0.020032</td>\n",
       "      <td>7</td>\n",
       "      <td>0.160505</td>\n",
       "      <td>0.153291</td>\n",
       "      <td>0.152390</td>\n",
       "      <td>0.149550</td>\n",
       "      <td>0.153291</td>\n",
       "      <td>0.153805</td>\n",
       "      <td>0.003620</td>\n",
       "      <td>5</td>\n",
       "    </tr>\n",
       "    <tr>\n",
       "      <th>4</th>\n",
       "      <td>501.619941</td>\n",
       "      <td>27.277372</td>\n",
       "      <td>84.988784</td>\n",
       "      <td>0.873781</td>\n",
       "      <td>0.402729</td>\n",
       "      <td>0.00743</td>\n",
       "      <td>{'C': 0.4027290119076675, 'gamma': 0.007430481...</td>\n",
       "      <td>0.921651</td>\n",
       "      <td>0.921028</td>\n",
       "      <td>0.921573</td>\n",
       "      <td>...</td>\n",
       "      <td>0.011045</td>\n",
       "      <td>1</td>\n",
       "      <td>0.111812</td>\n",
       "      <td>0.104599</td>\n",
       "      <td>0.114518</td>\n",
       "      <td>0.107207</td>\n",
       "      <td>0.100090</td>\n",
       "      <td>0.107645</td>\n",
       "      <td>0.005121</td>\n",
       "      <td>7</td>\n",
       "    </tr>\n",
       "    <tr>\n",
       "      <th>5</th>\n",
       "      <td>5903.903042</td>\n",
       "      <td>451.975264</td>\n",
       "      <td>986.823764</td>\n",
       "      <td>37.153282</td>\n",
       "      <td>1.340712</td>\n",
       "      <td>0.015277</td>\n",
       "      <td>{'C': 1.34071229863613, 'gamma': 0.01527705965...</td>\n",
       "      <td>0.920327</td>\n",
       "      <td>0.920327</td>\n",
       "      <td>0.921028</td>\n",
       "      <td>...</td>\n",
       "      <td>0.018134</td>\n",
       "      <td>8</td>\n",
       "      <td>0.135257</td>\n",
       "      <td>0.124436</td>\n",
       "      <td>0.127142</td>\n",
       "      <td>0.120721</td>\n",
       "      <td>0.125338</td>\n",
       "      <td>0.126579</td>\n",
       "      <td>0.004818</td>\n",
       "      <td>6</td>\n",
       "    </tr>\n",
       "    <tr>\n",
       "      <th>6</th>\n",
       "      <td>963.555064</td>\n",
       "      <td>14.730845</td>\n",
       "      <td>81.415162</td>\n",
       "      <td>10.265329</td>\n",
       "      <td>1.53282</td>\n",
       "      <td>0.005997</td>\n",
       "      <td>{'C': 1.5328202292244688, 'gamma': 0.005997140...</td>\n",
       "      <td>0.927025</td>\n",
       "      <td>0.927648</td>\n",
       "      <td>0.926168</td>\n",
       "      <td>...</td>\n",
       "      <td>0.018979</td>\n",
       "      <td>6</td>\n",
       "      <td>0.245266</td>\n",
       "      <td>0.229035</td>\n",
       "      <td>0.221821</td>\n",
       "      <td>0.237838</td>\n",
       "      <td>0.222723</td>\n",
       "      <td>0.231337</td>\n",
       "      <td>0.009015</td>\n",
       "      <td>2</td>\n",
       "    </tr>\n",
       "    <tr>\n",
       "      <th>7</th>\n",
       "      <td>8733.772651</td>\n",
       "      <td>26.155030</td>\n",
       "      <td>454.169053</td>\n",
       "      <td>449.505748</td>\n",
       "      <td>0.889659</td>\n",
       "      <td>0.014046</td>\n",
       "      <td>{'C': 0.8896585620117006, 'gamma': 0.014045534...</td>\n",
       "      <td>0.920405</td>\n",
       "      <td>0.919315</td>\n",
       "      <td>0.919470</td>\n",
       "      <td>...</td>\n",
       "      <td>0.025592</td>\n",
       "      <td>4</td>\n",
       "      <td>0.110911</td>\n",
       "      <td>0.091073</td>\n",
       "      <td>0.091975</td>\n",
       "      <td>0.090991</td>\n",
       "      <td>0.083859</td>\n",
       "      <td>0.093762</td>\n",
       "      <td>0.009058</td>\n",
       "      <td>8</td>\n",
       "    </tr>\n",
       "    <tr>\n",
       "      <th>8</th>\n",
       "      <td>1807.235928</td>\n",
       "      <td>478.174613</td>\n",
       "      <td>39.792777</td>\n",
       "      <td>5.191415</td>\n",
       "      <td>2.010891</td>\n",
       "      <td>0.001823</td>\n",
       "      <td>{'C': 2.010891115338811, 'gamma': 0.0018231769...</td>\n",
       "      <td>0.926090</td>\n",
       "      <td>0.926246</td>\n",
       "      <td>0.925156</td>\n",
       "      <td>...</td>\n",
       "      <td>0.014884</td>\n",
       "      <td>2</td>\n",
       "      <td>0.201082</td>\n",
       "      <td>0.193868</td>\n",
       "      <td>0.186655</td>\n",
       "      <td>0.198198</td>\n",
       "      <td>0.179441</td>\n",
       "      <td>0.191849</td>\n",
       "      <td>0.007881</td>\n",
       "      <td>3</td>\n",
       "    </tr>\n",
       "    <tr>\n",
       "      <th>9</th>\n",
       "      <td>8869.047802</td>\n",
       "      <td>14.876884</td>\n",
       "      <td>31.556014</td>\n",
       "      <td>0.562615</td>\n",
       "      <td>1.440763</td>\n",
       "      <td>0.013151</td>\n",
       "      <td>{'C': 1.4407625884521686, 'gamma': 0.013151306...</td>\n",
       "      <td>0.922196</td>\n",
       "      <td>0.922664</td>\n",
       "      <td>0.923287</td>\n",
       "      <td>...</td>\n",
       "      <td>0.021667</td>\n",
       "      <td>9</td>\n",
       "      <td>0.174031</td>\n",
       "      <td>0.168620</td>\n",
       "      <td>0.166817</td>\n",
       "      <td>0.154955</td>\n",
       "      <td>0.166817</td>\n",
       "      <td>0.166248</td>\n",
       "      <td>0.006235</td>\n",
       "      <td>4</td>\n",
       "    </tr>\n",
       "  </tbody>\n",
       "</table>\n",
       "<p>10 rows × 39 columns</p>\n",
       "</div>"
      ],
      "text/plain": [
       "   mean_fit_time  std_fit_time  mean_score_time  std_score_time   param_C  \\\n",
       "0     650.712089      6.969153        36.635373        0.210464  0.106767   \n",
       "1     391.299244      5.128305        23.364456        0.207180  2.056923   \n",
       "2    3913.884127    458.608359       591.594798      448.587815  0.724986   \n",
       "3    4456.220874      7.645968        98.958671        1.658096  1.244441   \n",
       "4     501.619941     27.277372        84.988784        0.873781  0.402729   \n",
       "5    5903.903042    451.975264       986.823764       37.153282  1.340712   \n",
       "6     963.555064     14.730845        81.415162       10.265329   1.53282   \n",
       "7    8733.772651     26.155030       454.169053      449.505748  0.889659   \n",
       "8    1807.235928    478.174613        39.792777        5.191415  2.010891   \n",
       "9    8869.047802     14.876884        31.556014        0.562615  1.440763   \n",
       "\n",
       "  param_gamma                                             params  \\\n",
       "0    0.013678  {'C': 0.10676710492889818, 'gamma': 0.01367797...   \n",
       "1    0.003705  {'C': 2.0569231285180263, 'gamma': 0.003704949...   \n",
       "2     0.01657  {'C': 0.7249856571992477, 'gamma': 0.016569637...   \n",
       "3    0.013076  {'C': 1.2444409071927485, 'gamma': 0.013076094...   \n",
       "4     0.00743  {'C': 0.4027290119076675, 'gamma': 0.007430481...   \n",
       "5    0.015277  {'C': 1.34071229863613, 'gamma': 0.01527705965...   \n",
       "6    0.005997  {'C': 1.5328202292244688, 'gamma': 0.005997140...   \n",
       "7    0.014046  {'C': 0.8896585620117006, 'gamma': 0.014045534...   \n",
       "8    0.001823  {'C': 2.010891115338811, 'gamma': 0.0018231769...   \n",
       "9    0.013151  {'C': 1.4407625884521686, 'gamma': 0.013151306...   \n",
       "\n",
       "   split0_test_accuracy  split1_test_accuracy  split2_test_accuracy  ...  \\\n",
       "0              0.913629              0.913629              0.913629  ...   \n",
       "1              0.927181              0.927960              0.926636  ...   \n",
       "2              0.917757              0.916277              0.916277  ...   \n",
       "3              0.922118              0.922040              0.922975  ...   \n",
       "4              0.921651              0.921028              0.921573  ...   \n",
       "5              0.920327              0.920327              0.921028  ...   \n",
       "6              0.927025              0.927648              0.926168  ...   \n",
       "7              0.920405              0.919315              0.919470  ...   \n",
       "8              0.926090              0.926246              0.925156  ...   \n",
       "9              0.922196              0.922664              0.923287  ...   \n",
       "\n",
       "   std_test_precision  rank_test_precision  split0_test_recall  \\\n",
       "0            0.000000                   10            0.000000   \n",
       "1            0.017703                    5            0.239856   \n",
       "2            0.036353                    3            0.056808   \n",
       "3            0.020032                    7            0.160505   \n",
       "4            0.011045                    1            0.111812   \n",
       "5            0.018134                    8            0.135257   \n",
       "6            0.018979                    6            0.245266   \n",
       "7            0.025592                    4            0.110911   \n",
       "8            0.014884                    2            0.201082   \n",
       "9            0.021667                    9            0.174031   \n",
       "\n",
       "   split1_test_recall  split2_test_recall  split3_test_recall  \\\n",
       "0            0.000000            0.000000            0.000000   \n",
       "1            0.229937            0.218215            0.248649   \n",
       "2            0.042381            0.042381            0.052252   \n",
       "3            0.153291            0.152390            0.149550   \n",
       "4            0.104599            0.114518            0.107207   \n",
       "5            0.124436            0.127142            0.120721   \n",
       "6            0.229035            0.221821            0.237838   \n",
       "7            0.091073            0.091975            0.090991   \n",
       "8            0.193868            0.186655            0.198198   \n",
       "9            0.168620            0.166817            0.154955   \n",
       "\n",
       "   split4_test_recall  mean_test_recall  std_test_recall  rank_test_recall  \n",
       "0            0.000000          0.000000         0.000000                10  \n",
       "1            0.225428          0.232417         0.010728                 1  \n",
       "2            0.038774          0.046519         0.006826                 9  \n",
       "3            0.153291          0.153805         0.003620                 5  \n",
       "4            0.100090          0.107645         0.005121                 7  \n",
       "5            0.125338          0.126579         0.004818                 6  \n",
       "6            0.222723          0.231337         0.009015                 2  \n",
       "7            0.083859          0.093762         0.009058                 8  \n",
       "8            0.179441          0.191849         0.007881                 3  \n",
       "9            0.166817          0.166248         0.006235                 4  \n",
       "\n",
       "[10 rows x 39 columns]"
      ]
     },
     "execution_count": 424,
     "metadata": {},
     "output_type": "execute_result"
    }
   ],
   "source": [
    "rbf_cv_results"
   ]
  },
  {
   "cell_type": "code",
   "execution_count": 302,
   "metadata": {},
   "outputs": [],
   "source": [
    "sig_cv.fit(smote_x_train,smote_y_train)\n",
    "sig_cv_pred = sig_cv.predict(smote_x_test)\n",
    "sig_cv_sc = sig_cv.score(smote_x_test,smote_y_test)\n",
    "sig_cv_results = pd.DataFrame(sig_cv.cv_results_)"
   ]
  },
  {
   "cell_type": "code",
   "execution_count": 411,
   "metadata": {},
   "outputs": [
    {
     "data": {
      "text/plain": [
       "<bound method BaseSearchCV.score of RandomizedSearchCV(cv=5, estimator=SVC(random_state=13), n_jobs=-1,\n",
       "                   param_distributions={'C': <scipy.stats._distn_infrastructure.rv_continuous_frozen object at 0x175605c90>,\n",
       "                                        'gamma': <scipy.stats._distn_infrastructure.rv_continuous_frozen object at 0x1779944d0>},\n",
       "                   random_state=216, refit='accuracy',\n",
       "                   scoring=['accuracy', 'f1', 'precision', 'recall'])>"
      ]
     },
     "execution_count": 411,
     "metadata": {},
     "output_type": "execute_result"
    }
   ],
   "source": [
    "rbf_cv.score\n",
    "#rbf_cv_results[['mean_test_f1','std_test_f1', 'rank_test_f1','mean_test_precision','std_test_precision', 'rank_test_precision','mean_test_recall', 'std_test_recall','rank_test_recall']]"
   ]
  },
  {
   "attachments": {},
   "cell_type": "markdown",
   "metadata": {},
   "source": [
    "Random CV results"
   ]
  },
  {
   "cell_type": "code",
   "execution_count": 396,
   "metadata": {},
   "outputs": [
    {
     "name": "stdout",
     "output_type": "stream",
     "text": [
      "Linear CV kernel: 0.9269826270262412\n",
      "Polynomial CV kernel: 0.9263284146252817\n",
      "Radio Base Frequency CV kernel: 0.9301809987642654\n",
      "Sigmoid CV kernel: 0.9049574761939376\n"
     ]
    }
   ],
   "source": [
    "print(\"Linear CV kernel:\", lin_cv_sc)\n",
    "print(\"Polynomial CV kernel:\", poly_cv_sc)\n",
    "print(\"Radio Base Frequency CV kernel:\", rbf_cv_sc)\n",
    "print(\"Sigmoid CV kernel:\", sig_cv_sc)"
   ]
  },
  {
   "attachments": {},
   "cell_type": "markdown",
   "metadata": {},
   "source": [
    "17 best to rerun"
   ]
  },
  {
   "cell_type": "code",
   "execution_count": 264,
   "metadata": {},
   "outputs": [],
   "source": [
    "smote_x_train_best = smote_x_train.filter(best_feats)\n",
    "smote_x_test_best = smote_x_test.filter(best_feats)"
   ]
  },
  {
   "attachments": {},
   "cell_type": "markdown",
   "metadata": {},
   "source": [
    "17 best regular SVC"
   ]
  },
  {
   "cell_type": "code",
   "execution_count": 265,
   "metadata": {},
   "outputs": [],
   "source": [
    "svc_poly2 = svm.SVC(kernel='poly')\n",
    "svc_rbf2 = svm.SVC(kernel='rbf')\n",
    "svc_sig2 = svm.SVC(kernel='sigmoid')\n",
    "svc_lin2 = svm.LinearSVC()"
   ]
  },
  {
   "cell_type": "code",
   "execution_count": 266,
   "metadata": {},
   "outputs": [],
   "source": [
    "svc_lin2.fit(smote_x_train_best,smote_y_train)\n",
    "svc_lin_pred2 = svc_lin2.predict(smote_x_test_best)\n",
    "sc_svc_lin2 = svc_lin2.score(smote_x_test_best,smote_y_test)"
   ]
  },
  {
   "cell_type": "code",
   "execution_count": 267,
   "metadata": {},
   "outputs": [],
   "source": [
    "svc_poly2.fit(smote_x_train_best,smote_y_train)\n",
    "svc_poly_pred2 = svc_poly2.predict(smote_x_test_best)\n",
    "sc_svc_poly2 = svc_poly2.score(smote_x_test_best,smote_y_test)"
   ]
  },
  {
   "cell_type": "code",
   "execution_count": 268,
   "metadata": {},
   "outputs": [],
   "source": [
    "svc_rbf2.fit(smote_x_train_best,smote_y_train)\n",
    "svc_rbf_pred2 = svc_rbf2.predict(smote_x_test_best)\n",
    "sc_svc_rbf2 = svc_rbf2.score(smote_x_test_best,smote_y_test)"
   ]
  },
  {
   "cell_type": "code",
   "execution_count": 269,
   "metadata": {},
   "outputs": [],
   "source": [
    "svc_sig2.fit(smote_x_train_best,smote_y_train)\n",
    "svc_sig_pred2 = svc_sig2.predict(smote_x_test_best)\n",
    "sc_svc_sig2 = svc_sig2.score(smote_x_test_best,smote_y_test)"
   ]
  },
  {
   "cell_type": "code",
   "execution_count": 270,
   "metadata": {},
   "outputs": [
    {
     "name": "stdout",
     "output_type": "stream",
     "text": [
      "Linear kernel: 0.7423760275788915\n",
      "Polynomial kernel: 0.914801666923908\n",
      "Radio Base Frequency kernel: 0.7536462476796606\n",
      "Sigmoid kernel: 0.611243701935826\n"
     ]
    }
   ],
   "source": [
    "print(\"Linear kernel:\", sc_svc_lin2)\n",
    "print(\"Polynomial kernel:\", sc_svc_pol2)\n",
    "print(\"Radio Base Frequency kernel:\", sc_svc_rbf2)\n",
    "print(\"Sigmoid kernel:\", sc_svc_sig2)\n"
   ]
  },
  {
   "attachments": {},
   "cell_type": "markdown",
   "metadata": {},
   "source": [
    "SVC RandomCV Run best 17"
   ]
  },
  {
   "cell_type": "code",
   "execution_count": 271,
   "metadata": {},
   "outputs": [],
   "source": [
    "dists = {\n",
    "    \"C\": uniform(loc=0, scale=3),\n",
    "    \"gamma\": uniform(loc=0,scale=(3/171)) # number of features\n",
    "}\n",
    "\n",
    "lin_cv2 = RandomizedSearchCV(\n",
    "    svm.LinearSVC(random_state=12), \n",
    "    {\"C\": uniform(loc=0, scale=3),\"penalty\":['l1','l2']},\n",
    "    n_iter = 10,\n",
    "    n_jobs=-1,\n",
    "    scoring=['accuracy','f1','precision','recall'],\n",
    "    refit='accuracy',\n",
    "    cv=5,\n",
    "    random_state=104,\n",
    "    verbose=0)\n",
    "\n",
    "poly_cv2 = RandomizedSearchCV(\n",
    "    svm.SVC(random_state=12,kernel='poly'), \n",
    "    dists,\n",
    "    n_iter = 10,\n",
    "    n_jobs=-1,\n",
    "    scoring=['accuracy','f1','precision','recall'],\n",
    "    refit='accuracy',\n",
    "    cv=5,\n",
    "    random_state=105,\n",
    "    verbose=0)\n",
    "\n",
    "rbf_cv2 = RandomizedSearchCV(\n",
    "    svm.SVC(random_state=13,kernel='rbf'), \n",
    "    dists,\n",
    "    n_iter = 110,\n",
    "    n_jobs=-1,\n",
    "    scoring=['accuracy','f1','precision','recall'],\n",
    "    refit='accuracy',\n",
    "    cv=5,\n",
    "    random_state=106,\n",
    "    verbose=0)\n",
    "\n",
    "sig_cv2 = RandomizedSearchCV(\n",
    "    svm.SVC(random_state=15,kernel='sigmoid'), \n",
    "    dists,\n",
    "    n_iter = 10,\n",
    "    n_jobs=-1,\n",
    "    scoring=['accuracy','f1','precision','recall'],\n",
    "    refit='accuracy',\n",
    "    cv=5,\n",
    "    random_state=107,\n",
    "    verbose=0)"
   ]
  },
  {
   "cell_type": "code",
   "execution_count": 272,
   "metadata": {},
   "outputs": [
    {
     "name": "stderr",
     "output_type": "stream",
     "text": [
      "/Library/Frameworks/Python.framework/Versions/3.11/lib/python3.11/site-packages/sklearn/svm/_base.py:1244: ConvergenceWarning: Liblinear failed to converge, increase the number of iterations.\n",
      "  warnings.warn(\n",
      "/Library/Frameworks/Python.framework/Versions/3.11/lib/python3.11/site-packages/sklearn/svm/_base.py:1244: ConvergenceWarning: Liblinear failed to converge, increase the number of iterations.\n",
      "  warnings.warn(\n",
      "/Library/Frameworks/Python.framework/Versions/3.11/lib/python3.11/site-packages/sklearn/svm/_base.py:1244: ConvergenceWarning: Liblinear failed to converge, increase the number of iterations.\n",
      "  warnings.warn(\n",
      "/Library/Frameworks/Python.framework/Versions/3.11/lib/python3.11/site-packages/sklearn/svm/_base.py:1244: ConvergenceWarning: Liblinear failed to converge, increase the number of iterations.\n",
      "  warnings.warn(\n",
      "/Library/Frameworks/Python.framework/Versions/3.11/lib/python3.11/site-packages/sklearn/svm/_base.py:1244: ConvergenceWarning: Liblinear failed to converge, increase the number of iterations.\n",
      "  warnings.warn(\n",
      "/Library/Frameworks/Python.framework/Versions/3.11/lib/python3.11/site-packages/sklearn/svm/_base.py:1244: ConvergenceWarning: Liblinear failed to converge, increase the number of iterations.\n",
      "  warnings.warn(\n",
      "/Library/Frameworks/Python.framework/Versions/3.11/lib/python3.11/site-packages/sklearn/svm/_base.py:1244: ConvergenceWarning: Liblinear failed to converge, increase the number of iterations.\n",
      "  warnings.warn(\n",
      "/Library/Frameworks/Python.framework/Versions/3.11/lib/python3.11/site-packages/sklearn/svm/_base.py:1244: ConvergenceWarning: Liblinear failed to converge, increase the number of iterations.\n",
      "  warnings.warn(\n",
      "/Library/Frameworks/Python.framework/Versions/3.11/lib/python3.11/site-packages/sklearn/svm/_base.py:1244: ConvergenceWarning: Liblinear failed to converge, increase the number of iterations.\n",
      "  warnings.warn(\n",
      "/Library/Frameworks/Python.framework/Versions/3.11/lib/python3.11/site-packages/sklearn/svm/_base.py:1244: ConvergenceWarning: Liblinear failed to converge, increase the number of iterations.\n",
      "  warnings.warn(\n",
      "/Library/Frameworks/Python.framework/Versions/3.11/lib/python3.11/site-packages/sklearn/svm/_base.py:1244: ConvergenceWarning: Liblinear failed to converge, increase the number of iterations.\n",
      "  warnings.warn(\n",
      "/Library/Frameworks/Python.framework/Versions/3.11/lib/python3.11/site-packages/sklearn/svm/_base.py:1244: ConvergenceWarning: Liblinear failed to converge, increase the number of iterations.\n",
      "  warnings.warn(\n",
      "/Library/Frameworks/Python.framework/Versions/3.11/lib/python3.11/site-packages/sklearn/svm/_base.py:1244: ConvergenceWarning: Liblinear failed to converge, increase the number of iterations.\n",
      "  warnings.warn(\n",
      "/Library/Frameworks/Python.framework/Versions/3.11/lib/python3.11/site-packages/sklearn/svm/_base.py:1244: ConvergenceWarning: Liblinear failed to converge, increase the number of iterations.\n",
      "  warnings.warn(\n",
      "/Library/Frameworks/Python.framework/Versions/3.11/lib/python3.11/site-packages/sklearn/svm/_base.py:1244: ConvergenceWarning: Liblinear failed to converge, increase the number of iterations.\n",
      "  warnings.warn(\n",
      "/Library/Frameworks/Python.framework/Versions/3.11/lib/python3.11/site-packages/sklearn/svm/_base.py:1244: ConvergenceWarning: Liblinear failed to converge, increase the number of iterations.\n",
      "  warnings.warn(\n",
      "/Library/Frameworks/Python.framework/Versions/3.11/lib/python3.11/site-packages/sklearn/svm/_base.py:1244: ConvergenceWarning: Liblinear failed to converge, increase the number of iterations.\n",
      "  warnings.warn(\n",
      "/Library/Frameworks/Python.framework/Versions/3.11/lib/python3.11/site-packages/sklearn/svm/_base.py:1244: ConvergenceWarning: Liblinear failed to converge, increase the number of iterations.\n",
      "  warnings.warn(\n",
      "/Library/Frameworks/Python.framework/Versions/3.11/lib/python3.11/site-packages/sklearn/svm/_base.py:1244: ConvergenceWarning: Liblinear failed to converge, increase the number of iterations.\n",
      "  warnings.warn(\n",
      "/Library/Frameworks/Python.framework/Versions/3.11/lib/python3.11/site-packages/sklearn/svm/_base.py:1244: ConvergenceWarning: Liblinear failed to converge, increase the number of iterations.\n",
      "  warnings.warn(\n",
      "/Library/Frameworks/Python.framework/Versions/3.11/lib/python3.11/site-packages/sklearn/svm/_base.py:1244: ConvergenceWarning: Liblinear failed to converge, increase the number of iterations.\n",
      "  warnings.warn(\n",
      "/Library/Frameworks/Python.framework/Versions/3.11/lib/python3.11/site-packages/sklearn/svm/_base.py:1244: ConvergenceWarning: Liblinear failed to converge, increase the number of iterations.\n",
      "  warnings.warn(\n",
      "/Library/Frameworks/Python.framework/Versions/3.11/lib/python3.11/site-packages/sklearn/svm/_base.py:1244: ConvergenceWarning: Liblinear failed to converge, increase the number of iterations.\n",
      "  warnings.warn(\n",
      "/Library/Frameworks/Python.framework/Versions/3.11/lib/python3.11/site-packages/sklearn/svm/_base.py:1244: ConvergenceWarning: Liblinear failed to converge, increase the number of iterations.\n",
      "  warnings.warn(\n",
      "/Library/Frameworks/Python.framework/Versions/3.11/lib/python3.11/site-packages/sklearn/svm/_base.py:1244: ConvergenceWarning: Liblinear failed to converge, increase the number of iterations.\n",
      "  warnings.warn(\n",
      "/Library/Frameworks/Python.framework/Versions/3.11/lib/python3.11/site-packages/sklearn/svm/_base.py:1244: ConvergenceWarning: Liblinear failed to converge, increase the number of iterations.\n",
      "  warnings.warn(\n",
      "/Library/Frameworks/Python.framework/Versions/3.11/lib/python3.11/site-packages/sklearn/svm/_base.py:1244: ConvergenceWarning: Liblinear failed to converge, increase the number of iterations.\n",
      "  warnings.warn(\n",
      "/Library/Frameworks/Python.framework/Versions/3.11/lib/python3.11/site-packages/sklearn/svm/_base.py:1244: ConvergenceWarning: Liblinear failed to converge, increase the number of iterations.\n",
      "  warnings.warn(\n",
      "/Library/Frameworks/Python.framework/Versions/3.11/lib/python3.11/site-packages/sklearn/svm/_base.py:1244: ConvergenceWarning: Liblinear failed to converge, increase the number of iterations.\n",
      "  warnings.warn(\n",
      "/Library/Frameworks/Python.framework/Versions/3.11/lib/python3.11/site-packages/sklearn/svm/_base.py:1244: ConvergenceWarning: Liblinear failed to converge, increase the number of iterations.\n",
      "  warnings.warn(\n"
     ]
    }
   ],
   "source": [
    "lin_cv2.fit(smote_x_train_best,smote_y_train)\n",
    "lin_cv_pred2 = lin_cv2.predict(smote_x_test_best)\n",
    "lin_cv_sc2 = lin_cv2.score(smote_x_test_best,smote_y_test)\n",
    "lin_cv_results2 = pd.DataFrame(lin_cv2.cv_results_)"
   ]
  },
  {
   "cell_type": "code",
   "execution_count": 273,
   "metadata": {},
   "outputs": [
    {
     "name": "stderr",
     "output_type": "stream",
     "text": [
      "/Library/Frameworks/Python.framework/Versions/3.11/lib/python3.11/site-packages/sklearn/metrics/_classification.py:1344: UndefinedMetricWarning: Precision is ill-defined and being set to 0.0 due to no predicted samples. Use `zero_division` parameter to control this behavior.\n",
      "  _warn_prf(average, modifier, msg_start, len(result))\n",
      "/Library/Frameworks/Python.framework/Versions/3.11/lib/python3.11/site-packages/sklearn/metrics/_classification.py:1344: UndefinedMetricWarning: Precision is ill-defined and being set to 0.0 due to no predicted samples. Use `zero_division` parameter to control this behavior.\n",
      "  _warn_prf(average, modifier, msg_start, len(result))\n",
      "/Library/Frameworks/Python.framework/Versions/3.11/lib/python3.11/site-packages/sklearn/metrics/_classification.py:1344: UndefinedMetricWarning: Precision is ill-defined and being set to 0.0 due to no predicted samples. Use `zero_division` parameter to control this behavior.\n",
      "  _warn_prf(average, modifier, msg_start, len(result))\n",
      "/Library/Frameworks/Python.framework/Versions/3.11/lib/python3.11/site-packages/sklearn/metrics/_classification.py:1344: UndefinedMetricWarning: Precision is ill-defined and being set to 0.0 due to no predicted samples. Use `zero_division` parameter to control this behavior.\n",
      "  _warn_prf(average, modifier, msg_start, len(result))\n",
      "/Library/Frameworks/Python.framework/Versions/3.11/lib/python3.11/site-packages/sklearn/metrics/_classification.py:1344: UndefinedMetricWarning: Precision is ill-defined and being set to 0.0 due to no predicted samples. Use `zero_division` parameter to control this behavior.\n",
      "  _warn_prf(average, modifier, msg_start, len(result))\n"
     ]
    }
   ],
   "source": [
    "poly_cv2.fit(smote_x_train_best,smote_y_train)\n",
    "poly_cv_pred2 = poly_cv2.predict(smote_x_test_best)\n",
    "poly_cv_sc2 = poly_cv2.score(smote_x_test_best,smote_y_test)\n",
    "poly_cv_results2 = pd.DataFrame(poly_cv2.cv_results_)"
   ]
  },
  {
   "cell_type": "code",
   "execution_count": 274,
   "metadata": {},
   "outputs": [],
   "source": [
    "rbf_cv2.fit(smote_x_train_best,smote_y_train)\n",
    "rbf_cv_pred2 = rbf_cv2.predict(smote_x_test_best)\n",
    "rbf_cv_sc2 = rbf_cv2.score(smote_x_test_best,smote_y_test)\n",
    "rbf_cv_results2 = pd.DataFrame(rbf_cv2.cv_results_)"
   ]
  },
  {
   "cell_type": "code",
   "execution_count": 275,
   "metadata": {},
   "outputs": [],
   "source": [
    "sig_cv2.fit(smote_x_train_best,smote_y_train)\n",
    "sig_cv_pred2 = sig_cv2.predict(smote_x_test_best)\n",
    "sig_cv_sc2 = sig_cv2.score(smote_x_test_best,smote_y_test)\n",
    "sig_cv_results2 = pd.DataFrame(sig_cv2.cv_results_)"
   ]
  },
  {
   "attachments": {},
   "cell_type": "markdown",
   "metadata": {},
   "source": [
    "**randomCV results**"
   ]
  },
  {
   "cell_type": "code",
   "execution_count": 276,
   "metadata": {},
   "outputs": [
    {
     "name": "stdout",
     "output_type": "stream",
     "text": [
      "Linear CV kernel: 0.7422434367541766\n",
      "Polynomial CV kernel: 0.7277910368602493\n",
      "Radio Base Frequency CV kernel: 0.7504640678865022\n",
      "Sigmoid CV kernel: 0.7360116679925749\n"
     ]
    }
   ],
   "source": [
    "print(\"Linear CV kernel:\", lin_cv_sc2)\n",
    "print(\"Polynomial CV kernel:\", poly_cv_sc2)\n",
    "print(\"Radio Base Frequency CV kernel:\", rbf_cv_sc2)\n",
    "print(\"Sigmoid CV kernel:\", sig_cv_sc2)"
   ]
  },
  {
   "attachments": {},
   "cell_type": "markdown",
   "metadata": {},
   "source": [
    "***The real test***"
   ]
  },
  {
   "attachments": {},
   "cell_type": "markdown",
   "metadata": {},
   "source": [
    "Regular SVC"
   ]
  },
  {
   "cell_type": "code",
   "execution_count": 304,
   "metadata": {},
   "outputs": [
    {
     "data": {
      "text/plain": [
       "Index(['age', 'bmi', 'height', 'pre_icu_los_days', 'weight', 'albumin_apache',\n",
       "       'apache_2_diagnosis', 'apache_3j_diagnosis', 'arf_apache',\n",
       "       'bilirubin_apache',\n",
       "       ...\n",
       "       'apache_4a_hospital_death_prob', 'apache_4a_icu_death_prob', 'aids',\n",
       "       'cirrhosis', 'diabetes_mellitus', 'hepatic_failure',\n",
       "       'immunosuppression', 'leukemia', 'lymphoma',\n",
       "       'solid_tumor_with_metastasis'],\n",
       "      dtype='object', length=170)"
      ]
     },
     "execution_count": 304,
     "metadata": {},
     "output_type": "execute_result"
    }
   ],
   "source": [
    "test_trunc_x.columns"
   ]
  },
  {
   "cell_type": "code",
   "execution_count": 306,
   "metadata": {},
   "outputs": [
    {
     "data": {
      "text/plain": [
       "Index(['age', 'bmi', 'height', 'pre_icu_los_days', 'weight', 'albumin_apache',\n",
       "       'apache_2_diagnosis', 'apache_3j_diagnosis', 'arf_apache',\n",
       "       'bilirubin_apache',\n",
       "       ...\n",
       "       'apache_4a_hospital_death_prob', 'apache_4a_icu_death_prob', 'aids',\n",
       "       'cirrhosis', 'diabetes_mellitus', 'hepatic_failure',\n",
       "       'immunosuppression', 'leukemia', 'lymphoma',\n",
       "       'solid_tumor_with_metastasis'],\n",
       "      dtype='object', length=170)"
      ]
     },
     "execution_count": 306,
     "metadata": {},
     "output_type": "execute_result"
    }
   ],
   "source": [
    "smote_x_train.columns"
   ]
  },
  {
   "cell_type": "code",
   "execution_count": null,
   "metadata": {},
   "outputs": [],
   "source": [
    "svc_lin_test_pred = svc_lin.predict(testing_X.fillna(0))"
   ]
  },
  {
   "cell_type": "code",
   "execution_count": null,
   "metadata": {},
   "outputs": [],
   "source": [
    "svc_poly_test_pred = svc_poly.predict(testing_X.fillna(0))"
   ]
  },
  {
   "cell_type": "code",
   "execution_count": null,
   "metadata": {},
   "outputs": [],
   "source": [
    "svc_rbf_test_pred = svc_rbf.predict(testing_X.fillna(0))"
   ]
  },
  {
   "cell_type": "code",
   "execution_count": null,
   "metadata": {},
   "outputs": [],
   "source": [
    "svc_sig_test_pred = svc_sig.predict(testing_X.fillna(0))"
   ]
  },
  {
   "cell_type": "code",
   "execution_count": 319,
   "metadata": {},
   "outputs": [
    {
     "name": "stdout",
     "output_type": "stream",
     "text": [
      "Linear kernel: 0.998499033275669\n",
      "Polynomial kernel: 0.5849445405515417\n",
      "Radio Base Frequency kernel: 2.5440113971710593e-05\n",
      "Sigmoid kernel: 0.972753637936298\n"
     ]
    }
   ],
   "source": [
    "# print(\"Linear kernel:\", svc_lin_test_sc)\n",
    "# print(\"Polynomial kernel:\", svc_poly_test_sc)\n",
    "# print(\"Radio Base Frequency kernel:\", svc_rbf_test_sc)\n",
    "# print(\"Sigmoid kernel:\", svc_sig_test_sc)"
   ]
  },
  {
   "attachments": {},
   "cell_type": "markdown",
   "metadata": {},
   "source": [
    "RandomizedCV"
   ]
  },
  {
   "cell_type": "code",
   "execution_count": null,
   "metadata": {},
   "outputs": [],
   "source": [
    "lin_cv_pred_test = lin_cv.predict(testing_X.fillna(0))\n",
    "lin_cv_results_test = pd.DataFrame(lin_cv.cv_results_)"
   ]
  },
  {
   "cell_type": "code",
   "execution_count": null,
   "metadata": {},
   "outputs": [],
   "source": [
    "poly_cv_pred_test = poly_cv.predict(testing_X.fillna(0))\n",
    "poly_cv_results_test = pd.DataFrame(poly_cv.cv_results_)"
   ]
  },
  {
   "cell_type": "code",
   "execution_count": null,
   "metadata": {},
   "outputs": [],
   "source": [
    "rbf_cv_pred_test = rbf_cv.predict(testing_X.fillna(0))\n",
    "rbf_cv_results_test = pd.DataFrame(rbf_cv.cv_results_)"
   ]
  },
  {
   "cell_type": "code",
   "execution_count": null,
   "metadata": {},
   "outputs": [],
   "source": [
    "sig_cv_pred_test = sig_cv.predict(testing_X.fillna(0))\n",
    "sig_cv_results_test = pd.DataFrame(sig_cv.cv_results_)"
   ]
  },
  {
   "cell_type": "code",
   "execution_count": 324,
   "metadata": {},
   "outputs": [
    {
     "name": "stdout",
     "output_type": "stream",
     "text": [
      "Linear CV kernel: 0.9994148773786506\n",
      "Polynomial CV kernel: 0.5346748753434415\n",
      "Radio Base Frequency CV kernel 2.5440113971710593e-05\n",
      "Sigmoid CV kernel: 0.43655235575455376\n"
     ]
    }
   ],
   "source": [
    "# print(\"Linear CV kernel:\", lin_cv_sc_test)\n",
    "# print(\"Polynomial CV kernel:\", poly_cv_sc_test)\n",
    "# print(\"Radio Base Frequency CV kernel\", rbf_cv_sc_test)\n",
    "# print(\"Sigmoid CV kernel:\", sig_cv_sc_test)"
   ]
  },
  {
   "cell_type": "markdown",
   "metadata": {},
   "source": [
    "**#################################### BREAK ####################################**"
   ]
  },
  {
   "attachments": {},
   "cell_type": "markdown",
   "metadata": {},
   "source": [
    "*Missing = 0 set*\n",
    "\n",
    "**SVC, normal and best 17**"
   ]
  },
  {
   "cell_type": "code",
   "execution_count": 326,
   "metadata": {},
   "outputs": [],
   "source": [
    "miss_X = miss.drop(\"hospital_death\",axis=1)\n",
    "miss_y = miss['hospital_death']\n",
    "random.seed(10)\n",
    "miss_x_train, miss_x_test, miss_y_train, miss_y_test = train_test_split(miss_X,miss_y,test_size=.3, random_state=23)"
   ]
  },
  {
   "cell_type": "code",
   "execution_count": 327,
   "metadata": {},
   "outputs": [
    {
     "data": {
      "text/plain": [
       "Index(['age', 'bmi', 'height', 'pre_icu_los_days', 'weight', 'albumin_apache',\n",
       "       'apache_2_diagnosis', 'apache_3j_diagnosis', 'arf_apache',\n",
       "       'bilirubin_apache',\n",
       "       ...\n",
       "       'apache_4a_hospital_death_prob', 'apache_4a_icu_death_prob', 'aids',\n",
       "       'cirrhosis', 'diabetes_mellitus', 'hepatic_failure',\n",
       "       'immunosuppression', 'leukemia', 'lymphoma',\n",
       "       'solid_tumor_with_metastasis'],\n",
       "      dtype='object', length=170)"
      ]
     },
     "execution_count": 327,
     "metadata": {},
     "output_type": "execute_result"
    }
   ],
   "source": [
    "miss_X.columns"
   ]
  },
  {
   "cell_type": "code",
   "execution_count": 361,
   "metadata": {},
   "outputs": [],
   "source": [
    "svc_poly = svm.SVC(kernel='poly')\n",
    "svc_rbf = svm.SVC(kernel='rbf')\n",
    "svc_sig = svm.SVC(kernel='sigmoid')\n",
    "svc_lin = svm.LinearSVC()"
   ]
  },
  {
   "cell_type": "code",
   "execution_count": 362,
   "metadata": {},
   "outputs": [],
   "source": [
    "svc_lin.fit(miss_x_train,miss_y_train)\n",
    "svc_lin_pred = svc_lin.predict(miss_x_test)\n",
    "sc_svc_lin = svc_lin.score(miss_x_test,miss_y_test)"
   ]
  },
  {
   "cell_type": "code",
   "execution_count": 365,
   "metadata": {},
   "outputs": [],
   "source": [
    "svc_poly.fit(miss_x_train,miss_y_train)\n",
    "svc_poly_pred = svc_poly.predict(miss_x_test)\n",
    "svc_poly_lin = svc_poly.score(miss_x_test,miss_y_test)"
   ]
  },
  {
   "cell_type": "code",
   "execution_count": 366,
   "metadata": {},
   "outputs": [],
   "source": [
    "svc_rbf.fit(miss_x_train,miss_y_train)\n",
    "svc_rbf_pred = svc_rbf.predict(miss_x_test)\n",
    "sc_svc_rbf = svc_rbf.score(miss_x_test,miss_y_test)"
   ]
  },
  {
   "cell_type": "code",
   "execution_count": 367,
   "metadata": {},
   "outputs": [],
   "source": [
    "svc_sig.fit(miss_x_train,miss_y_train)\n",
    "svc_sig_pred = svc_sig.predict(miss_x_test)\n",
    "sc_svc_sig = svc_sig.score(miss_x_test,miss_y_test)"
   ]
  },
  {
   "cell_type": "code",
   "execution_count": 334,
   "metadata": {},
   "outputs": [
    {
     "name": "stdout",
     "output_type": "stream",
     "text": [
      "Linear kernel: 0.9260739986915753\n",
      "Polynomial kernel: 0.9222616658949426\n",
      "Radio Base Frequency kernel: 0.9287271934287998\n",
      "Sigmoid kernel: 0.880315475757796\n"
     ]
    }
   ],
   "source": [
    "print(\"Linear kernel:\", sc_svc_lin)\n",
    "print(\"Polynomial kernel:\", sc_svc_pol)\n",
    "print(\"Radio Base Frequency kernel:\", sc_svc_rbf)\n",
    "print(\"Sigmoid kernel:\", sc_svc_sig)\n"
   ]
  },
  {
   "cell_type": "code",
   "execution_count": 335,
   "metadata": {},
   "outputs": [],
   "source": [
    "miss_x_train_best = miss_x_train.filter(best_feats)\n",
    "miss_x_test_best = miss_x_test.filter(best_feats)"
   ]
  },
  {
   "cell_type": "code",
   "execution_count": 336,
   "metadata": {},
   "outputs": [],
   "source": [
    "svc_poly2 = svm.SVC(kernel='poly')\n",
    "svc_rbf2 = svm.SVC(kernel='rbf')\n",
    "svc_sig2 = svm.SVC(kernel='sigmoid')\n",
    "svc_lin = svm.LinearSVC()"
   ]
  },
  {
   "cell_type": "code",
   "execution_count": 337,
   "metadata": {},
   "outputs": [],
   "source": [
    "svc_lin2.fit(miss_x_train_best,miss_y_train)\n",
    "svc_lin_pred2 = svc_lin2.predict(miss_x_test_best)\n",
    "sc_svc_lin2 = svc_lin2.score(miss_x_test_best,miss_y_test)"
   ]
  },
  {
   "cell_type": "code",
   "execution_count": 338,
   "metadata": {},
   "outputs": [],
   "source": [
    "svc_poly2.fit(miss_x_train_best,miss_y_train)\n",
    "svc_poly_pred2 = svc_poly2.predict(miss_x_test_best)\n",
    "svc_poly_lin2 = svc_poly2.score(miss_x_test_best,miss_y_test)"
   ]
  },
  {
   "cell_type": "code",
   "execution_count": 339,
   "metadata": {},
   "outputs": [],
   "source": [
    "svc_rbf2.fit(miss_x_train_best,miss_y_train)\n",
    "svc_rbf_pred2 = svc_rbf2.predict(miss_x_test_best)\n",
    "sc_svc_rbf2 = svc_rbf2.score(miss_x_test_best,miss_y_test)"
   ]
  },
  {
   "cell_type": "code",
   "execution_count": 340,
   "metadata": {},
   "outputs": [],
   "source": [
    "svc_sig2.fit(miss_x_train_best,miss_y_train)\n",
    "svc_sig_pred2 = svc_sig2.predict(miss_x_test_best)\n",
    "sc_svc_sig2 = svc_sig2.score(miss_x_test_best,miss_y_test)"
   ]
  },
  {
   "cell_type": "code",
   "execution_count": 341,
   "metadata": {},
   "outputs": [
    {
     "name": "stdout",
     "output_type": "stream",
     "text": [
      "Linear kernel: 0.9203678127498728\n",
      "Polynomial kernel: 0.914801666923908\n",
      "Radio Base Frequency kernel: 0.9210220251508323\n",
      "Sigmoid kernel: 0.8502943955804317\n"
     ]
    }
   ],
   "source": [
    "print(\"Linear kernel:\", sc_svc_lin2)\n",
    "print(\"Polynomial kernel:\", sc_svc_pol2)\n",
    "print(\"Radio Base Frequency kernel:\", sc_svc_rbf2)\n",
    "print(\"Sigmoid kernel:\", sc_svc_sig2)\n"
   ]
  },
  {
   "attachments": {},
   "cell_type": "markdown",
   "metadata": {},
   "source": [
    "**RandomizedCV Testing**"
   ]
  },
  {
   "cell_type": "code",
   "execution_count": 346,
   "metadata": {},
   "outputs": [],
   "source": [
    "dists = {\n",
    "    \"C\": uniform(loc=0, scale=3),\n",
    "    \"gamma\": uniform(loc=0,scale=(3/171)) # number of features\n",
    "}\n",
    "\n",
    "lin_cv = RandomizedSearchCV(\n",
    "    svm.LinearSVC(random_state=12), \n",
    "    {\"C\": uniform(loc=0, scale=3),\"penalty\":['l1','l2']},\n",
    "    n_iter = 10,\n",
    "    n_jobs=-1,\n",
    "    scoring=['accuracy','f1','precision','recall'],\n",
    "    refit='accuracy',\n",
    "    cv=5,\n",
    "    random_state=214,\n",
    "    verbose=0)\n",
    "\n",
    "poly_cv = RandomizedSearchCV(\n",
    "    svm.SVC(random_state=12,kernel='poly'), \n",
    "    dists,\n",
    "    n_iter = 10,\n",
    "    n_jobs=-1,\n",
    "    scoring=['accuracy','f1','precision','recall'],\n",
    "    refit='accuracy',\n",
    "    cv=5,\n",
    "    random_state=215,\n",
    "    verbose=0)\n",
    "\n",
    "rbf_cv = RandomizedSearchCV(\n",
    "    svm.SVC(random_state=13,kernel='rbf'), \n",
    "    dists,\n",
    "    n_iter = 10,\n",
    "    n_jobs=-1,\n",
    "    scoring=['accuracy','f1','precision','recall'],\n",
    "    refit='accuracy',\n",
    "    cv=5,\n",
    "    random_state=216,\n",
    "    verbose=0)\n",
    "\n",
    "sig_cv = RandomizedSearchCV(\n",
    "    svm.SVC(random_state=15,kernel='sigmoid'), \n",
    "    dists,\n",
    "    n_iter = 10,\n",
    "    n_jobs=-1,\n",
    "    scoring=['accuracy','f1','precision','recall'],\n",
    "    refit='accuracy',\n",
    "    cv=5,\n",
    "    random_state=217,\n",
    "    verbose=0)"
   ]
  },
  {
   "cell_type": "code",
   "execution_count": 358,
   "metadata": {},
   "outputs": [
    {
     "name": "stderr",
     "output_type": "stream",
     "text": [
      "/Library/Frameworks/Python.framework/Versions/3.11/lib/python3.11/site-packages/sklearn/svm/_base.py:1244: ConvergenceWarning: Liblinear failed to converge, increase the number of iterations.\n",
      "  warnings.warn(\n",
      "/Library/Frameworks/Python.framework/Versions/3.11/lib/python3.11/site-packages/sklearn/svm/_base.py:1244: ConvergenceWarning: Liblinear failed to converge, increase the number of iterations.\n",
      "  warnings.warn(\n",
      "/Library/Frameworks/Python.framework/Versions/3.11/lib/python3.11/site-packages/sklearn/svm/_base.py:1244: ConvergenceWarning: Liblinear failed to converge, increase the number of iterations.\n",
      "  warnings.warn(\n",
      "/Library/Frameworks/Python.framework/Versions/3.11/lib/python3.11/site-packages/sklearn/svm/_base.py:1244: ConvergenceWarning: Liblinear failed to converge, increase the number of iterations.\n",
      "  warnings.warn(\n",
      "/Library/Frameworks/Python.framework/Versions/3.11/lib/python3.11/site-packages/sklearn/svm/_base.py:1244: ConvergenceWarning: Liblinear failed to converge, increase the number of iterations.\n",
      "  warnings.warn(\n",
      "/Library/Frameworks/Python.framework/Versions/3.11/lib/python3.11/site-packages/sklearn/svm/_base.py:1244: ConvergenceWarning: Liblinear failed to converge, increase the number of iterations.\n",
      "  warnings.warn(\n",
      "/Library/Frameworks/Python.framework/Versions/3.11/lib/python3.11/site-packages/sklearn/svm/_base.py:1244: ConvergenceWarning: Liblinear failed to converge, increase the number of iterations.\n",
      "  warnings.warn(\n",
      "/Library/Frameworks/Python.framework/Versions/3.11/lib/python3.11/site-packages/sklearn/svm/_base.py:1244: ConvergenceWarning: Liblinear failed to converge, increase the number of iterations.\n",
      "  warnings.warn(\n",
      "/Library/Frameworks/Python.framework/Versions/3.11/lib/python3.11/site-packages/sklearn/svm/_base.py:1244: ConvergenceWarning: Liblinear failed to converge, increase the number of iterations.\n",
      "  warnings.warn(\n",
      "/Library/Frameworks/Python.framework/Versions/3.11/lib/python3.11/site-packages/sklearn/svm/_base.py:1244: ConvergenceWarning: Liblinear failed to converge, increase the number of iterations.\n",
      "  warnings.warn(\n",
      "/Library/Frameworks/Python.framework/Versions/3.11/lib/python3.11/site-packages/sklearn/svm/_base.py:1244: ConvergenceWarning: Liblinear failed to converge, increase the number of iterations.\n",
      "  warnings.warn(\n",
      "/Library/Frameworks/Python.framework/Versions/3.11/lib/python3.11/site-packages/sklearn/svm/_base.py:1244: ConvergenceWarning: Liblinear failed to converge, increase the number of iterations.\n",
      "  warnings.warn(\n",
      "/Library/Frameworks/Python.framework/Versions/3.11/lib/python3.11/site-packages/sklearn/svm/_base.py:1244: ConvergenceWarning: Liblinear failed to converge, increase the number of iterations.\n",
      "  warnings.warn(\n",
      "/Library/Frameworks/Python.framework/Versions/3.11/lib/python3.11/site-packages/sklearn/svm/_base.py:1244: ConvergenceWarning: Liblinear failed to converge, increase the number of iterations.\n",
      "  warnings.warn(\n",
      "/Library/Frameworks/Python.framework/Versions/3.11/lib/python3.11/site-packages/sklearn/svm/_base.py:1244: ConvergenceWarning: Liblinear failed to converge, increase the number of iterations.\n",
      "  warnings.warn(\n",
      "/Library/Frameworks/Python.framework/Versions/3.11/lib/python3.11/site-packages/sklearn/svm/_base.py:1244: ConvergenceWarning: Liblinear failed to converge, increase the number of iterations.\n",
      "  warnings.warn(\n",
      "/Library/Frameworks/Python.framework/Versions/3.11/lib/python3.11/site-packages/sklearn/svm/_base.py:1244: ConvergenceWarning: Liblinear failed to converge, increase the number of iterations.\n",
      "  warnings.warn(\n",
      "/Library/Frameworks/Python.framework/Versions/3.11/lib/python3.11/site-packages/sklearn/svm/_base.py:1244: ConvergenceWarning: Liblinear failed to converge, increase the number of iterations.\n",
      "  warnings.warn(\n",
      "/Library/Frameworks/Python.framework/Versions/3.11/lib/python3.11/site-packages/sklearn/svm/_base.py:1244: ConvergenceWarning: Liblinear failed to converge, increase the number of iterations.\n",
      "  warnings.warn(\n",
      "/Library/Frameworks/Python.framework/Versions/3.11/lib/python3.11/site-packages/sklearn/svm/_base.py:1244: ConvergenceWarning: Liblinear failed to converge, increase the number of iterations.\n",
      "  warnings.warn(\n",
      "/Library/Frameworks/Python.framework/Versions/3.11/lib/python3.11/site-packages/sklearn/svm/_base.py:1244: ConvergenceWarning: Liblinear failed to converge, increase the number of iterations.\n",
      "  warnings.warn(\n",
      "/Library/Frameworks/Python.framework/Versions/3.11/lib/python3.11/site-packages/sklearn/svm/_base.py:1244: ConvergenceWarning: Liblinear failed to converge, increase the number of iterations.\n",
      "  warnings.warn(\n",
      "/Library/Frameworks/Python.framework/Versions/3.11/lib/python3.11/site-packages/sklearn/svm/_base.py:1244: ConvergenceWarning: Liblinear failed to converge, increase the number of iterations.\n",
      "  warnings.warn(\n",
      "/Library/Frameworks/Python.framework/Versions/3.11/lib/python3.11/site-packages/sklearn/svm/_base.py:1244: ConvergenceWarning: Liblinear failed to converge, increase the number of iterations.\n",
      "  warnings.warn(\n",
      "/Library/Frameworks/Python.framework/Versions/3.11/lib/python3.11/site-packages/sklearn/svm/_base.py:1244: ConvergenceWarning: Liblinear failed to converge, increase the number of iterations.\n",
      "  warnings.warn(\n"
     ]
    }
   ],
   "source": [
    "lin_cv.fit(miss_x_train,miss_y_train)\n",
    "lin_cv_pred = lin_cv.predict(miss_x_test)\n",
    "lin_cv_sc = lin_cv.score(miss_x_test,miss_y_test)\n",
    "lin_cv_results = pd.DataFrame(lin_cv.cv_results_)"
   ]
  },
  {
   "cell_type": "code",
   "execution_count": 359,
   "metadata": {},
   "outputs": [
    {
     "name": "stderr",
     "output_type": "stream",
     "text": [
      "/Library/Frameworks/Python.framework/Versions/3.11/lib/python3.11/site-packages/sklearn/metrics/_classification.py:1344: UndefinedMetricWarning: Precision is ill-defined and being set to 0.0 due to no predicted samples. Use `zero_division` parameter to control this behavior.\n",
      "  _warn_prf(average, modifier, msg_start, len(result))\n",
      "/Library/Frameworks/Python.framework/Versions/3.11/lib/python3.11/site-packages/sklearn/metrics/_classification.py:1344: UndefinedMetricWarning: Precision is ill-defined and being set to 0.0 due to no predicted samples. Use `zero_division` parameter to control this behavior.\n",
      "  _warn_prf(average, modifier, msg_start, len(result))\n",
      "/Library/Frameworks/Python.framework/Versions/3.11/lib/python3.11/site-packages/sklearn/metrics/_classification.py:1344: UndefinedMetricWarning: Precision is ill-defined and being set to 0.0 due to no predicted samples. Use `zero_division` parameter to control this behavior.\n",
      "  _warn_prf(average, modifier, msg_start, len(result))\n",
      "/Library/Frameworks/Python.framework/Versions/3.11/lib/python3.11/site-packages/sklearn/metrics/_classification.py:1344: UndefinedMetricWarning: Precision is ill-defined and being set to 0.0 due to no predicted samples. Use `zero_division` parameter to control this behavior.\n",
      "  _warn_prf(average, modifier, msg_start, len(result))\n"
     ]
    }
   ],
   "source": [
    "poly_cv.fit(miss_x_train,miss_y_train)\n",
    "poly_cv_pred = poly_cv.predict(miss_x_test)\n",
    "poly_cv_sc = poly_cv.score(miss_x_test,miss_y_test)\n",
    "poly_cv_results = pd.DataFrame(poly_cv.cv_results_)"
   ]
  },
  {
   "cell_type": "code",
   "execution_count": 347,
   "metadata": {},
   "outputs": [
    {
     "name": "stderr",
     "output_type": "stream",
     "text": [
      "/Library/Frameworks/Python.framework/Versions/3.11/lib/python3.11/site-packages/sklearn/metrics/_classification.py:1344: UndefinedMetricWarning: Precision is ill-defined and being set to 0.0 due to no predicted samples. Use `zero_division` parameter to control this behavior.\n",
      "  _warn_prf(average, modifier, msg_start, len(result))\n",
      "/Library/Frameworks/Python.framework/Versions/3.11/lib/python3.11/site-packages/sklearn/metrics/_classification.py:1344: UndefinedMetricWarning: Precision is ill-defined and being set to 0.0 due to no predicted samples. Use `zero_division` parameter to control this behavior.\n",
      "  _warn_prf(average, modifier, msg_start, len(result))\n",
      "/Library/Frameworks/Python.framework/Versions/3.11/lib/python3.11/site-packages/sklearn/metrics/_classification.py:1344: UndefinedMetricWarning: Precision is ill-defined and being set to 0.0 due to no predicted samples. Use `zero_division` parameter to control this behavior.\n",
      "  _warn_prf(average, modifier, msg_start, len(result))\n",
      "/Library/Frameworks/Python.framework/Versions/3.11/lib/python3.11/site-packages/sklearn/metrics/_classification.py:1344: UndefinedMetricWarning: Precision is ill-defined and being set to 0.0 due to no predicted samples. Use `zero_division` parameter to control this behavior.\n",
      "  _warn_prf(average, modifier, msg_start, len(result))\n",
      "/Library/Frameworks/Python.framework/Versions/3.11/lib/python3.11/site-packages/sklearn/metrics/_classification.py:1344: UndefinedMetricWarning: Precision is ill-defined and being set to 0.0 due to no predicted samples. Use `zero_division` parameter to control this behavior.\n",
      "  _warn_prf(average, modifier, msg_start, len(result))\n"
     ]
    }
   ],
   "source": [
    "rbf_cv.fit(miss_x_train,miss_y_train)\n",
    "rbf_cv_pred = rbf_cv.predict(miss_x_test)\n",
    "rbf_cv_sc = rbf_cv.score(miss_x_test,miss_y_test)\n",
    "rbf_cv_results = pd.DataFrame(rbf_cv.cv_results_)"
   ]
  },
  {
   "cell_type": "code",
   "execution_count": 427,
   "metadata": {},
   "outputs": [
    {
     "data": {
      "text/html": [
       "<div>\n",
       "<style scoped>\n",
       "    .dataframe tbody tr th:only-of-type {\n",
       "        vertical-align: middle;\n",
       "    }\n",
       "\n",
       "    .dataframe tbody tr th {\n",
       "        vertical-align: top;\n",
       "    }\n",
       "\n",
       "    .dataframe thead th {\n",
       "        text-align: right;\n",
       "    }\n",
       "</style>\n",
       "<table border=\"1\" class=\"dataframe\">\n",
       "  <thead>\n",
       "    <tr style=\"text-align: right;\">\n",
       "      <th></th>\n",
       "      <th>mean_fit_time</th>\n",
       "      <th>std_fit_time</th>\n",
       "      <th>mean_score_time</th>\n",
       "      <th>std_score_time</th>\n",
       "      <th>param_C</th>\n",
       "      <th>param_gamma</th>\n",
       "      <th>params</th>\n",
       "      <th>split0_test_accuracy</th>\n",
       "      <th>split1_test_accuracy</th>\n",
       "      <th>split2_test_accuracy</th>\n",
       "      <th>...</th>\n",
       "      <th>std_test_precision</th>\n",
       "      <th>rank_test_precision</th>\n",
       "      <th>split0_test_recall</th>\n",
       "      <th>split1_test_recall</th>\n",
       "      <th>split2_test_recall</th>\n",
       "      <th>split3_test_recall</th>\n",
       "      <th>split4_test_recall</th>\n",
       "      <th>mean_test_recall</th>\n",
       "      <th>std_test_recall</th>\n",
       "      <th>rank_test_recall</th>\n",
       "    </tr>\n",
       "  </thead>\n",
       "  <tbody>\n",
       "    <tr>\n",
       "      <th>0</th>\n",
       "      <td>650.712089</td>\n",
       "      <td>6.969153</td>\n",
       "      <td>36.635373</td>\n",
       "      <td>0.210464</td>\n",
       "      <td>0.106767</td>\n",
       "      <td>0.013678</td>\n",
       "      <td>{'C': 0.10676710492889818, 'gamma': 0.01367797...</td>\n",
       "      <td>0.913629</td>\n",
       "      <td>0.913629</td>\n",
       "      <td>0.913629</td>\n",
       "      <td>...</td>\n",
       "      <td>0.000000</td>\n",
       "      <td>10</td>\n",
       "      <td>0.000000</td>\n",
       "      <td>0.000000</td>\n",
       "      <td>0.000000</td>\n",
       "      <td>0.000000</td>\n",
       "      <td>0.000000</td>\n",
       "      <td>0.000000</td>\n",
       "      <td>0.000000</td>\n",
       "      <td>10</td>\n",
       "    </tr>\n",
       "    <tr>\n",
       "      <th>1</th>\n",
       "      <td>391.299244</td>\n",
       "      <td>5.128305</td>\n",
       "      <td>23.364456</td>\n",
       "      <td>0.207180</td>\n",
       "      <td>2.056923</td>\n",
       "      <td>0.003705</td>\n",
       "      <td>{'C': 2.0569231285180263, 'gamma': 0.003704949...</td>\n",
       "      <td>0.927181</td>\n",
       "      <td>0.927960</td>\n",
       "      <td>0.926636</td>\n",
       "      <td>...</td>\n",
       "      <td>0.017703</td>\n",
       "      <td>5</td>\n",
       "      <td>0.239856</td>\n",
       "      <td>0.229937</td>\n",
       "      <td>0.218215</td>\n",
       "      <td>0.248649</td>\n",
       "      <td>0.225428</td>\n",
       "      <td>0.232417</td>\n",
       "      <td>0.010728</td>\n",
       "      <td>1</td>\n",
       "    </tr>\n",
       "    <tr>\n",
       "      <th>2</th>\n",
       "      <td>3913.884127</td>\n",
       "      <td>458.608359</td>\n",
       "      <td>591.594798</td>\n",
       "      <td>448.587815</td>\n",
       "      <td>0.724986</td>\n",
       "      <td>0.01657</td>\n",
       "      <td>{'C': 0.7249856571992477, 'gamma': 0.016569637...</td>\n",
       "      <td>0.917757</td>\n",
       "      <td>0.916277</td>\n",
       "      <td>0.916277</td>\n",
       "      <td>...</td>\n",
       "      <td>0.036353</td>\n",
       "      <td>3</td>\n",
       "      <td>0.056808</td>\n",
       "      <td>0.042381</td>\n",
       "      <td>0.042381</td>\n",
       "      <td>0.052252</td>\n",
       "      <td>0.038774</td>\n",
       "      <td>0.046519</td>\n",
       "      <td>0.006826</td>\n",
       "      <td>9</td>\n",
       "    </tr>\n",
       "    <tr>\n",
       "      <th>3</th>\n",
       "      <td>4456.220874</td>\n",
       "      <td>7.645968</td>\n",
       "      <td>98.958671</td>\n",
       "      <td>1.658096</td>\n",
       "      <td>1.244441</td>\n",
       "      <td>0.013076</td>\n",
       "      <td>{'C': 1.2444409071927485, 'gamma': 0.013076094...</td>\n",
       "      <td>0.922118</td>\n",
       "      <td>0.922040</td>\n",
       "      <td>0.922975</td>\n",
       "      <td>...</td>\n",
       "      <td>0.020032</td>\n",
       "      <td>7</td>\n",
       "      <td>0.160505</td>\n",
       "      <td>0.153291</td>\n",
       "      <td>0.152390</td>\n",
       "      <td>0.149550</td>\n",
       "      <td>0.153291</td>\n",
       "      <td>0.153805</td>\n",
       "      <td>0.003620</td>\n",
       "      <td>5</td>\n",
       "    </tr>\n",
       "    <tr>\n",
       "      <th>4</th>\n",
       "      <td>501.619941</td>\n",
       "      <td>27.277372</td>\n",
       "      <td>84.988784</td>\n",
       "      <td>0.873781</td>\n",
       "      <td>0.402729</td>\n",
       "      <td>0.00743</td>\n",
       "      <td>{'C': 0.4027290119076675, 'gamma': 0.007430481...</td>\n",
       "      <td>0.921651</td>\n",
       "      <td>0.921028</td>\n",
       "      <td>0.921573</td>\n",
       "      <td>...</td>\n",
       "      <td>0.011045</td>\n",
       "      <td>1</td>\n",
       "      <td>0.111812</td>\n",
       "      <td>0.104599</td>\n",
       "      <td>0.114518</td>\n",
       "      <td>0.107207</td>\n",
       "      <td>0.100090</td>\n",
       "      <td>0.107645</td>\n",
       "      <td>0.005121</td>\n",
       "      <td>7</td>\n",
       "    </tr>\n",
       "    <tr>\n",
       "      <th>5</th>\n",
       "      <td>5903.903042</td>\n",
       "      <td>451.975264</td>\n",
       "      <td>986.823764</td>\n",
       "      <td>37.153282</td>\n",
       "      <td>1.340712</td>\n",
       "      <td>0.015277</td>\n",
       "      <td>{'C': 1.34071229863613, 'gamma': 0.01527705965...</td>\n",
       "      <td>0.920327</td>\n",
       "      <td>0.920327</td>\n",
       "      <td>0.921028</td>\n",
       "      <td>...</td>\n",
       "      <td>0.018134</td>\n",
       "      <td>8</td>\n",
       "      <td>0.135257</td>\n",
       "      <td>0.124436</td>\n",
       "      <td>0.127142</td>\n",
       "      <td>0.120721</td>\n",
       "      <td>0.125338</td>\n",
       "      <td>0.126579</td>\n",
       "      <td>0.004818</td>\n",
       "      <td>6</td>\n",
       "    </tr>\n",
       "    <tr>\n",
       "      <th>6</th>\n",
       "      <td>963.555064</td>\n",
       "      <td>14.730845</td>\n",
       "      <td>81.415162</td>\n",
       "      <td>10.265329</td>\n",
       "      <td>1.53282</td>\n",
       "      <td>0.005997</td>\n",
       "      <td>{'C': 1.5328202292244688, 'gamma': 0.005997140...</td>\n",
       "      <td>0.927025</td>\n",
       "      <td>0.927648</td>\n",
       "      <td>0.926168</td>\n",
       "      <td>...</td>\n",
       "      <td>0.018979</td>\n",
       "      <td>6</td>\n",
       "      <td>0.245266</td>\n",
       "      <td>0.229035</td>\n",
       "      <td>0.221821</td>\n",
       "      <td>0.237838</td>\n",
       "      <td>0.222723</td>\n",
       "      <td>0.231337</td>\n",
       "      <td>0.009015</td>\n",
       "      <td>2</td>\n",
       "    </tr>\n",
       "    <tr>\n",
       "      <th>7</th>\n",
       "      <td>8733.772651</td>\n",
       "      <td>26.155030</td>\n",
       "      <td>454.169053</td>\n",
       "      <td>449.505748</td>\n",
       "      <td>0.889659</td>\n",
       "      <td>0.014046</td>\n",
       "      <td>{'C': 0.8896585620117006, 'gamma': 0.014045534...</td>\n",
       "      <td>0.920405</td>\n",
       "      <td>0.919315</td>\n",
       "      <td>0.919470</td>\n",
       "      <td>...</td>\n",
       "      <td>0.025592</td>\n",
       "      <td>4</td>\n",
       "      <td>0.110911</td>\n",
       "      <td>0.091073</td>\n",
       "      <td>0.091975</td>\n",
       "      <td>0.090991</td>\n",
       "      <td>0.083859</td>\n",
       "      <td>0.093762</td>\n",
       "      <td>0.009058</td>\n",
       "      <td>8</td>\n",
       "    </tr>\n",
       "    <tr>\n",
       "      <th>8</th>\n",
       "      <td>1807.235928</td>\n",
       "      <td>478.174613</td>\n",
       "      <td>39.792777</td>\n",
       "      <td>5.191415</td>\n",
       "      <td>2.010891</td>\n",
       "      <td>0.001823</td>\n",
       "      <td>{'C': 2.010891115338811, 'gamma': 0.0018231769...</td>\n",
       "      <td>0.926090</td>\n",
       "      <td>0.926246</td>\n",
       "      <td>0.925156</td>\n",
       "      <td>...</td>\n",
       "      <td>0.014884</td>\n",
       "      <td>2</td>\n",
       "      <td>0.201082</td>\n",
       "      <td>0.193868</td>\n",
       "      <td>0.186655</td>\n",
       "      <td>0.198198</td>\n",
       "      <td>0.179441</td>\n",
       "      <td>0.191849</td>\n",
       "      <td>0.007881</td>\n",
       "      <td>3</td>\n",
       "    </tr>\n",
       "    <tr>\n",
       "      <th>9</th>\n",
       "      <td>8869.047802</td>\n",
       "      <td>14.876884</td>\n",
       "      <td>31.556014</td>\n",
       "      <td>0.562615</td>\n",
       "      <td>1.440763</td>\n",
       "      <td>0.013151</td>\n",
       "      <td>{'C': 1.4407625884521686, 'gamma': 0.013151306...</td>\n",
       "      <td>0.922196</td>\n",
       "      <td>0.922664</td>\n",
       "      <td>0.923287</td>\n",
       "      <td>...</td>\n",
       "      <td>0.021667</td>\n",
       "      <td>9</td>\n",
       "      <td>0.174031</td>\n",
       "      <td>0.168620</td>\n",
       "      <td>0.166817</td>\n",
       "      <td>0.154955</td>\n",
       "      <td>0.166817</td>\n",
       "      <td>0.166248</td>\n",
       "      <td>0.006235</td>\n",
       "      <td>4</td>\n",
       "    </tr>\n",
       "  </tbody>\n",
       "</table>\n",
       "<p>10 rows × 39 columns</p>\n",
       "</div>"
      ],
      "text/plain": [
       "   mean_fit_time  std_fit_time  mean_score_time  std_score_time   param_C  \\\n",
       "0     650.712089      6.969153        36.635373        0.210464  0.106767   \n",
       "1     391.299244      5.128305        23.364456        0.207180  2.056923   \n",
       "2    3913.884127    458.608359       591.594798      448.587815  0.724986   \n",
       "3    4456.220874      7.645968        98.958671        1.658096  1.244441   \n",
       "4     501.619941     27.277372        84.988784        0.873781  0.402729   \n",
       "5    5903.903042    451.975264       986.823764       37.153282  1.340712   \n",
       "6     963.555064     14.730845        81.415162       10.265329   1.53282   \n",
       "7    8733.772651     26.155030       454.169053      449.505748  0.889659   \n",
       "8    1807.235928    478.174613        39.792777        5.191415  2.010891   \n",
       "9    8869.047802     14.876884        31.556014        0.562615  1.440763   \n",
       "\n",
       "  param_gamma                                             params  \\\n",
       "0    0.013678  {'C': 0.10676710492889818, 'gamma': 0.01367797...   \n",
       "1    0.003705  {'C': 2.0569231285180263, 'gamma': 0.003704949...   \n",
       "2     0.01657  {'C': 0.7249856571992477, 'gamma': 0.016569637...   \n",
       "3    0.013076  {'C': 1.2444409071927485, 'gamma': 0.013076094...   \n",
       "4     0.00743  {'C': 0.4027290119076675, 'gamma': 0.007430481...   \n",
       "5    0.015277  {'C': 1.34071229863613, 'gamma': 0.01527705965...   \n",
       "6    0.005997  {'C': 1.5328202292244688, 'gamma': 0.005997140...   \n",
       "7    0.014046  {'C': 0.8896585620117006, 'gamma': 0.014045534...   \n",
       "8    0.001823  {'C': 2.010891115338811, 'gamma': 0.0018231769...   \n",
       "9    0.013151  {'C': 1.4407625884521686, 'gamma': 0.013151306...   \n",
       "\n",
       "   split0_test_accuracy  split1_test_accuracy  split2_test_accuracy  ...  \\\n",
       "0              0.913629              0.913629              0.913629  ...   \n",
       "1              0.927181              0.927960              0.926636  ...   \n",
       "2              0.917757              0.916277              0.916277  ...   \n",
       "3              0.922118              0.922040              0.922975  ...   \n",
       "4              0.921651              0.921028              0.921573  ...   \n",
       "5              0.920327              0.920327              0.921028  ...   \n",
       "6              0.927025              0.927648              0.926168  ...   \n",
       "7              0.920405              0.919315              0.919470  ...   \n",
       "8              0.926090              0.926246              0.925156  ...   \n",
       "9              0.922196              0.922664              0.923287  ...   \n",
       "\n",
       "   std_test_precision  rank_test_precision  split0_test_recall  \\\n",
       "0            0.000000                   10            0.000000   \n",
       "1            0.017703                    5            0.239856   \n",
       "2            0.036353                    3            0.056808   \n",
       "3            0.020032                    7            0.160505   \n",
       "4            0.011045                    1            0.111812   \n",
       "5            0.018134                    8            0.135257   \n",
       "6            0.018979                    6            0.245266   \n",
       "7            0.025592                    4            0.110911   \n",
       "8            0.014884                    2            0.201082   \n",
       "9            0.021667                    9            0.174031   \n",
       "\n",
       "   split1_test_recall  split2_test_recall  split3_test_recall  \\\n",
       "0            0.000000            0.000000            0.000000   \n",
       "1            0.229937            0.218215            0.248649   \n",
       "2            0.042381            0.042381            0.052252   \n",
       "3            0.153291            0.152390            0.149550   \n",
       "4            0.104599            0.114518            0.107207   \n",
       "5            0.124436            0.127142            0.120721   \n",
       "6            0.229035            0.221821            0.237838   \n",
       "7            0.091073            0.091975            0.090991   \n",
       "8            0.193868            0.186655            0.198198   \n",
       "9            0.168620            0.166817            0.154955   \n",
       "\n",
       "   split4_test_recall  mean_test_recall  std_test_recall  rank_test_recall  \n",
       "0            0.000000          0.000000         0.000000                10  \n",
       "1            0.225428          0.232417         0.010728                 1  \n",
       "2            0.038774          0.046519         0.006826                 9  \n",
       "3            0.153291          0.153805         0.003620                 5  \n",
       "4            0.100090          0.107645         0.005121                 7  \n",
       "5            0.125338          0.126579         0.004818                 6  \n",
       "6            0.222723          0.231337         0.009015                 2  \n",
       "7            0.083859          0.093762         0.009058                 8  \n",
       "8            0.179441          0.191849         0.007881                 3  \n",
       "9            0.166817          0.166248         0.006235                 4  \n",
       "\n",
       "[10 rows x 39 columns]"
      ]
     },
     "execution_count": 427,
     "metadata": {},
     "output_type": "execute_result"
    }
   ],
   "source": [
    "rbf_cv_results"
   ]
  },
  {
   "cell_type": "code",
   "execution_count": 348,
   "metadata": {},
   "outputs": [],
   "source": [
    "sig_cv.fit(miss_x_train,miss_y_train)\n",
    "sig_cv_pred = sig_cv.predict(miss_x_test)\n",
    "sig_cv_sc = sig_cv.score(miss_x_test,miss_y_test)\n",
    "sig_cv_results = pd.DataFrame(sig_cv.cv_results_)"
   ]
  },
  {
   "cell_type": "code",
   "execution_count": 349,
   "metadata": {},
   "outputs": [
    {
     "name": "stdout",
     "output_type": "stream",
     "text": [
      "Linear CV kernel: 0.9269826270262412\n",
      "Polynomial CV kernel: 0.9263284146252817\n",
      "Radio Base Frequency CV kernel: 0.9301809987642654\n",
      "Sigmoid CV kernel: 0.9049574761939376\n"
     ]
    }
   ],
   "source": [
    "print(\"Linear CV kernel:\", lin_cv_sc)\n",
    "print(\"Polynomial CV kernel:\", poly_cv_sc)\n",
    "print(\"Radio Base Frequency CV kernel:\", rbf_cv_sc)\n",
    "print(\"Sigmoid CV kernel:\", sig_cv_sc)"
   ]
  },
  {
   "cell_type": "code",
   "execution_count": 350,
   "metadata": {},
   "outputs": [],
   "source": [
    "dists = {\n",
    "    \"C\": uniform(loc=0, scale=3),\n",
    "    \"gamma\": uniform(loc=0,scale=(3/171)) # number of features\n",
    "}\n",
    "\n",
    "lin_cv2 = RandomizedSearchCV(\n",
    "    svm.LinearSVC(random_state=12), \n",
    "    {\"C\": uniform(loc=0, scale=3),\"penalty\":['l1','l2']},\n",
    "    n_iter = 10,\n",
    "    n_jobs=-1,\n",
    "    scoring=['accuracy','f1','precision','recall'],\n",
    "    refit='accuracy',\n",
    "    cv=5,\n",
    "    random_state=214,\n",
    "    verbose=0)\n",
    "\n",
    "poly_cv2 = RandomizedSearchCV(\n",
    "    svm.SVC(random_state=12,kernel='poly'), \n",
    "    dists,\n",
    "    n_iter = 10,\n",
    "    n_jobs=-1,\n",
    "    scoring=['accuracy','f1','precision','recall'],\n",
    "    refit='accuracy',\n",
    "    cv=5,\n",
    "    random_state=215,\n",
    "    verbose=0)\n",
    "\n",
    "rbf_cv2 = RandomizedSearchCV(\n",
    "    svm.SVC(random_state=13,kernel='rbf'), \n",
    "    dists,\n",
    "    n_iter = 10,\n",
    "    n_jobs=-1,\n",
    "    scoring=['accuracy','f1','precision','recall'],\n",
    "    refit='accuracy',\n",
    "    cv=5,\n",
    "    random_state=216,\n",
    "    verbose=0)\n",
    "\n",
    "sig_cv2 = RandomizedSearchCV(\n",
    "    svm.SVC(random_state=15,kernel='sigmoid'), \n",
    "    dists,\n",
    "    n_iter = 10,\n",
    "    n_jobs=-1,\n",
    "    scoring=['accuracy','f1','precision','recall'],\n",
    "    refit='accuracy',\n",
    "    cv=5,\n",
    "    random_state=217,\n",
    "    verbose=0)"
   ]
  },
  {
   "cell_type": "code",
   "execution_count": 351,
   "metadata": {},
   "outputs": [
    {
     "name": "stderr",
     "output_type": "stream",
     "text": [
      "/Library/Frameworks/Python.framework/Versions/3.11/lib/python3.11/site-packages/sklearn/svm/_base.py:1244: ConvergenceWarning: Liblinear failed to converge, increase the number of iterations.\n",
      "  warnings.warn(\n",
      "/Library/Frameworks/Python.framework/Versions/3.11/lib/python3.11/site-packages/sklearn/svm/_base.py:1244: ConvergenceWarning: Liblinear failed to converge, increase the number of iterations.\n",
      "  warnings.warn(\n",
      "/Library/Frameworks/Python.framework/Versions/3.11/lib/python3.11/site-packages/sklearn/svm/_base.py:1244: ConvergenceWarning: Liblinear failed to converge, increase the number of iterations.\n",
      "  warnings.warn(\n",
      "/Library/Frameworks/Python.framework/Versions/3.11/lib/python3.11/site-packages/sklearn/svm/_base.py:1244: ConvergenceWarning: Liblinear failed to converge, increase the number of iterations.\n",
      "  warnings.warn(\n",
      "/Library/Frameworks/Python.framework/Versions/3.11/lib/python3.11/site-packages/sklearn/svm/_base.py:1244: ConvergenceWarning: Liblinear failed to converge, increase the number of iterations.\n",
      "  warnings.warn(\n",
      "/Library/Frameworks/Python.framework/Versions/3.11/lib/python3.11/site-packages/sklearn/svm/_base.py:1244: ConvergenceWarning: Liblinear failed to converge, increase the number of iterations.\n",
      "  warnings.warn(\n",
      "/Library/Frameworks/Python.framework/Versions/3.11/lib/python3.11/site-packages/sklearn/svm/_base.py:1244: ConvergenceWarning: Liblinear failed to converge, increase the number of iterations.\n",
      "  warnings.warn(\n",
      "/Library/Frameworks/Python.framework/Versions/3.11/lib/python3.11/site-packages/sklearn/svm/_base.py:1244: ConvergenceWarning: Liblinear failed to converge, increase the number of iterations.\n",
      "  warnings.warn(\n",
      "/Library/Frameworks/Python.framework/Versions/3.11/lib/python3.11/site-packages/sklearn/svm/_base.py:1244: ConvergenceWarning: Liblinear failed to converge, increase the number of iterations.\n",
      "  warnings.warn(\n",
      "/Library/Frameworks/Python.framework/Versions/3.11/lib/python3.11/site-packages/sklearn/svm/_base.py:1244: ConvergenceWarning: Liblinear failed to converge, increase the number of iterations.\n",
      "  warnings.warn(\n",
      "/Library/Frameworks/Python.framework/Versions/3.11/lib/python3.11/site-packages/sklearn/svm/_base.py:1244: ConvergenceWarning: Liblinear failed to converge, increase the number of iterations.\n",
      "  warnings.warn(\n",
      "/Library/Frameworks/Python.framework/Versions/3.11/lib/python3.11/site-packages/sklearn/svm/_base.py:1244: ConvergenceWarning: Liblinear failed to converge, increase the number of iterations.\n",
      "  warnings.warn(\n",
      "/Library/Frameworks/Python.framework/Versions/3.11/lib/python3.11/site-packages/sklearn/svm/_base.py:1244: ConvergenceWarning: Liblinear failed to converge, increase the number of iterations.\n",
      "  warnings.warn(\n",
      "/Library/Frameworks/Python.framework/Versions/3.11/lib/python3.11/site-packages/sklearn/svm/_base.py:1244: ConvergenceWarning: Liblinear failed to converge, increase the number of iterations.\n",
      "  warnings.warn(\n",
      "/Library/Frameworks/Python.framework/Versions/3.11/lib/python3.11/site-packages/sklearn/svm/_base.py:1244: ConvergenceWarning: Liblinear failed to converge, increase the number of iterations.\n",
      "  warnings.warn(\n",
      "/Library/Frameworks/Python.framework/Versions/3.11/lib/python3.11/site-packages/sklearn/svm/_base.py:1244: ConvergenceWarning: Liblinear failed to converge, increase the number of iterations.\n",
      "  warnings.warn(\n",
      "/Library/Frameworks/Python.framework/Versions/3.11/lib/python3.11/site-packages/sklearn/svm/_base.py:1244: ConvergenceWarning: Liblinear failed to converge, increase the number of iterations.\n",
      "  warnings.warn(\n",
      "/Library/Frameworks/Python.framework/Versions/3.11/lib/python3.11/site-packages/sklearn/svm/_base.py:1244: ConvergenceWarning: Liblinear failed to converge, increase the number of iterations.\n",
      "  warnings.warn(\n",
      "/Library/Frameworks/Python.framework/Versions/3.11/lib/python3.11/site-packages/sklearn/svm/_base.py:1244: ConvergenceWarning: Liblinear failed to converge, increase the number of iterations.\n",
      "  warnings.warn(\n",
      "/Library/Frameworks/Python.framework/Versions/3.11/lib/python3.11/site-packages/sklearn/svm/_base.py:1244: ConvergenceWarning: Liblinear failed to converge, increase the number of iterations.\n",
      "  warnings.warn(\n",
      "/Library/Frameworks/Python.framework/Versions/3.11/lib/python3.11/site-packages/sklearn/svm/_base.py:1244: ConvergenceWarning: Liblinear failed to converge, increase the number of iterations.\n",
      "  warnings.warn(\n",
      "/Library/Frameworks/Python.framework/Versions/3.11/lib/python3.11/site-packages/sklearn/svm/_base.py:1244: ConvergenceWarning: Liblinear failed to converge, increase the number of iterations.\n",
      "  warnings.warn(\n",
      "/Library/Frameworks/Python.framework/Versions/3.11/lib/python3.11/site-packages/sklearn/svm/_base.py:1244: ConvergenceWarning: Liblinear failed to converge, increase the number of iterations.\n",
      "  warnings.warn(\n",
      "/Library/Frameworks/Python.framework/Versions/3.11/lib/python3.11/site-packages/sklearn/svm/_base.py:1244: ConvergenceWarning: Liblinear failed to converge, increase the number of iterations.\n",
      "  warnings.warn(\n",
      "/Library/Frameworks/Python.framework/Versions/3.11/lib/python3.11/site-packages/sklearn/svm/_base.py:1244: ConvergenceWarning: Liblinear failed to converge, increase the number of iterations.\n",
      "  warnings.warn(\n"
     ]
    }
   ],
   "source": [
    "lin_cv2.fit(miss_x_train_best,miss_y_train)\n",
    "lin_cv_pred2 = lin_cv2.predict(miss_x_test_best)\n",
    "lin_cv_sc2 = lin_cv2.score(miss_x_test_best,miss_y_test)\n",
    "lin_cv_results2 = pd.DataFrame(lin_cv2.cv_results_)"
   ]
  },
  {
   "cell_type": "code",
   "execution_count": 352,
   "metadata": {},
   "outputs": [
    {
     "name": "stderr",
     "output_type": "stream",
     "text": [
      "/Library/Frameworks/Python.framework/Versions/3.11/lib/python3.11/site-packages/sklearn/metrics/_classification.py:1344: UndefinedMetricWarning: Precision is ill-defined and being set to 0.0 due to no predicted samples. Use `zero_division` parameter to control this behavior.\n",
      "  _warn_prf(average, modifier, msg_start, len(result))\n",
      "/Library/Frameworks/Python.framework/Versions/3.11/lib/python3.11/site-packages/sklearn/metrics/_classification.py:1344: UndefinedMetricWarning: Precision is ill-defined and being set to 0.0 due to no predicted samples. Use `zero_division` parameter to control this behavior.\n",
      "  _warn_prf(average, modifier, msg_start, len(result))\n",
      "/Library/Frameworks/Python.framework/Versions/3.11/lib/python3.11/site-packages/sklearn/metrics/_classification.py:1344: UndefinedMetricWarning: Precision is ill-defined and being set to 0.0 due to no predicted samples. Use `zero_division` parameter to control this behavior.\n",
      "  _warn_prf(average, modifier, msg_start, len(result))\n",
      "/Library/Frameworks/Python.framework/Versions/3.11/lib/python3.11/site-packages/sklearn/metrics/_classification.py:1344: UndefinedMetricWarning: Precision is ill-defined and being set to 0.0 due to no predicted samples. Use `zero_division` parameter to control this behavior.\n",
      "  _warn_prf(average, modifier, msg_start, len(result))\n",
      "/Library/Frameworks/Python.framework/Versions/3.11/lib/python3.11/site-packages/sklearn/metrics/_classification.py:1344: UndefinedMetricWarning: Precision is ill-defined and being set to 0.0 due to no predicted samples. Use `zero_division` parameter to control this behavior.\n",
      "  _warn_prf(average, modifier, msg_start, len(result))\n"
     ]
    }
   ],
   "source": [
    "poly_cv2.fit(miss_x_train_best,miss_y_train)\n",
    "poly_cv_pred2 = poly_cv2.predict(miss_x_test_best)\n",
    "poly_cv_sc2 = poly_cv2.score(miss_x_test_best,miss_y_test)\n",
    "poly_cv_results2 = pd.DataFrame(poly_cv2.cv_results_)"
   ]
  },
  {
   "cell_type": "code",
   "execution_count": 353,
   "metadata": {},
   "outputs": [],
   "source": [
    "rbf_cv2.fit(miss_x_train_best,miss_y_train)\n",
    "rbf_cv_pred2 = rbf_cv2.predict(miss_x_test_best)\n",
    "rbf_cv_sc2 = rbf_cv2.score(miss_x_test_best,miss_y_test)\n",
    "rbf_cv_results2 = pd.DataFrame(rbf_cv2.cv_results_)"
   ]
  },
  {
   "cell_type": "code",
   "execution_count": 354,
   "metadata": {},
   "outputs": [
    {
     "name": "stderr",
     "output_type": "stream",
     "text": [
      "/Library/Frameworks/Python.framework/Versions/3.11/lib/python3.11/site-packages/sklearn/metrics/_classification.py:1344: UndefinedMetricWarning: Precision is ill-defined and being set to 0.0 due to no predicted samples. Use `zero_division` parameter to control this behavior.\n",
      "  _warn_prf(average, modifier, msg_start, len(result))\n",
      "/Library/Frameworks/Python.framework/Versions/3.11/lib/python3.11/site-packages/sklearn/metrics/_classification.py:1344: UndefinedMetricWarning: Precision is ill-defined and being set to 0.0 due to no predicted samples. Use `zero_division` parameter to control this behavior.\n",
      "  _warn_prf(average, modifier, msg_start, len(result))\n",
      "/Library/Frameworks/Python.framework/Versions/3.11/lib/python3.11/site-packages/sklearn/metrics/_classification.py:1344: UndefinedMetricWarning: Precision is ill-defined and being set to 0.0 due to no predicted samples. Use `zero_division` parameter to control this behavior.\n",
      "  _warn_prf(average, modifier, msg_start, len(result))\n",
      "/Library/Frameworks/Python.framework/Versions/3.11/lib/python3.11/site-packages/sklearn/metrics/_classification.py:1344: UndefinedMetricWarning: Precision is ill-defined and being set to 0.0 due to no predicted samples. Use `zero_division` parameter to control this behavior.\n",
      "  _warn_prf(average, modifier, msg_start, len(result))\n",
      "/Library/Frameworks/Python.framework/Versions/3.11/lib/python3.11/site-packages/sklearn/metrics/_classification.py:1344: UndefinedMetricWarning: Precision is ill-defined and being set to 0.0 due to no predicted samples. Use `zero_division` parameter to control this behavior.\n",
      "  _warn_prf(average, modifier, msg_start, len(result))\n"
     ]
    }
   ],
   "source": [
    "sig_cv2.fit(miss_x_train_best,miss_y_train)\n",
    "sig_cv_pred2 = sig_cv2.predict(miss_x_test_best)\n",
    "sig_cv_sc2 = sig_cv2.score(miss_x_test_best,miss_y_test)\n",
    "sig_cv_results2 = pd.DataFrame(sig_cv2.cv_results_)"
   ]
  },
  {
   "cell_type": "code",
   "execution_count": 355,
   "metadata": {},
   "outputs": [
    {
     "name": "stdout",
     "output_type": "stream",
     "text": [
      "Linear CV kernel: 0.9204041578832595\n",
      "Polynomial CV kernel: 0.9198226357490732\n",
      "Radio Base Frequency CV kernel: 0.9206585738169659\n",
      "Sigmoid CV kernel: 0.913898379007051\n"
     ]
    }
   ],
   "source": [
    "print(\"Linear CV kernel:\", lin_cv_sc2)\n",
    "print(\"Polynomial CV kernel:\", poly_cv_sc2)\n",
    "print(\"Radio Base Frequency CV kernel:\", rbf_cv_sc2)\n",
    "print(\"Sigmoid CV kernel:\", sig_cv_sc2)"
   ]
  },
  {
   "attachments": {},
   "cell_type": "markdown",
   "metadata": {},
   "source": [
    "**True test on the unlabelled data**"
   ]
  },
  {
   "cell_type": "code",
   "execution_count": null,
   "metadata": {},
   "outputs": [],
   "source": [
    "svc_lin_test_pred = svc_lin.predict(testing_X.fillna(0))"
   ]
  },
  {
   "cell_type": "code",
   "execution_count": null,
   "metadata": {},
   "outputs": [],
   "source": [
    "svc_poly_test_pred = svc_poly.predict(testing_X.fillna(0))"
   ]
  },
  {
   "cell_type": "code",
   "execution_count": null,
   "metadata": {},
   "outputs": [],
   "source": [
    "svc_rbf_test_pred = svc_rbf.predict(testing_X.fillna(0))"
   ]
  },
  {
   "cell_type": "code",
   "execution_count": null,
   "metadata": {},
   "outputs": [],
   "source": [
    "svc_sig_test_pred = svc_sig.predict(testing_X.fillna(0))"
   ]
  },
  {
   "cell_type": "code",
   "execution_count": null,
   "metadata": {},
   "outputs": [
    {
     "name": "stdout",
     "output_type": "stream",
     "text": [
      "Linear kernel: 0.998499033275669\n",
      "Polynomial kernel: 0.5849445405515417\n",
      "Radio Base Frequency kernel: 2.5440113971710593e-05\n",
      "Sigmoid kernel: 0.972753637936298\n"
     ]
    }
   ],
   "source": [
    "# print(\"Linear kernel:\", svc_lin_test_sc)\n",
    "# print(\"Polynomial kernel:\", svc_poly_test_sc)\n",
    "# print(\"Radio Base Frequency kernel:\", svc_rbf_test_sc)\n",
    "# print(\"Sigmoid kernel:\", svc_sig_test_sc)"
   ]
  }
 ],
 "metadata": {
  "kernelspec": {
   "display_name": "Python 3",
   "language": "python",
   "name": "python3"
  },
  "language_info": {
   "codemirror_mode": {
    "name": "ipython",
    "version": 3
   },
   "file_extension": ".py",
   "mimetype": "text/x-python",
   "name": "python",
   "nbconvert_exporter": "python",
   "pygments_lexer": "ipython3",
   "version": "3.11.2"
  },
  "orig_nbformat": 4
 },
 "nbformat": 4,
 "nbformat_minor": 2
}
