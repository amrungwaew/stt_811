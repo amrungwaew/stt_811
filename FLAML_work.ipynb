{
 "cells": [
  {
   "cell_type": "code",
   "execution_count": 1,
   "metadata": {},
   "outputs": [],
   "source": [
    "import pandas as pd\n",
    "from flaml import AutoML\n",
    "from sklearn.model_selection import train_test_split\n",
    "import warnings \n",
    "warnings.filterwarnings('ignore')\n",
    "from flaml import logger, logging\n",
    "logger.setLevel(logging.WARNING)"
   ]
  },
  {
   "cell_type": "code",
   "execution_count": 2,
   "metadata": {},
   "outputs": [
    {
     "data": {
      "text/plain": [
       "0    83798\n",
       "1     7915\n",
       "Name: hospital_death, dtype: int64"
      ]
     },
     "execution_count": 2,
     "metadata": {},
     "output_type": "execute_result"
    }
   ],
   "source": [
    "wids_df = pd.read_csv('training_v2.csv')\n",
    "test = pd.read_csv('unlabeled.csv')\n",
    "info = pd.read_csv('dict_info.csv')\n",
    "wids_df['hospital_death'].value_counts()"
   ]
  },
  {
   "cell_type": "code",
   "execution_count": 3,
   "metadata": {},
   "outputs": [],
   "source": [
    "X = wids_df.loc[:,wids_df.columns != 'hospital_death']\n",
    "y = wids_df['hospital_death']"
   ]
  },
  {
   "cell_type": "code",
   "execution_count": null,
   "metadata": {},
   "outputs": [],
   "source": [
    "# IGNORE\n",
    "# mapper = pd.DataFrameMapper(\n",
    "#   [(continuous_col, preprocessing.StandardScaler()) for continuous_col in continuous_cols] +\n",
    "#   [(categorical_col, preprocessing.LabelBinarizer()) for categorical_col in categorical_cols]\n",
    "# )\n",
    "# pipeline = preprocessing.Pipeline(\n",
    "#   [(\"mapper\", mapper),\n",
    "#   (\"estimator\", estimator)]\n",
    "# )\n",
    "# pipeline.fit_transform(df, df[\"y\"])"
   ]
  },
  {
   "cell_type": "code",
   "execution_count": 4,
   "metadata": {},
   "outputs": [],
   "source": [
    "\n",
    "x_train, x_test, y_train, y_test = train_test_split(X,y,random_state=42)\n",
    "#scaler = preprocessing.StandardScaler().fit(x_train)\n",
    "#x_scaled = scaler.transform(x_train)"
   ]
  },
  {
   "attachments": {},
   "cell_type": "markdown",
   "metadata": {},
   "source": [
    "Runnning the model (took approx 9mins to run)"
   ]
  },
  {
   "cell_type": "code",
   "execution_count": 29,
   "metadata": {},
   "outputs": [
    {
     "name": "stdout",
     "output_type": "stream",
     "text": [
      "zsh:1: no matches found: flaml[nlp,notebook,blendsearch]\n",
      "Note: you may need to restart the kernel to use updated packages.\n"
     ]
    }
   ],
   "source": [
    "%pip install flaml[nlp,notebook,blendsearch]"
   ]
  },
  {
   "cell_type": "code",
   "execution_count": 30,
   "metadata": {},
   "outputs": [],
   "source": [
    "\n",
    "automl = AutoML()\n",
    "automl.fit(x_train, y_train, task=\"classification\", time_budget=200,verbose=0,metric='rmse')"
   ]
  },
  {
   "cell_type": "code",
   "execution_count": 32,
   "metadata": {},
   "outputs": [],
   "source": [
    "y_pred = automl.predict(x_test)"
   ]
  },
  {
   "attachments": {},
   "cell_type": "markdown",
   "metadata": {},
   "source": [
    "The best results:"
   ]
  },
  {
   "cell_type": "code",
   "execution_count": 33,
   "metadata": {},
   "outputs": [
    {
     "name": "stdout",
     "output_type": "stream",
     "text": [
      "rmse = 0.25687799740717604\n"
     ]
    }
   ],
   "source": [
    "''' compute different metric values on testing dataset'''\n",
    "from flaml.ml import sklearn_metric_loss_score\n",
    "print('rmse', '=', 1-sklearn_metric_loss_score('rmse', y_pred, y_test))"
   ]
  },
  {
   "cell_type": "code",
   "execution_count": 47,
   "metadata": {},
   "outputs": [
    {
     "data": {
      "text/plain": [
       "{'n_estimators': 721,\n",
       " 'max_leaves': 248,\n",
       " 'min_child_weight': 3.563471645105893,\n",
       " 'learning_rate': 0.026815059544605373,\n",
       " 'subsample': 0.827351358517848,\n",
       " 'colsample_bylevel': 0.3309979126094584,\n",
       " 'colsample_bytree': 0.7308072004331211,\n",
       " 'reg_alpha': 0.0009765625,\n",
       " 'reg_lambda': 0.37343817725165074}"
      ]
     },
     "execution_count": 47,
     "metadata": {},
     "output_type": "execute_result"
    }
   ],
   "source": [
    "automl.best_config"
   ]
  },
  {
   "attachments": {},
   "cell_type": "markdown",
   "metadata": {},
   "source": [
    "DF of estimators and their configs tried (best)"
   ]
  },
  {
   "cell_type": "code",
   "execution_count": 51,
   "metadata": {},
   "outputs": [
    {
     "data": {
      "text/html": [
       "<div>\n",
       "<style scoped>\n",
       "    .dataframe tbody tr th:only-of-type {\n",
       "        vertical-align: middle;\n",
       "    }\n",
       "\n",
       "    .dataframe tbody tr th {\n",
       "        vertical-align: top;\n",
       "    }\n",
       "\n",
       "    .dataframe thead th {\n",
       "        text-align: right;\n",
       "    }\n",
       "</style>\n",
       "<table border=\"1\" class=\"dataframe\">\n",
       "  <thead>\n",
       "    <tr style=\"text-align: right;\">\n",
       "      <th></th>\n",
       "      <th>lgbm</th>\n",
       "      <th>rf</th>\n",
       "      <th>xgboost</th>\n",
       "      <th>extra_tree</th>\n",
       "      <th>xgb_limitdepth</th>\n",
       "      <th>lrl1</th>\n",
       "    </tr>\n",
       "  </thead>\n",
       "  <tbody>\n",
       "    <tr>\n",
       "      <th>n_estimators</th>\n",
       "      <td>343.000000</td>\n",
       "      <td>15</td>\n",
       "      <td>721.000000</td>\n",
       "      <td>90</td>\n",
       "      <td>30.000000</td>\n",
       "      <td>NaN</td>\n",
       "    </tr>\n",
       "    <tr>\n",
       "      <th>num_leaves</th>\n",
       "      <td>103.000000</td>\n",
       "      <td>NaN</td>\n",
       "      <td>NaN</td>\n",
       "      <td>NaN</td>\n",
       "      <td>NaN</td>\n",
       "      <td>NaN</td>\n",
       "    </tr>\n",
       "    <tr>\n",
       "      <th>min_child_samples</th>\n",
       "      <td>2.000000</td>\n",
       "      <td>NaN</td>\n",
       "      <td>NaN</td>\n",
       "      <td>NaN</td>\n",
       "      <td>NaN</td>\n",
       "      <td>NaN</td>\n",
       "    </tr>\n",
       "    <tr>\n",
       "      <th>learning_rate</th>\n",
       "      <td>0.064725</td>\n",
       "      <td>NaN</td>\n",
       "      <td>0.026815</td>\n",
       "      <td>NaN</td>\n",
       "      <td>0.464317</td>\n",
       "      <td>NaN</td>\n",
       "    </tr>\n",
       "    <tr>\n",
       "      <th>log_max_bin</th>\n",
       "      <td>10.000000</td>\n",
       "      <td>NaN</td>\n",
       "      <td>NaN</td>\n",
       "      <td>NaN</td>\n",
       "      <td>NaN</td>\n",
       "      <td>NaN</td>\n",
       "    </tr>\n",
       "    <tr>\n",
       "      <th>colsample_bytree</th>\n",
       "      <td>0.831798</td>\n",
       "      <td>NaN</td>\n",
       "      <td>0.730807</td>\n",
       "      <td>NaN</td>\n",
       "      <td>1.000000</td>\n",
       "      <td>NaN</td>\n",
       "    </tr>\n",
       "    <tr>\n",
       "      <th>reg_alpha</th>\n",
       "      <td>0.002015</td>\n",
       "      <td>NaN</td>\n",
       "      <td>0.000977</td>\n",
       "      <td>NaN</td>\n",
       "      <td>0.000977</td>\n",
       "      <td>NaN</td>\n",
       "    </tr>\n",
       "    <tr>\n",
       "      <th>reg_lambda</th>\n",
       "      <td>62.376645</td>\n",
       "      <td>NaN</td>\n",
       "      <td>0.373438</td>\n",
       "      <td>NaN</td>\n",
       "      <td>0.086777</td>\n",
       "      <td>NaN</td>\n",
       "    </tr>\n",
       "    <tr>\n",
       "      <th>max_features</th>\n",
       "      <td>NaN</td>\n",
       "      <td>0.073721</td>\n",
       "      <td>NaN</td>\n",
       "      <td>0.152882</td>\n",
       "      <td>NaN</td>\n",
       "      <td>NaN</td>\n",
       "    </tr>\n",
       "    <tr>\n",
       "      <th>max_leaves</th>\n",
       "      <td>NaN</td>\n",
       "      <td>6</td>\n",
       "      <td>248.000000</td>\n",
       "      <td>246</td>\n",
       "      <td>NaN</td>\n",
       "      <td>NaN</td>\n",
       "    </tr>\n",
       "    <tr>\n",
       "      <th>criterion</th>\n",
       "      <td>NaN</td>\n",
       "      <td>entropy</td>\n",
       "      <td>NaN</td>\n",
       "      <td>entropy</td>\n",
       "      <td>NaN</td>\n",
       "      <td>NaN</td>\n",
       "    </tr>\n",
       "    <tr>\n",
       "      <th>min_child_weight</th>\n",
       "      <td>NaN</td>\n",
       "      <td>NaN</td>\n",
       "      <td>3.563472</td>\n",
       "      <td>NaN</td>\n",
       "      <td>2.200519</td>\n",
       "      <td>NaN</td>\n",
       "    </tr>\n",
       "    <tr>\n",
       "      <th>subsample</th>\n",
       "      <td>NaN</td>\n",
       "      <td>NaN</td>\n",
       "      <td>0.827351</td>\n",
       "      <td>NaN</td>\n",
       "      <td>0.966111</td>\n",
       "      <td>NaN</td>\n",
       "    </tr>\n",
       "    <tr>\n",
       "      <th>colsample_bylevel</th>\n",
       "      <td>NaN</td>\n",
       "      <td>NaN</td>\n",
       "      <td>0.330998</td>\n",
       "      <td>NaN</td>\n",
       "      <td>0.972262</td>\n",
       "      <td>NaN</td>\n",
       "    </tr>\n",
       "    <tr>\n",
       "      <th>max_depth</th>\n",
       "      <td>NaN</td>\n",
       "      <td>NaN</td>\n",
       "      <td>NaN</td>\n",
       "      <td>NaN</td>\n",
       "      <td>4.000000</td>\n",
       "      <td>NaN</td>\n",
       "    </tr>\n",
       "    <tr>\n",
       "      <th>C</th>\n",
       "      <td>NaN</td>\n",
       "      <td>NaN</td>\n",
       "      <td>NaN</td>\n",
       "      <td>NaN</td>\n",
       "      <td>NaN</td>\n",
       "      <td>0.25</td>\n",
       "    </tr>\n",
       "  </tbody>\n",
       "</table>\n",
       "</div>"
      ],
      "text/plain": [
       "                         lgbm        rf     xgboost extra_tree  \\\n",
       "n_estimators       343.000000        15  721.000000         90   \n",
       "num_leaves         103.000000       NaN         NaN        NaN   \n",
       "min_child_samples    2.000000       NaN         NaN        NaN   \n",
       "learning_rate        0.064725       NaN    0.026815        NaN   \n",
       "log_max_bin         10.000000       NaN         NaN        NaN   \n",
       "colsample_bytree     0.831798       NaN    0.730807        NaN   \n",
       "reg_alpha            0.002015       NaN    0.000977        NaN   \n",
       "reg_lambda          62.376645       NaN    0.373438        NaN   \n",
       "max_features              NaN  0.073721         NaN   0.152882   \n",
       "max_leaves                NaN         6  248.000000        246   \n",
       "criterion                 NaN   entropy         NaN    entropy   \n",
       "min_child_weight          NaN       NaN    3.563472        NaN   \n",
       "subsample                 NaN       NaN    0.827351        NaN   \n",
       "colsample_bylevel         NaN       NaN    0.330998        NaN   \n",
       "max_depth                 NaN       NaN         NaN        NaN   \n",
       "C                         NaN       NaN         NaN        NaN   \n",
       "\n",
       "                   xgb_limitdepth  lrl1  \n",
       "n_estimators            30.000000   NaN  \n",
       "num_leaves                    NaN   NaN  \n",
       "min_child_samples             NaN   NaN  \n",
       "learning_rate            0.464317   NaN  \n",
       "log_max_bin                   NaN   NaN  \n",
       "colsample_bytree         1.000000   NaN  \n",
       "reg_alpha                0.000977   NaN  \n",
       "reg_lambda               0.086777   NaN  \n",
       "max_features                  NaN   NaN  \n",
       "max_leaves                    NaN   NaN  \n",
       "criterion                     NaN   NaN  \n",
       "min_child_weight         2.200519   NaN  \n",
       "subsample                0.966111   NaN  \n",
       "colsample_bylevel        0.972262   NaN  \n",
       "max_depth                4.000000   NaN  \n",
       "C                             NaN  0.25  "
      ]
     },
     "execution_count": 51,
     "metadata": {},
     "output_type": "execute_result"
    }
   ],
   "source": [
    "configs_ests = pd.DataFrame.from_dict(automl.best_config_per_estimator)\n",
    "configs_ests"
   ]
  },
  {
   "attachments": {},
   "cell_type": "markdown",
   "metadata": {},
   "source": [
    "Losses by estimator"
   ]
  },
  {
   "cell_type": "code",
   "execution_count": 67,
   "metadata": {},
   "outputs": [
    {
     "data": {
      "text/plain": [
       "[('xgboost', 0.09851426664406271),\n",
       " ('lgbm', 0.099444016176789),\n",
       " ('xgb_limitdepth', 0.11447781022660508),\n",
       " ('extra_tree', 0.12129952755502549),\n",
       " ('rf', 0.14625602551266836),\n",
       " ('lrl1', 0.38003272249215514)]"
      ]
     },
     "execution_count": 67,
     "metadata": {},
     "output_type": "execute_result"
    }
   ],
   "source": [
    "loss = sorted(automl.best_loss_per_estimator.items(),key=lambda item: item[1])\n",
    "loss"
   ]
  },
  {
   "attachments": {},
   "cell_type": "markdown",
   "metadata": {},
   "source": [
    "https://microsoft.github.io/FLAML/docs/Use-Cases/Task-Oriented-AutoML link to types of estimators FLAML uses"
   ]
  },
  {
   "attachments": {},
   "cell_type": "markdown",
   "metadata": {},
   "source": [
    "Overall, xgboost and lgbm perform best."
   ]
  },
  {
   "cell_type": "code",
   "execution_count": 98,
   "metadata": {},
   "outputs": [],
   "source": [
    "feats_df = pd.DataFrame(automl.feature_importances_.T, columns=['value'], index=automl.feature_names_in_)"
   ]
  },
  {
   "attachments": {},
   "cell_type": "markdown",
   "metadata": {},
   "source": [
    "#### most important values from the model"
   ]
  },
  {
   "cell_type": "code",
   "execution_count": 107,
   "metadata": {},
   "outputs": [
    {
     "data": {
      "text/html": [
       "<div>\n",
       "<style scoped>\n",
       "    .dataframe tbody tr th:only-of-type {\n",
       "        vertical-align: middle;\n",
       "    }\n",
       "\n",
       "    .dataframe tbody tr th {\n",
       "        vertical-align: top;\n",
       "    }\n",
       "\n",
       "    .dataframe thead th {\n",
       "        text-align: right;\n",
       "    }\n",
       "</style>\n",
       "<table border=\"1\" class=\"dataframe\">\n",
       "  <thead>\n",
       "    <tr style=\"text-align: right;\">\n",
       "      <th></th>\n",
       "      <th>value</th>\n",
       "    </tr>\n",
       "  </thead>\n",
       "  <tbody>\n",
       "    <tr>\n",
       "      <th>ventilated_apache</th>\n",
       "      <td>0.034108</td>\n",
       "    </tr>\n",
       "    <tr>\n",
       "      <th>apache_4a_hospital_death_prob</th>\n",
       "      <td>0.032246</td>\n",
       "    </tr>\n",
       "    <tr>\n",
       "      <th>apache_4a_icu_death_prob</th>\n",
       "      <td>0.029346</td>\n",
       "    </tr>\n",
       "    <tr>\n",
       "      <th>d1_lactate_min</th>\n",
       "      <td>0.022601</td>\n",
       "    </tr>\n",
       "    <tr>\n",
       "      <th>gcs_motor_apache</th>\n",
       "      <td>0.021035</td>\n",
       "    </tr>\n",
       "    <tr>\n",
       "      <th>apache_post_operative</th>\n",
       "      <td>0.020926</td>\n",
       "    </tr>\n",
       "    <tr>\n",
       "      <th>gcs_eyes_apache</th>\n",
       "      <td>0.018312</td>\n",
       "    </tr>\n",
       "    <tr>\n",
       "      <th>elective_surgery</th>\n",
       "      <td>0.016138</td>\n",
       "    </tr>\n",
       "    <tr>\n",
       "      <th>d1_lactate_max</th>\n",
       "      <td>0.013959</td>\n",
       "    </tr>\n",
       "    <tr>\n",
       "      <th>d1_sysbp_min</th>\n",
       "      <td>0.009192</td>\n",
       "    </tr>\n",
       "    <tr>\n",
       "      <th>solid_tumor_with_metastasis</th>\n",
       "      <td>0.008049</td>\n",
       "    </tr>\n",
       "    <tr>\n",
       "      <th>d1_arterial_ph_min</th>\n",
       "      <td>0.008024</td>\n",
       "    </tr>\n",
       "    <tr>\n",
       "      <th>hepatic_failure</th>\n",
       "      <td>0.007946</td>\n",
       "    </tr>\n",
       "    <tr>\n",
       "      <th>d1_spo2_min</th>\n",
       "      <td>0.007929</td>\n",
       "    </tr>\n",
       "    <tr>\n",
       "      <th>d1_bun_max</th>\n",
       "      <td>0.007108</td>\n",
       "    </tr>\n",
       "    <tr>\n",
       "      <th>d1_heartrate_min</th>\n",
       "      <td>0.007022</td>\n",
       "    </tr>\n",
       "    <tr>\n",
       "      <th>apache_3j_diagnosis</th>\n",
       "      <td>0.006767</td>\n",
       "    </tr>\n",
       "    <tr>\n",
       "      <th>immunosuppression</th>\n",
       "      <td>0.006607</td>\n",
       "    </tr>\n",
       "    <tr>\n",
       "      <th>d1_spo2_max</th>\n",
       "      <td>0.006287</td>\n",
       "    </tr>\n",
       "    <tr>\n",
       "      <th>d1_arterial_ph_max</th>\n",
       "      <td>0.006282</td>\n",
       "    </tr>\n",
       "    <tr>\n",
       "      <th>d1_bun_min</th>\n",
       "      <td>0.006262</td>\n",
       "    </tr>\n",
       "    <tr>\n",
       "      <th>d1_pao2fio2ratio_max</th>\n",
       "      <td>0.006078</td>\n",
       "    </tr>\n",
       "    <tr>\n",
       "      <th>d1_pao2fio2ratio_min</th>\n",
       "      <td>0.005997</td>\n",
       "    </tr>\n",
       "    <tr>\n",
       "      <th>d1_sysbp_noninvasive_min</th>\n",
       "      <td>0.005918</td>\n",
       "    </tr>\n",
       "    <tr>\n",
       "      <th>icu_admit_source</th>\n",
       "      <td>0.005906</td>\n",
       "    </tr>\n",
       "    <tr>\n",
       "      <th>d1_sysbp_invasive_min</th>\n",
       "      <td>0.005846</td>\n",
       "    </tr>\n",
       "    <tr>\n",
       "      <th>age</th>\n",
       "      <td>0.005807</td>\n",
       "    </tr>\n",
       "    <tr>\n",
       "      <th>d1_inr_max</th>\n",
       "      <td>0.005626</td>\n",
       "    </tr>\n",
       "    <tr>\n",
       "      <th>cirrhosis</th>\n",
       "      <td>0.005581</td>\n",
       "    </tr>\n",
       "    <tr>\n",
       "      <th>ph_apache</th>\n",
       "      <td>0.005565</td>\n",
       "    </tr>\n",
       "  </tbody>\n",
       "</table>\n",
       "</div>"
      ],
      "text/plain": [
       "                                  value\n",
       "ventilated_apache              0.034108\n",
       "apache_4a_hospital_death_prob  0.032246\n",
       "apache_4a_icu_death_prob       0.029346\n",
       "d1_lactate_min                 0.022601\n",
       "gcs_motor_apache               0.021035\n",
       "apache_post_operative          0.020926\n",
       "gcs_eyes_apache                0.018312\n",
       "elective_surgery               0.016138\n",
       "d1_lactate_max                 0.013959\n",
       "d1_sysbp_min                   0.009192\n",
       "solid_tumor_with_metastasis    0.008049\n",
       "d1_arterial_ph_min             0.008024\n",
       "hepatic_failure                0.007946\n",
       "d1_spo2_min                    0.007929\n",
       "d1_bun_max                     0.007108\n",
       "d1_heartrate_min               0.007022\n",
       "apache_3j_diagnosis            0.006767\n",
       "immunosuppression              0.006607\n",
       "d1_spo2_max                    0.006287\n",
       "d1_arterial_ph_max             0.006282\n",
       "d1_bun_min                     0.006262\n",
       "d1_pao2fio2ratio_max           0.006078\n",
       "d1_pao2fio2ratio_min           0.005997\n",
       "d1_sysbp_noninvasive_min       0.005918\n",
       "icu_admit_source               0.005906\n",
       "d1_sysbp_invasive_min          0.005846\n",
       "age                            0.005807\n",
       "d1_inr_max                     0.005626\n",
       "cirrhosis                      0.005581\n",
       "ph_apache                      0.005565"
      ]
     },
     "execution_count": 107,
     "metadata": {},
     "output_type": "execute_result"
    }
   ],
   "source": [
    "feats_df.sort_values('value',ascending=False).head(30)"
   ]
  },
  {
   "attachments": {},
   "cell_type": "markdown",
   "metadata": {},
   "source": [
    "note: for looking at how age/gender/race affect things, we'd need to look at them after the fact and add back manually. As in, say we take top 20 factors in above df, but then we'd want to run our actual models with those 20 factors PLUS any feats about age/gender/race etc. to see if there's correlation"
   ]
  },
  {
   "attachments": {},
   "cell_type": "markdown",
   "metadata": {},
   "source": [
    "prediction"
   ]
  },
  {
   "cell_type": "code",
   "execution_count": 117,
   "metadata": {},
   "outputs": [],
   "source": [
    "pred = automl.predict(x_test)"
   ]
  },
  {
   "attachments": {},
   "cell_type": "markdown",
   "metadata": {},
   "source": [
    "Accuracy of prediction"
   ]
  },
  {
   "cell_type": "code",
   "execution_count": 158,
   "metadata": {},
   "outputs": [],
   "source": [
    "y = list(y_test)"
   ]
  },
  {
   "cell_type": "code",
   "execution_count": 161,
   "metadata": {},
   "outputs": [],
   "source": [
    "correct = 0\n",
    "for i in range(len(pred)):\n",
    "    if pred[i] == y[i]:\n",
    "        correct += 1\n",
    "acc = ((correct / float(len(pred))) * 100.0)"
   ]
  },
  {
   "cell_type": "code",
   "execution_count": 160,
   "metadata": {},
   "outputs": [
    {
     "data": {
      "text/plain": [
       "93.28361463648655"
      ]
     },
     "execution_count": 160,
     "metadata": {},
     "output_type": "execute_result"
    }
   ],
   "source": [
    "acc"
   ]
  },
  {
   "cell_type": "code",
   "execution_count": null,
   "metadata": {},
   "outputs": [],
   "source": []
  }
 ],
 "metadata": {
  "kernelspec": {
   "display_name": "Python 3",
   "language": "python",
   "name": "python3"
  },
  "language_info": {
   "codemirror_mode": {
    "name": "ipython",
    "version": 3
   },
   "file_extension": ".py",
   "mimetype": "text/x-python",
   "name": "python",
   "nbconvert_exporter": "python",
   "pygments_lexer": "ipython3",
   "version": "3.11.2"
  },
  "orig_nbformat": 4
 },
 "nbformat": 4,
 "nbformat_minor": 2
}
